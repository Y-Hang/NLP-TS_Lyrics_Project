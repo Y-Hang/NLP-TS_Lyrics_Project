{
 "cells": [
  {
   "cell_type": "markdown",
   "metadata": {},
   "source": [
    "## Taylor Swift Lyrics Analysis Project"
   ]
  },
  {
   "cell_type": "markdown",
   "metadata": {},
   "source": [
    "This project focuses on the songs from Taylor Swift's 7 studio albums (self-titled, Fearless, Speak Now, Red, 1989, reputation and Lover). On Kaggle, I found a dataset uploaded by PromptCloud who collected the lyrics of the first 6 albums (from self-titled to reputation). For Taylor's newest album Lover, I scraped the lyrics pages of songs in this album on https://www.azlyrics.com/. \n",
    "\n",
    "Kaggle dataset link: https://www.kaggle.com/PromptCloudHQ/taylor-swift-song-lyrics-from-all-the-albums"
   ]
  },
  {
   "cell_type": "code",
   "execution_count": 1,
   "metadata": {},
   "outputs": [],
   "source": [
    "# Data processing and visualization libs\n",
    "import pandas as pd\n",
    "import numpy as np\n",
    "import collections\n",
    "import matplotlib.pyplot as plt\n",
    "import pyvis\n",
    "from pyvis.network import Network\n",
    "import plotly\n",
    "import plotly.express as px\n",
    "import plotly.graph_objects as go\n",
    "\n",
    "# Web scraping libs\n",
    "import time\n",
    "import requests\n",
    "from bs4 import BeautifulSoup\n",
    "\n",
    "# NLP libs\n",
    "import nltk\n",
    "import nltk.corpus\n",
    "import string\n",
    "from nltk.corpus import stopwords\n",
    "from nltk.stem import PorterStemmer\n",
    "from nltk.stem import WordNetLemmatizer"
   ]
  },
  {
   "cell_type": "markdown",
   "metadata": {},
   "source": [
    "## Part I: Get the Lyrics"
   ]
  },
  {
   "cell_type": "code",
   "execution_count": 25,
   "metadata": {},
   "outputs": [
    {
     "data": {
      "text/html": [
       "<div>\n",
       "<style scoped>\n",
       "    .dataframe tbody tr th:only-of-type {\n",
       "        vertical-align: middle;\n",
       "    }\n",
       "\n",
       "    .dataframe tbody tr th {\n",
       "        vertical-align: top;\n",
       "    }\n",
       "\n",
       "    .dataframe thead th {\n",
       "        text-align: right;\n",
       "    }\n",
       "</style>\n",
       "<table border=\"1\" class=\"dataframe\">\n",
       "  <thead>\n",
       "    <tr style=\"text-align: right;\">\n",
       "      <th></th>\n",
       "      <th>artist</th>\n",
       "      <th>album</th>\n",
       "      <th>track_title</th>\n",
       "      <th>track_n</th>\n",
       "      <th>lyric</th>\n",
       "      <th>line</th>\n",
       "      <th>year</th>\n",
       "    </tr>\n",
       "  </thead>\n",
       "  <tbody>\n",
       "    <tr>\n",
       "      <th>0</th>\n",
       "      <td>Taylor Swift</td>\n",
       "      <td>Taylor Swift</td>\n",
       "      <td>Tim McGraw</td>\n",
       "      <td>1</td>\n",
       "      <td>He said the way my blue eyes shined</td>\n",
       "      <td>1</td>\n",
       "      <td>2006</td>\n",
       "    </tr>\n",
       "    <tr>\n",
       "      <th>1</th>\n",
       "      <td>Taylor Swift</td>\n",
       "      <td>Taylor Swift</td>\n",
       "      <td>Tim McGraw</td>\n",
       "      <td>1</td>\n",
       "      <td>Put those Georgia stars to shame that night</td>\n",
       "      <td>2</td>\n",
       "      <td>2006</td>\n",
       "    </tr>\n",
       "    <tr>\n",
       "      <th>2</th>\n",
       "      <td>Taylor Swift</td>\n",
       "      <td>Taylor Swift</td>\n",
       "      <td>Tim McGraw</td>\n",
       "      <td>1</td>\n",
       "      <td>I said, \"That's a lie\"</td>\n",
       "      <td>3</td>\n",
       "      <td>2006</td>\n",
       "    </tr>\n",
       "    <tr>\n",
       "      <th>3</th>\n",
       "      <td>Taylor Swift</td>\n",
       "      <td>Taylor Swift</td>\n",
       "      <td>Tim McGraw</td>\n",
       "      <td>1</td>\n",
       "      <td>Just a boy in a Chevy truck</td>\n",
       "      <td>4</td>\n",
       "      <td>2006</td>\n",
       "    </tr>\n",
       "    <tr>\n",
       "      <th>4</th>\n",
       "      <td>Taylor Swift</td>\n",
       "      <td>Taylor Swift</td>\n",
       "      <td>Tim McGraw</td>\n",
       "      <td>1</td>\n",
       "      <td>That had a tendency of gettin' stuck</td>\n",
       "      <td>5</td>\n",
       "      <td>2006</td>\n",
       "    </tr>\n",
       "  </tbody>\n",
       "</table>\n",
       "</div>"
      ],
      "text/plain": [
       "         artist         album track_title  track_n  \\\n",
       "0  Taylor Swift  Taylor Swift  Tim McGraw        1   \n",
       "1  Taylor Swift  Taylor Swift  Tim McGraw        1   \n",
       "2  Taylor Swift  Taylor Swift  Tim McGraw        1   \n",
       "3  Taylor Swift  Taylor Swift  Tim McGraw        1   \n",
       "4  Taylor Swift  Taylor Swift  Tim McGraw        1   \n",
       "\n",
       "                                         lyric  line  year  \n",
       "0          He said the way my blue eyes shined     1  2006  \n",
       "1  Put those Georgia stars to shame that night     2  2006  \n",
       "2                       I said, \"That's a lie\"     3  2006  \n",
       "3                  Just a boy in a Chevy truck     4  2006  \n",
       "4         That had a tendency of gettin' stuck     5  2006  "
      ]
     },
     "execution_count": 25,
     "metadata": {},
     "output_type": "execute_result"
    }
   ],
   "source": [
    "# The Kaggle dataset is named taylor_swift_lyrics.csv. Read in the lyrics of first 6 albums\n",
    "lyrics = pd.read_csv('taylor_swift_lyrics.csv')\n",
    "\n",
    "# Each row of this dataset is one single line of lyrics of each song, which is not what we want.\n",
    "lyrics.head()"
   ]
  },
  {
   "cell_type": "code",
   "execution_count": 26,
   "metadata": {},
   "outputs": [
    {
     "data": {
      "text/html": [
       "<div>\n",
       "<style scoped>\n",
       "    .dataframe tbody tr th:only-of-type {\n",
       "        vertical-align: middle;\n",
       "    }\n",
       "\n",
       "    .dataframe tbody tr th {\n",
       "        vertical-align: top;\n",
       "    }\n",
       "\n",
       "    .dataframe thead th {\n",
       "        text-align: right;\n",
       "    }\n",
       "</style>\n",
       "<table border=\"1\" class=\"dataframe\">\n",
       "  <thead>\n",
       "    <tr style=\"text-align: right;\">\n",
       "      <th></th>\n",
       "      <th>album</th>\n",
       "      <th>track_title</th>\n",
       "      <th>lyric_all</th>\n",
       "    </tr>\n",
       "  </thead>\n",
       "  <tbody>\n",
       "    <tr>\n",
       "      <th>0</th>\n",
       "      <td>1989</td>\n",
       "      <td>All You Had to Do Was Stay</td>\n",
       "      <td>People like you always want back The love they...</td>\n",
       "    </tr>\n",
       "    <tr>\n",
       "      <th>1</th>\n",
       "      <td>1989</td>\n",
       "      <td>Bad Blood</td>\n",
       "      <td>'Cause baby, now we've got bad blood You know ...</td>\n",
       "    </tr>\n",
       "    <tr>\n",
       "      <th>2</th>\n",
       "      <td>1989</td>\n",
       "      <td>Blank Space</td>\n",
       "      <td>Nice to meet you, where you been? I could show...</td>\n",
       "    </tr>\n",
       "    <tr>\n",
       "      <th>3</th>\n",
       "      <td>1989</td>\n",
       "      <td>Clean</td>\n",
       "      <td>The drought was the very worst When the flower...</td>\n",
       "    </tr>\n",
       "    <tr>\n",
       "      <th>4</th>\n",
       "      <td>1989</td>\n",
       "      <td>How You Get The Girl</td>\n",
       "      <td>Uh, uh, uh Uh, uh, uh Uh-uh, uh-uh Stand there...</td>\n",
       "    </tr>\n",
       "  </tbody>\n",
       "</table>\n",
       "</div>"
      ],
      "text/plain": [
       "  album                 track_title  \\\n",
       "0  1989  All You Had to Do Was Stay   \n",
       "1  1989                   Bad Blood   \n",
       "2  1989                 Blank Space   \n",
       "3  1989                       Clean   \n",
       "4  1989        How You Get The Girl   \n",
       "\n",
       "                                           lyric_all  \n",
       "0  People like you always want back The love they...  \n",
       "1  'Cause baby, now we've got bad blood You know ...  \n",
       "2  Nice to meet you, where you been? I could show...  \n",
       "3  The drought was the very worst When the flower...  \n",
       "4  Uh, uh, uh Uh, uh, uh Uh-uh, uh-uh Stand there...  "
      ]
     },
     "execution_count": 26,
     "metadata": {},
     "output_type": "execute_result"
    }
   ],
   "source": [
    "# Concatenate the lyrics of each songs using groupby\n",
    "songs_part1 = lyrics[['album', 'track_title', 'lyric']].groupby(['album', 'track_title']).agg({'lyric': lambda x: x.str.cat(sep = ' ')}).reset_index()\n",
    "\n",
    "# Change the column lyric to lyric_all\n",
    "songs_part1.columns = ['album', 'track_title', 'lyric_all']\n",
    "songs_part1.head()"
   ]
  },
  {
   "cell_type": "code",
   "execution_count": 27,
   "metadata": {},
   "outputs": [],
   "source": [
    "# Before we continue, we need to get the lyrics of songs in album Lover\n",
    "\n",
    "# I found a website (https://www.azlyrics.com) that provides the lyrics of songs in Lover\n",
    "# The root_url is the lyrics page of the first song 'I Forgot That You Existed' in album Lover\n",
    "# This page also contains all the other lyrics pages' links on https://www.azlyrics.com\n",
    "# I scraped this page to get all the lyrics pages' links\n",
    "root_url = 'https://www.azlyrics.com/lyrics/taylorswift/iforgotthatyouexisted.html'\n",
    "root_html = requests.get(root_url)\n",
    "root_bs = BeautifulSoup(root_html.text, 'html.parser')"
   ]
  },
  {
   "cell_type": "code",
   "execution_count": 28,
   "metadata": {},
   "outputs": [],
   "source": [
    "# Store each song's title in lover_track_title\n",
    "lover_track_title = [track.get_text() for track in root_bs.find_all('div', class_= 'panel songlist-panel noprint')[0].find_all('a')]"
   ]
  },
  {
   "cell_type": "code",
   "execution_count": 29,
   "metadata": {},
   "outputs": [],
   "source": [
    "# Store each song's lyrics page link in lover_track_url\n",
    "lover_track_url = ['https://www.azlyrics.com/lyrics/taylorswift/' + track['href'] for track in root_bs.find_all('div', class_= 'panel songlist-panel noprint')[0].find_all('a')]"
   ]
  },
  {
   "cell_type": "code",
   "execution_count": 30,
   "metadata": {},
   "outputs": [
    {
     "data": {
      "text/plain": [
       "['https://www.azlyrics.com/lyrics/taylorswift/iforgotthatyouexisted.html',\n",
       " 'https://www.azlyrics.com/lyrics/taylorswift/cruelsummer.html',\n",
       " 'https://www.azlyrics.com/lyrics/taylorswift/lover.html',\n",
       " 'https://www.azlyrics.com/lyrics/taylorswift/theman.html',\n",
       " 'https://www.azlyrics.com/lyrics/taylorswift/thearcher.html',\n",
       " 'https://www.azlyrics.com/lyrics/taylorswift/ithinkheknows.html',\n",
       " 'https://www.azlyrics.com/lyrics/taylorswift/missamericanatheheartbreakprince.html',\n",
       " 'https://www.azlyrics.com/lyrics/taylorswift/paperrings.html',\n",
       " 'https://www.azlyrics.com/lyrics/taylorswift/corneliastreet.html',\n",
       " 'https://www.azlyrics.com/lyrics/taylorswift/deathbyathousandcuts.html',\n",
       " 'https://www.azlyrics.com/lyrics/taylorswift/londonboy.html',\n",
       " 'https://www.azlyrics.com/lyrics/taylorswift/soonyoullgetbetter.html',\n",
       " 'https://www.azlyrics.com/lyrics/taylorswift/falsegod.html',\n",
       " 'https://www.azlyrics.com/lyrics/taylorswift/youneedtocalmdown.html',\n",
       " 'https://www.azlyrics.com/lyrics/taylorswift/afterglow.html',\n",
       " 'https://www.azlyrics.com/lyrics/taylorswift/me.html',\n",
       " 'https://www.azlyrics.com/lyrics/taylorswift/itsnicetohaveafriend.html',\n",
       " 'https://www.azlyrics.com/lyrics/taylorswift/daylight.html']"
      ]
     },
     "execution_count": 30,
     "metadata": {},
     "output_type": "execute_result"
    }
   ],
   "source": [
    "lover_track_url"
   ]
  },
  {
   "cell_type": "code",
   "execution_count": 31,
   "metadata": {},
   "outputs": [
    {
     "data": {
      "text/html": [
       "<div>\n",
       "<style scoped>\n",
       "    .dataframe tbody tr th:only-of-type {\n",
       "        vertical-align: middle;\n",
       "    }\n",
       "\n",
       "    .dataframe tbody tr th {\n",
       "        vertical-align: top;\n",
       "    }\n",
       "\n",
       "    .dataframe thead th {\n",
       "        text-align: right;\n",
       "    }\n",
       "</style>\n",
       "<table border=\"1\" class=\"dataframe\">\n",
       "  <thead>\n",
       "    <tr style=\"text-align: right;\">\n",
       "      <th></th>\n",
       "      <th>album</th>\n",
       "      <th>track_title</th>\n",
       "      <th>lyric_all</th>\n",
       "    </tr>\n",
       "  </thead>\n",
       "  <tbody>\n",
       "    <tr>\n",
       "      <th>0</th>\n",
       "      <td>Lover</td>\n",
       "      <td>I Forgot That You Existed</td>\n",
       "      <td>\\n\\r\\nHow many days did I spend thinking\\n'Bou...</td>\n",
       "    </tr>\n",
       "    <tr>\n",
       "      <th>1</th>\n",
       "      <td>Lover</td>\n",
       "      <td>Cruel Summer</td>\n",
       "      <td>\\n\\r\\n(Yeah, yeah, yeah, yeah)\\n\\nFever dream ...</td>\n",
       "    </tr>\n",
       "    <tr>\n",
       "      <th>2</th>\n",
       "      <td>Lover</td>\n",
       "      <td>Lover</td>\n",
       "      <td>\\n\\r\\nWe could leave the Christmas lights up '...</td>\n",
       "    </tr>\n",
       "    <tr>\n",
       "      <th>3</th>\n",
       "      <td>Lover</td>\n",
       "      <td>The Man</td>\n",
       "      <td>\\n\\r\\nI would be complex, I would be cool\\nThe...</td>\n",
       "    </tr>\n",
       "    <tr>\n",
       "      <th>4</th>\n",
       "      <td>Lover</td>\n",
       "      <td>The Archer</td>\n",
       "      <td>\\n\\r\\nCombat\\nI'm ready for combat\\nI say I do...</td>\n",
       "    </tr>\n",
       "  </tbody>\n",
       "</table>\n",
       "</div>"
      ],
      "text/plain": [
       "   album                track_title  \\\n",
       "0  Lover  I Forgot That You Existed   \n",
       "1  Lover               Cruel Summer   \n",
       "2  Lover                      Lover   \n",
       "3  Lover                    The Man   \n",
       "4  Lover                 The Archer   \n",
       "\n",
       "                                           lyric_all  \n",
       "0  \\n\\r\\nHow many days did I spend thinking\\n'Bou...  \n",
       "1  \\n\\r\\n(Yeah, yeah, yeah, yeah)\\n\\nFever dream ...  \n",
       "2  \\n\\r\\nWe could leave the Christmas lights up '...  \n",
       "3  \\n\\r\\nI would be complex, I would be cool\\nThe...  \n",
       "4  \\n\\r\\nCombat\\nI'm ready for combat\\nI say I do...  "
      ]
     },
     "execution_count": 31,
     "metadata": {},
     "output_type": "execute_result"
    }
   ],
   "source": [
    "# Create a new dataframe lover to store the lyrics data of album Lover\n",
    "lover = pd.DataFrame(index = range(0, len(lover_track_url)), columns = ['album', 'track_title', 'lyric_all'])\n",
    "lover['album'] = 'Lover'\n",
    "lover['track_title'] = lover_track_title\n",
    "\n",
    "# Scrape each song's lyrics page, get the lyrics, tokenize them and store the data\n",
    "for t in range(0, len(lover_track_title)):\n",
    "    url = lover_track_url[t]\n",
    "    html = requests.get(url)\n",
    "    bs = BeautifulSoup(html.text, 'html.parser')\n",
    "    lover.loc[t, 'lyric_all'] = bs.find_all('div')[9].find_all('div')[9].get_text()\n",
    "    time.sleep(1)\n",
    "\n",
    "# There are some \\n and \\r in the data (at the beginning for example) and we need to remove them\n",
    "lover.head()"
   ]
  },
  {
   "cell_type": "code",
   "execution_count": 32,
   "metadata": {},
   "outputs": [
    {
     "data": {
      "text/html": [
       "<div>\n",
       "<style scoped>\n",
       "    .dataframe tbody tr th:only-of-type {\n",
       "        vertical-align: middle;\n",
       "    }\n",
       "\n",
       "    .dataframe tbody tr th {\n",
       "        vertical-align: top;\n",
       "    }\n",
       "\n",
       "    .dataframe thead th {\n",
       "        text-align: right;\n",
       "    }\n",
       "</style>\n",
       "<table border=\"1\" class=\"dataframe\">\n",
       "  <thead>\n",
       "    <tr style=\"text-align: right;\">\n",
       "      <th></th>\n",
       "      <th>album</th>\n",
       "      <th>track_title</th>\n",
       "      <th>lyric_all</th>\n",
       "    </tr>\n",
       "  </thead>\n",
       "  <tbody>\n",
       "    <tr>\n",
       "      <th>0</th>\n",
       "      <td>Lover</td>\n",
       "      <td>I Forgot That You Existed</td>\n",
       "      <td>How many days did I spend thinking 'Bout ho...</td>\n",
       "    </tr>\n",
       "    <tr>\n",
       "      <th>1</th>\n",
       "      <td>Lover</td>\n",
       "      <td>Cruel Summer</td>\n",
       "      <td>(Yeah, yeah, yeah, yeah)  Fever dream high ...</td>\n",
       "    </tr>\n",
       "    <tr>\n",
       "      <th>2</th>\n",
       "      <td>Lover</td>\n",
       "      <td>Lover</td>\n",
       "      <td>We could leave the Christmas lights up 'til...</td>\n",
       "    </tr>\n",
       "    <tr>\n",
       "      <th>3</th>\n",
       "      <td>Lover</td>\n",
       "      <td>The Man</td>\n",
       "      <td>I would be complex, I would be cool They'd ...</td>\n",
       "    </tr>\n",
       "    <tr>\n",
       "      <th>4</th>\n",
       "      <td>Lover</td>\n",
       "      <td>The Archer</td>\n",
       "      <td>Combat I'm ready for combat I say I don't w...</td>\n",
       "    </tr>\n",
       "  </tbody>\n",
       "</table>\n",
       "</div>"
      ],
      "text/plain": [
       "   album                track_title  \\\n",
       "0  Lover  I Forgot That You Existed   \n",
       "1  Lover               Cruel Summer   \n",
       "2  Lover                      Lover   \n",
       "3  Lover                    The Man   \n",
       "4  Lover                 The Archer   \n",
       "\n",
       "                                           lyric_all  \n",
       "0     How many days did I spend thinking 'Bout ho...  \n",
       "1     (Yeah, yeah, yeah, yeah)  Fever dream high ...  \n",
       "2     We could leave the Christmas lights up 'til...  \n",
       "3     I would be complex, I would be cool They'd ...  \n",
       "4     Combat I'm ready for combat I say I don't w...  "
      ]
     },
     "execution_count": 32,
     "metadata": {},
     "output_type": "execute_result"
    }
   ],
   "source": [
    "# Replace the \\n and \\r with blankspaces to avoid unwanted concatenation\n",
    "lover['lyric_all'] = lover['lyric_all'].apply(lambda x: x.replace('\\n', ' ').replace('\\r', ' '))\n",
    "lover.head()"
   ]
  },
  {
   "cell_type": "code",
   "execution_count": 33,
   "metadata": {},
   "outputs": [],
   "source": [
    "# So far, we have successfully collected the lyrics data of album Lover and are ready to join it with the previous dataset songs\n",
    "# Append lover to songs\n",
    "songs = lover.append(songs_part1, ignore_index = True)"
   ]
  },
  {
   "cell_type": "markdown",
   "metadata": {},
   "source": [
    "## Part II: Preprocess the Lyrics"
   ]
  },
  {
   "cell_type": "code",
   "execution_count": 2,
   "metadata": {},
   "outputs": [],
   "source": [
    "songs = pd.read_csv('ts_lyrics_all7albums.csv')"
   ]
  },
  {
   "cell_type": "code",
   "execution_count": 3,
   "metadata": {},
   "outputs": [
    {
     "data": {
      "text/html": [
       "<div>\n",
       "<style scoped>\n",
       "    .dataframe tbody tr th:only-of-type {\n",
       "        vertical-align: middle;\n",
       "    }\n",
       "\n",
       "    .dataframe tbody tr th {\n",
       "        vertical-align: top;\n",
       "    }\n",
       "\n",
       "    .dataframe thead th {\n",
       "        text-align: right;\n",
       "    }\n",
       "</style>\n",
       "<table border=\"1\" class=\"dataframe\">\n",
       "  <thead>\n",
       "    <tr style=\"text-align: right;\">\n",
       "      <th></th>\n",
       "      <th>album</th>\n",
       "      <th>track_title</th>\n",
       "      <th>lyric_all</th>\n",
       "    </tr>\n",
       "  </thead>\n",
       "  <tbody>\n",
       "    <tr>\n",
       "      <th>0</th>\n",
       "      <td>Lover</td>\n",
       "      <td>Daylight</td>\n",
       "      <td>My love was as cruel as the cities I lived ...</td>\n",
       "    </tr>\n",
       "    <tr>\n",
       "      <th>1</th>\n",
       "      <td>Lover</td>\n",
       "      <td>Cornelia Street</td>\n",
       "      <td>We were in the backseat Drunk on something ...</td>\n",
       "    </tr>\n",
       "    <tr>\n",
       "      <th>2</th>\n",
       "      <td>Lover</td>\n",
       "      <td>I Forgot That You Existed</td>\n",
       "      <td>How many days did I spend thinking 'Bout ho...</td>\n",
       "    </tr>\n",
       "    <tr>\n",
       "      <th>3</th>\n",
       "      <td>Lover</td>\n",
       "      <td>Lover</td>\n",
       "      <td>We could leave the Christmas lights up 'til...</td>\n",
       "    </tr>\n",
       "    <tr>\n",
       "      <th>4</th>\n",
       "      <td>Lover</td>\n",
       "      <td>The Man</td>\n",
       "      <td>I would be complex, I would be cool They'd ...</td>\n",
       "    </tr>\n",
       "  </tbody>\n",
       "</table>\n",
       "</div>"
      ],
      "text/plain": [
       "   album                track_title  \\\n",
       "0  Lover                   Daylight   \n",
       "1  Lover            Cornelia Street   \n",
       "2  Lover  I Forgot That You Existed   \n",
       "3  Lover                      Lover   \n",
       "4  Lover                    The Man   \n",
       "\n",
       "                                           lyric_all  \n",
       "0     My love was as cruel as the cities I lived ...  \n",
       "1     We were in the backseat Drunk on something ...  \n",
       "2     How many days did I spend thinking 'Bout ho...  \n",
       "3     We could leave the Christmas lights up 'til...  \n",
       "4     I would be complex, I would be cool They'd ...  "
      ]
     },
     "execution_count": 3,
     "metadata": {},
     "output_type": "execute_result"
    }
   ],
   "source": [
    "songs.album = pd.Categorical(songs.album,\n",
    "                             categories=['Taylor Swift', 'Fearless', 'Speak Now', 'Red', '1989', 'reputation', 'Lover'],\n",
    "                             ordered=True)\n",
    "songs = songs.sort_values(by = 'album', ascending = False).reset_index(drop = True)\n",
    "songs.head()"
   ]
  },
  {
   "cell_type": "code",
   "execution_count": 4,
   "metadata": {},
   "outputs": [],
   "source": [
    "def preprocess(lyrics_df):\n",
    "    global stopwords\n",
    "    # Replace punctuations with whitespace.\n",
    "    lyrics_df['lyric_all'] = lyrics_df['lyric_all'].apply(lambda x: x.translate(str.maketrans(string.punctuation, ' '*len(string.punctuation))))\n",
    "    \n",
    "    # Tokenize the lyrics: break the lyrics into single lowercase words instead of sentences.\n",
    "    lyrics_df['lyric_all'] = lyrics_df['lyric_all'].apply(lambda x: x.lower().split(sep = ' '))\n",
    "    \n",
    "    # Remove the blankspaces used to replace \\n, \\r and punctuations\n",
    "    lyrics_df['lyric_all'] = lyrics_df['lyric_all'].apply(lambda xs: [x for x in xs if x not in [' ', '']])\n",
    "    \n",
    "    # Get the total counts of words\n",
    "    lyrics_df['total_count'] = lyrics_df['lyric_all'].apply(len)\n",
    "    \n",
    "    # Remove stopwords.\n",
    "    stop_words = set(stopwords.words('english'))\n",
    "    lyrics_df['lyric'] = lyrics_df['lyric_all'].apply(lambda xs: [x for x in xs if x not in stop_words])\n",
    "    \n",
    "    # Stem each word.\n",
    "    pst = PorterStemmer()\n",
    "    lyrics_df['lyric'] = lyrics_df['lyric'].apply(lambda xs: [pst.stem(x) for x in xs])\n",
    "    lyrics_df['lyric_all'] = lyrics_df['lyric_all'].apply(lambda xs: [pst.stem(x) for x in xs])\n",
    "    \n",
    "    # Count the number of unique words (excluding stopwords) in each song\n",
    "    lyrics_df['unique_count'] = lyrics_df['lyric'].apply(lambda x: len(np.unique(x)))\n",
    "    \n",
    "    # Divide the unique_count by total_count to better understand how repetitive each song's lyrics is\n",
    "    lyrics_df['uniqueness'] = lyrics_df['unique_count']/lyrics_df['total_count']\n",
    "    \n",
    "    return lyrics_df"
   ]
  },
  {
   "cell_type": "code",
   "execution_count": 5,
   "metadata": {},
   "outputs": [
    {
     "data": {
      "text/html": [
       "<div>\n",
       "<style scoped>\n",
       "    .dataframe tbody tr th:only-of-type {\n",
       "        vertical-align: middle;\n",
       "    }\n",
       "\n",
       "    .dataframe tbody tr th {\n",
       "        vertical-align: top;\n",
       "    }\n",
       "\n",
       "    .dataframe thead th {\n",
       "        text-align: right;\n",
       "    }\n",
       "</style>\n",
       "<table border=\"1\" class=\"dataframe\">\n",
       "  <thead>\n",
       "    <tr style=\"text-align: right;\">\n",
       "      <th></th>\n",
       "      <th>album</th>\n",
       "      <th>track_title</th>\n",
       "      <th>lyric_all</th>\n",
       "      <th>total_count</th>\n",
       "      <th>lyric</th>\n",
       "      <th>unique_count</th>\n",
       "      <th>uniqueness</th>\n",
       "    </tr>\n",
       "  </thead>\n",
       "  <tbody>\n",
       "    <tr>\n",
       "      <th>24</th>\n",
       "      <td>reputation</td>\n",
       "      <td>End Game (Ft. Ed Sheeran &amp; Future)</td>\n",
       "      <td>[futur, i, wanna, be, your, end, game, i, wann...</td>\n",
       "      <td>762</td>\n",
       "      <td>[futur, wanna, end, game, wanna, first, string...</td>\n",
       "      <td>140</td>\n",
       "      <td>0.183727</td>\n",
       "    </tr>\n",
       "    <tr>\n",
       "      <th>36</th>\n",
       "      <td>1989</td>\n",
       "      <td>Out of the Woods</td>\n",
       "      <td>[look, at, it, now, it, all, seem, so, simpl, ...</td>\n",
       "      <td>655</td>\n",
       "      <td>[look, seem, simpl, lie, couch, rememb, took, ...</td>\n",
       "      <td>69</td>\n",
       "      <td>0.105344</td>\n",
       "    </tr>\n",
       "    <tr>\n",
       "      <th>38</th>\n",
       "      <td>1989</td>\n",
       "      <td>Shake It Off</td>\n",
       "      <td>[i, stay, out, too, late, got, noth, in, my, b...</td>\n",
       "      <td>630</td>\n",
       "      <td>[stay, late, got, noth, brain, peopl, say, mmm...</td>\n",
       "      <td>68</td>\n",
       "      <td>0.107937</td>\n",
       "    </tr>\n",
       "    <tr>\n",
       "      <th>18</th>\n",
       "      <td>reputation</td>\n",
       "      <td>Getaway Car</td>\n",
       "      <td>[no, noth, good, start, in, a, getaway, car, i...</td>\n",
       "      <td>590</td>\n",
       "      <td>[noth, good, start, getaway, car, best, time, ...</td>\n",
       "      <td>112</td>\n",
       "      <td>0.189831</td>\n",
       "    </tr>\n",
       "    <tr>\n",
       "      <th>37</th>\n",
       "      <td>1989</td>\n",
       "      <td>I Wish You Would</td>\n",
       "      <td>[it, s, 2, 00, am, in, your, car, window, down...</td>\n",
       "      <td>587</td>\n",
       "      <td>[2, 00, car, window, pass, street, memori, sta...</td>\n",
       "      <td>71</td>\n",
       "      <td>0.120954</td>\n",
       "    </tr>\n",
       "  </tbody>\n",
       "</table>\n",
       "</div>"
      ],
      "text/plain": [
       "         album                         track_title  \\\n",
       "24  reputation  End Game (Ft. Ed Sheeran & Future)   \n",
       "36        1989                    Out of the Woods   \n",
       "38        1989                        Shake It Off   \n",
       "18  reputation                         Getaway Car   \n",
       "37        1989                    I Wish You Would   \n",
       "\n",
       "                                            lyric_all  total_count  \\\n",
       "24  [futur, i, wanna, be, your, end, game, i, wann...          762   \n",
       "36  [look, at, it, now, it, all, seem, so, simpl, ...          655   \n",
       "38  [i, stay, out, too, late, got, noth, in, my, b...          630   \n",
       "18  [no, noth, good, start, in, a, getaway, car, i...          590   \n",
       "37  [it, s, 2, 00, am, in, your, car, window, down...          587   \n",
       "\n",
       "                                                lyric  unique_count  \\\n",
       "24  [futur, wanna, end, game, wanna, first, string...           140   \n",
       "36  [look, seem, simpl, lie, couch, rememb, took, ...            69   \n",
       "38  [stay, late, got, noth, brain, peopl, say, mmm...            68   \n",
       "18  [noth, good, start, getaway, car, best, time, ...           112   \n",
       "37  [2, 00, car, window, pass, street, memori, sta...            71   \n",
       "\n",
       "    uniqueness  \n",
       "24    0.183727  \n",
       "36    0.105344  \n",
       "38    0.107937  \n",
       "18    0.189831  \n",
       "37    0.120954  "
      ]
     },
     "execution_count": 5,
     "metadata": {},
     "output_type": "execute_result"
    }
   ],
   "source": [
    "songs = preprocess(songs)\n",
    "songs.sort_values(by = 'total_count', ascending = False).head()"
   ]
  },
  {
   "cell_type": "markdown",
   "metadata": {},
   "source": [
    "## Part III: Exploratory Data Analysis"
   ]
  },
  {
   "cell_type": "code",
   "execution_count": 12,
   "metadata": {},
   "outputs": [],
   "source": [
    "album_color = {'Lover':'#ff8c8c', 'reputation':'#454545', '1989':'#faab00', 'Red':'#ff2b2b', 'Speak Now':'#d52bff', 'Fearless':'#fcf803', 'Taylor Swift':'#03fcb1'}"
   ]
  },
  {
   "cell_type": "code",
   "execution_count": 20,
   "metadata": {},
   "outputs": [
    {
     "data": {
      "application/vnd.plotly.v1+json": {
       "config": {
        "plotlyServerURL": "https://plot.ly"
       },
       "data": [
        {
         "hovertext": [
          "Daylight",
          "Cornelia Street",
          "I Forgot That You Existed",
          "Lover",
          "The Man",
          "The Archer",
          "I Think He Knows",
          "Miss Americana & The Heartbreak Prince",
          "Paper Rings",
          "Cruel Summer",
          "Death By A Thousand Cuts",
          "Soon You'll Get Better",
          "False God",
          "You Need To Calm Down",
          "Afterglow",
          "ME!",
          "It's Nice To Have A Friend",
          "London Boy",
          "Getaway Car",
          "Call It What You Want",
          "Dancing With Our Hands Tied",
          "Delicate",
          "Don't Blame Me",
          "Dress",
          "End Game (Ft. Ed Sheeran & Future)",
          "Look What You Made Me Do",
          "Gorgeous",
          "I Did Something Bad",
          "King of My Heart",
          "New Year's Day",
          "So It Goes...",
          "This Is Why We Can't Have Nice Things",
          "...Ready for It?",
          "Bad Blood",
          "All You Had to Do Was Stay",
          "I Know Places",
          "Out of the Woods",
          "I Wish You Would",
          "Shake It Off",
          "How You Get The Girl",
          "Clean",
          "Blank Space",
          "Style",
          "This Love",
          "Welcome to New York",
          "Wildest Dreams",
          "Wonderland",
          "You Are in Love",
          "New Romantics",
          "Girl at Home",
          "22",
          "All Too Well",
          "Begin Again",
          "Come Back... Be Here",
          "Holy Ground",
          "I Almost Do",
          "We Are Never Ever Getting Back Together",
          "Treacherous",
          "The Moment I Knew",
          "The Lucky One",
          "The Last Time (Ft. Gary Lightbody)",
          "Stay Stay Stay",
          "State of Grace",
          "Starlight",
          "Sad Beautiful Tragic",
          "Red",
          "I Knew You Were Trouble",
          "Everything Has Changed (Ft. Ed Sheeran)",
          "Long Live",
          "Superman",
          "Last Kiss",
          "Ours",
          "Sparks Fly",
          "The Story of Us",
          "Never Grow Up",
          "Mine",
          "Mean",
          "Speak Now",
          "Innocent",
          "Haunted",
          "Enchanted",
          "Dear John",
          "Better Than Revenge",
          "If This Was a Movie",
          "Back To December",
          "Hey Stephen",
          "Breathe (Ft. Colbie Caillat)",
          "Change",
          "Fearless",
          "Fifteen",
          "Forever & Always",
          "The Best Day",
          "Tell Me Why",
          "The Way I Loved You",
          "White Horse",
          "You Belong With Me",
          "You're Not Sorry",
          "Love Story",
          "Invisible",
          "Mary's Song (Oh My My My)",
          "A Perfectly Good Heart",
          "A Place In This World",
          "Cold as You",
          "Tim McGraw",
          "Tied Together With A Smile",
          "The Outside",
          "Teardrops On My Guitar",
          "Stay Beautiful",
          "I'm Only Me When I'm With You",
          "Picture To Burn",
          "Our Song",
          "Should've Said No"
         ],
         "marker": {
          "color": [
           "#ff8c8c",
           "#ff8c8c",
           "#ff8c8c",
           "#ff8c8c",
           "#ff8c8c",
           "#ff8c8c",
           "#ff8c8c",
           "#ff8c8c",
           "#ff8c8c",
           "#ff8c8c",
           "#ff8c8c",
           "#ff8c8c",
           "#ff8c8c",
           "#ff8c8c",
           "#ff8c8c",
           "#ff8c8c",
           "#ff8c8c",
           "#ff8c8c",
           "#454545",
           "#454545",
           "#454545",
           "#454545",
           "#454545",
           "#454545",
           "#454545",
           "#454545",
           "#454545",
           "#454545",
           "#454545",
           "#454545",
           "#454545",
           "#454545",
           "#454545",
           "#faab00",
           "#faab00",
           "#faab00",
           "#faab00",
           "#faab00",
           "#faab00",
           "#faab00",
           "#faab00",
           "#faab00",
           "#faab00",
           "#faab00",
           "#faab00",
           "#faab00",
           "#faab00",
           "#faab00",
           "#faab00",
           "#ff2b2b",
           "#ff2b2b",
           "#ff2b2b",
           "#ff2b2b",
           "#ff2b2b",
           "#ff2b2b",
           "#ff2b2b",
           "#ff2b2b",
           "#ff2b2b",
           "#ff2b2b",
           "#ff2b2b",
           "#ff2b2b",
           "#ff2b2b",
           "#ff2b2b",
           "#ff2b2b",
           "#ff2b2b",
           "#ff2b2b",
           "#ff2b2b",
           "#ff2b2b",
           "#d52bff",
           "#d52bff",
           "#d52bff",
           "#d52bff",
           "#d52bff",
           "#d52bff",
           "#d52bff",
           "#d52bff",
           "#d52bff",
           "#d52bff",
           "#d52bff",
           "#d52bff",
           "#d52bff",
           "#d52bff",
           "#d52bff",
           "#d52bff",
           "#d52bff",
           "#fcf803",
           "#fcf803",
           "#fcf803",
           "#fcf803",
           "#fcf803",
           "#fcf803",
           "#fcf803",
           "#fcf803",
           "#fcf803",
           "#fcf803",
           "#fcf803",
           "#fcf803",
           "#fcf803",
           "#03fcb1",
           "#03fcb1",
           "#03fcb1",
           "#03fcb1",
           "#03fcb1",
           "#03fcb1",
           "#03fcb1",
           "#03fcb1",
           "#03fcb1",
           "#03fcb1",
           "#03fcb1",
           "#03fcb1",
           "#03fcb1",
           "#03fcb1"
          ],
          "size": 8
         },
         "mode": "markers",
         "opacity": 0.8,
         "type": "scatter",
         "x": [
          504,
          397,
          313,
          273,
          465,
          309,
          416,
          559,
          523,
          496,
          470,
          270,
          350,
          395,
          427,
          562,
          172,
          444,
          590,
          532,
          437,
          572,
          530,
          523,
          762,
          579,
          420,
          453,
          495,
          397,
          409,
          431,
          445,
          515,
          475,
          312,
          655,
          587,
          630,
          424,
          291,
          563,
          380,
          279,
          337,
          395,
          460,
          372,
          424,
          380,
          401,
          483,
          352,
          281,
          297,
          291,
          375,
          354,
          385,
          360,
          508,
          361,
          239,
          348,
          187,
          284,
          378,
          459,
          445,
          408,
          422,
          318,
          366,
          492,
          480,
          415,
          439,
          446,
          335,
          365,
          388,
          400,
          542,
          463,
          450,
          434,
          250,
          289,
          340,
          440,
          428,
          374,
          373,
          294,
          324,
          429,
          324,
          397,
          261,
          340,
          230,
          264,
          250,
          376,
          272,
          242,
          317,
          295,
          338,
          321,
          382,
          375
         ],
         "y": [
          "Lover",
          "Lover",
          "Lover",
          "Lover",
          "Lover",
          "Lover",
          "Lover",
          "Lover",
          "Lover",
          "Lover",
          "Lover",
          "Lover",
          "Lover",
          "Lover",
          "Lover",
          "Lover",
          "Lover",
          "Lover",
          "reputation",
          "reputation",
          "reputation",
          "reputation",
          "reputation",
          "reputation",
          "reputation",
          "reputation",
          "reputation",
          "reputation",
          "reputation",
          "reputation",
          "reputation",
          "reputation",
          "reputation",
          "1989",
          "1989",
          "1989",
          "1989",
          "1989",
          "1989",
          "1989",
          "1989",
          "1989",
          "1989",
          "1989",
          "1989",
          "1989",
          "1989",
          "1989",
          "1989",
          "Red",
          "Red",
          "Red",
          "Red",
          "Red",
          "Red",
          "Red",
          "Red",
          "Red",
          "Red",
          "Red",
          "Red",
          "Red",
          "Red",
          "Red",
          "Red",
          "Red",
          "Red",
          "Red",
          "Speak Now",
          "Speak Now",
          "Speak Now",
          "Speak Now",
          "Speak Now",
          "Speak Now",
          "Speak Now",
          "Speak Now",
          "Speak Now",
          "Speak Now",
          "Speak Now",
          "Speak Now",
          "Speak Now",
          "Speak Now",
          "Speak Now",
          "Speak Now",
          "Speak Now",
          "Fearless",
          "Fearless",
          "Fearless",
          "Fearless",
          "Fearless",
          "Fearless",
          "Fearless",
          "Fearless",
          "Fearless",
          "Fearless",
          "Fearless",
          "Fearless",
          "Fearless",
          "Taylor Swift",
          "Taylor Swift",
          "Taylor Swift",
          "Taylor Swift",
          "Taylor Swift",
          "Taylor Swift",
          "Taylor Swift",
          "Taylor Swift",
          "Taylor Swift",
          "Taylor Swift",
          "Taylor Swift",
          "Taylor Swift",
          "Taylor Swift",
          "Taylor Swift"
         ]
        }
       ],
       "layout": {
        "height": 450,
        "margin": {
         "b": 10,
         "l": 10,
         "pad": 10,
         "r": 10,
         "t": 10
        },
        "plot_bgcolor": "rgb(255,255,255)",
        "template": {
         "data": {
          "bar": [
           {
            "error_x": {
             "color": "#2a3f5f"
            },
            "error_y": {
             "color": "#2a3f5f"
            },
            "marker": {
             "line": {
              "color": "#E5ECF6",
              "width": 0.5
             }
            },
            "type": "bar"
           }
          ],
          "barpolar": [
           {
            "marker": {
             "line": {
              "color": "#E5ECF6",
              "width": 0.5
             }
            },
            "type": "barpolar"
           }
          ],
          "carpet": [
           {
            "aaxis": {
             "endlinecolor": "#2a3f5f",
             "gridcolor": "white",
             "linecolor": "white",
             "minorgridcolor": "white",
             "startlinecolor": "#2a3f5f"
            },
            "baxis": {
             "endlinecolor": "#2a3f5f",
             "gridcolor": "white",
             "linecolor": "white",
             "minorgridcolor": "white",
             "startlinecolor": "#2a3f5f"
            },
            "type": "carpet"
           }
          ],
          "choropleth": [
           {
            "colorbar": {
             "outlinewidth": 0,
             "ticks": ""
            },
            "type": "choropleth"
           }
          ],
          "contour": [
           {
            "colorbar": {
             "outlinewidth": 0,
             "ticks": ""
            },
            "colorscale": [
             [
              0,
              "#0d0887"
             ],
             [
              0.1111111111111111,
              "#46039f"
             ],
             [
              0.2222222222222222,
              "#7201a8"
             ],
             [
              0.3333333333333333,
              "#9c179e"
             ],
             [
              0.4444444444444444,
              "#bd3786"
             ],
             [
              0.5555555555555556,
              "#d8576b"
             ],
             [
              0.6666666666666666,
              "#ed7953"
             ],
             [
              0.7777777777777778,
              "#fb9f3a"
             ],
             [
              0.8888888888888888,
              "#fdca26"
             ],
             [
              1,
              "#f0f921"
             ]
            ],
            "type": "contour"
           }
          ],
          "contourcarpet": [
           {
            "colorbar": {
             "outlinewidth": 0,
             "ticks": ""
            },
            "type": "contourcarpet"
           }
          ],
          "heatmap": [
           {
            "colorbar": {
             "outlinewidth": 0,
             "ticks": ""
            },
            "colorscale": [
             [
              0,
              "#0d0887"
             ],
             [
              0.1111111111111111,
              "#46039f"
             ],
             [
              0.2222222222222222,
              "#7201a8"
             ],
             [
              0.3333333333333333,
              "#9c179e"
             ],
             [
              0.4444444444444444,
              "#bd3786"
             ],
             [
              0.5555555555555556,
              "#d8576b"
             ],
             [
              0.6666666666666666,
              "#ed7953"
             ],
             [
              0.7777777777777778,
              "#fb9f3a"
             ],
             [
              0.8888888888888888,
              "#fdca26"
             ],
             [
              1,
              "#f0f921"
             ]
            ],
            "type": "heatmap"
           }
          ],
          "heatmapgl": [
           {
            "colorbar": {
             "outlinewidth": 0,
             "ticks": ""
            },
            "colorscale": [
             [
              0,
              "#0d0887"
             ],
             [
              0.1111111111111111,
              "#46039f"
             ],
             [
              0.2222222222222222,
              "#7201a8"
             ],
             [
              0.3333333333333333,
              "#9c179e"
             ],
             [
              0.4444444444444444,
              "#bd3786"
             ],
             [
              0.5555555555555556,
              "#d8576b"
             ],
             [
              0.6666666666666666,
              "#ed7953"
             ],
             [
              0.7777777777777778,
              "#fb9f3a"
             ],
             [
              0.8888888888888888,
              "#fdca26"
             ],
             [
              1,
              "#f0f921"
             ]
            ],
            "type": "heatmapgl"
           }
          ],
          "histogram": [
           {
            "marker": {
             "colorbar": {
              "outlinewidth": 0,
              "ticks": ""
             }
            },
            "type": "histogram"
           }
          ],
          "histogram2d": [
           {
            "colorbar": {
             "outlinewidth": 0,
             "ticks": ""
            },
            "colorscale": [
             [
              0,
              "#0d0887"
             ],
             [
              0.1111111111111111,
              "#46039f"
             ],
             [
              0.2222222222222222,
              "#7201a8"
             ],
             [
              0.3333333333333333,
              "#9c179e"
             ],
             [
              0.4444444444444444,
              "#bd3786"
             ],
             [
              0.5555555555555556,
              "#d8576b"
             ],
             [
              0.6666666666666666,
              "#ed7953"
             ],
             [
              0.7777777777777778,
              "#fb9f3a"
             ],
             [
              0.8888888888888888,
              "#fdca26"
             ],
             [
              1,
              "#f0f921"
             ]
            ],
            "type": "histogram2d"
           }
          ],
          "histogram2dcontour": [
           {
            "colorbar": {
             "outlinewidth": 0,
             "ticks": ""
            },
            "colorscale": [
             [
              0,
              "#0d0887"
             ],
             [
              0.1111111111111111,
              "#46039f"
             ],
             [
              0.2222222222222222,
              "#7201a8"
             ],
             [
              0.3333333333333333,
              "#9c179e"
             ],
             [
              0.4444444444444444,
              "#bd3786"
             ],
             [
              0.5555555555555556,
              "#d8576b"
             ],
             [
              0.6666666666666666,
              "#ed7953"
             ],
             [
              0.7777777777777778,
              "#fb9f3a"
             ],
             [
              0.8888888888888888,
              "#fdca26"
             ],
             [
              1,
              "#f0f921"
             ]
            ],
            "type": "histogram2dcontour"
           }
          ],
          "mesh3d": [
           {
            "colorbar": {
             "outlinewidth": 0,
             "ticks": ""
            },
            "type": "mesh3d"
           }
          ],
          "parcoords": [
           {
            "line": {
             "colorbar": {
              "outlinewidth": 0,
              "ticks": ""
             }
            },
            "type": "parcoords"
           }
          ],
          "pie": [
           {
            "automargin": true,
            "type": "pie"
           }
          ],
          "scatter": [
           {
            "marker": {
             "colorbar": {
              "outlinewidth": 0,
              "ticks": ""
             }
            },
            "type": "scatter"
           }
          ],
          "scatter3d": [
           {
            "line": {
             "colorbar": {
              "outlinewidth": 0,
              "ticks": ""
             }
            },
            "marker": {
             "colorbar": {
              "outlinewidth": 0,
              "ticks": ""
             }
            },
            "type": "scatter3d"
           }
          ],
          "scattercarpet": [
           {
            "marker": {
             "colorbar": {
              "outlinewidth": 0,
              "ticks": ""
             }
            },
            "type": "scattercarpet"
           }
          ],
          "scattergeo": [
           {
            "marker": {
             "colorbar": {
              "outlinewidth": 0,
              "ticks": ""
             }
            },
            "type": "scattergeo"
           }
          ],
          "scattergl": [
           {
            "marker": {
             "colorbar": {
              "outlinewidth": 0,
              "ticks": ""
             }
            },
            "type": "scattergl"
           }
          ],
          "scattermapbox": [
           {
            "marker": {
             "colorbar": {
              "outlinewidth": 0,
              "ticks": ""
             }
            },
            "type": "scattermapbox"
           }
          ],
          "scatterpolar": [
           {
            "marker": {
             "colorbar": {
              "outlinewidth": 0,
              "ticks": ""
             }
            },
            "type": "scatterpolar"
           }
          ],
          "scatterpolargl": [
           {
            "marker": {
             "colorbar": {
              "outlinewidth": 0,
              "ticks": ""
             }
            },
            "type": "scatterpolargl"
           }
          ],
          "scatterternary": [
           {
            "marker": {
             "colorbar": {
              "outlinewidth": 0,
              "ticks": ""
             }
            },
            "type": "scatterternary"
           }
          ],
          "surface": [
           {
            "colorbar": {
             "outlinewidth": 0,
             "ticks": ""
            },
            "colorscale": [
             [
              0,
              "#0d0887"
             ],
             [
              0.1111111111111111,
              "#46039f"
             ],
             [
              0.2222222222222222,
              "#7201a8"
             ],
             [
              0.3333333333333333,
              "#9c179e"
             ],
             [
              0.4444444444444444,
              "#bd3786"
             ],
             [
              0.5555555555555556,
              "#d8576b"
             ],
             [
              0.6666666666666666,
              "#ed7953"
             ],
             [
              0.7777777777777778,
              "#fb9f3a"
             ],
             [
              0.8888888888888888,
              "#fdca26"
             ],
             [
              1,
              "#f0f921"
             ]
            ],
            "type": "surface"
           }
          ],
          "table": [
           {
            "cells": {
             "fill": {
              "color": "#EBF0F8"
             },
             "line": {
              "color": "white"
             }
            },
            "header": {
             "fill": {
              "color": "#C8D4E3"
             },
             "line": {
              "color": "white"
             }
            },
            "type": "table"
           }
          ]
         },
         "layout": {
          "annotationdefaults": {
           "arrowcolor": "#2a3f5f",
           "arrowhead": 0,
           "arrowwidth": 1
          },
          "coloraxis": {
           "colorbar": {
            "outlinewidth": 0,
            "ticks": ""
           }
          },
          "colorscale": {
           "diverging": [
            [
             0,
             "#8e0152"
            ],
            [
             0.1,
             "#c51b7d"
            ],
            [
             0.2,
             "#de77ae"
            ],
            [
             0.3,
             "#f1b6da"
            ],
            [
             0.4,
             "#fde0ef"
            ],
            [
             0.5,
             "#f7f7f7"
            ],
            [
             0.6,
             "#e6f5d0"
            ],
            [
             0.7,
             "#b8e186"
            ],
            [
             0.8,
             "#7fbc41"
            ],
            [
             0.9,
             "#4d9221"
            ],
            [
             1,
             "#276419"
            ]
           ],
           "sequential": [
            [
             0,
             "#0d0887"
            ],
            [
             0.1111111111111111,
             "#46039f"
            ],
            [
             0.2222222222222222,
             "#7201a8"
            ],
            [
             0.3333333333333333,
             "#9c179e"
            ],
            [
             0.4444444444444444,
             "#bd3786"
            ],
            [
             0.5555555555555556,
             "#d8576b"
            ],
            [
             0.6666666666666666,
             "#ed7953"
            ],
            [
             0.7777777777777778,
             "#fb9f3a"
            ],
            [
             0.8888888888888888,
             "#fdca26"
            ],
            [
             1,
             "#f0f921"
            ]
           ],
           "sequentialminus": [
            [
             0,
             "#0d0887"
            ],
            [
             0.1111111111111111,
             "#46039f"
            ],
            [
             0.2222222222222222,
             "#7201a8"
            ],
            [
             0.3333333333333333,
             "#9c179e"
            ],
            [
             0.4444444444444444,
             "#bd3786"
            ],
            [
             0.5555555555555556,
             "#d8576b"
            ],
            [
             0.6666666666666666,
             "#ed7953"
            ],
            [
             0.7777777777777778,
             "#fb9f3a"
            ],
            [
             0.8888888888888888,
             "#fdca26"
            ],
            [
             1,
             "#f0f921"
            ]
           ]
          },
          "colorway": [
           "#636efa",
           "#EF553B",
           "#00cc96",
           "#ab63fa",
           "#FFA15A",
           "#19d3f3",
           "#FF6692",
           "#B6E880",
           "#FF97FF",
           "#FECB52"
          ],
          "font": {
           "color": "#2a3f5f"
          },
          "geo": {
           "bgcolor": "white",
           "lakecolor": "white",
           "landcolor": "#E5ECF6",
           "showlakes": true,
           "showland": true,
           "subunitcolor": "white"
          },
          "hoverlabel": {
           "align": "left"
          },
          "hovermode": "closest",
          "mapbox": {
           "style": "light"
          },
          "paper_bgcolor": "white",
          "plot_bgcolor": "#E5ECF6",
          "polar": {
           "angularaxis": {
            "gridcolor": "white",
            "linecolor": "white",
            "ticks": ""
           },
           "bgcolor": "#E5ECF6",
           "radialaxis": {
            "gridcolor": "white",
            "linecolor": "white",
            "ticks": ""
           }
          },
          "scene": {
           "xaxis": {
            "backgroundcolor": "#E5ECF6",
            "gridcolor": "white",
            "gridwidth": 2,
            "linecolor": "white",
            "showbackground": true,
            "ticks": "",
            "zerolinecolor": "white"
           },
           "yaxis": {
            "backgroundcolor": "#E5ECF6",
            "gridcolor": "white",
            "gridwidth": 2,
            "linecolor": "white",
            "showbackground": true,
            "ticks": "",
            "zerolinecolor": "white"
           },
           "zaxis": {
            "backgroundcolor": "#E5ECF6",
            "gridcolor": "white",
            "gridwidth": 2,
            "linecolor": "white",
            "showbackground": true,
            "ticks": "",
            "zerolinecolor": "white"
           }
          },
          "shapedefaults": {
           "line": {
            "color": "#2a3f5f"
           }
          },
          "ternary": {
           "aaxis": {
            "gridcolor": "white",
            "linecolor": "white",
            "ticks": ""
           },
           "baxis": {
            "gridcolor": "white",
            "linecolor": "white",
            "ticks": ""
           },
           "bgcolor": "#E5ECF6",
           "caxis": {
            "gridcolor": "white",
            "linecolor": "white",
            "ticks": ""
           }
          },
          "title": {
           "x": 0.05
          },
          "xaxis": {
           "automargin": true,
           "gridcolor": "white",
           "linecolor": "white",
           "ticks": "",
           "title": {
            "standoff": 15
           },
           "zerolinecolor": "white",
           "zerolinewidth": 2
          },
          "yaxis": {
           "automargin": true,
           "gridcolor": "white",
           "linecolor": "white",
           "ticks": "",
           "title": {
            "standoff": 15
           },
           "zerolinecolor": "white",
           "zerolinewidth": 2
          }
         }
        },
        "width": 1000,
        "xaxis": {
         "autorange": true,
         "range": [
          135.11576046103733,
          798.8842395389627
         ],
         "title": {
          "text": "Word Count"
         },
         "type": "linear"
        },
        "yaxis": {
         "autorange": true,
         "range": [
          -0.4337349397590361,
          6.433734939759036
         ],
         "type": "category"
        }
       }
      },
      "image/png": "[encoded data removed]",
      "text/html": [
       "<div>\n",
       "        \n",
       "        \n",
       "            <div id=\"ae69de91-627b-4c3e-bfb4-f3097ffac486\" class=\"plotly-graph-div\" style=\"height:450px; width:1000px;\"></div>\n",
       "            <script type=\"text/javascript\">\n",
       "                require([\"plotly\"], function(Plotly) {\n",
       "                    window.PLOTLYENV=window.PLOTLYENV || {};\n",
       "                    \n",
       "                if (document.getElementById(\"ae69de91-627b-4c3e-bfb4-f3097ffac486\")) {\n",
       "                    Plotly.newPlot(\n",
       "                        'ae69de91-627b-4c3e-bfb4-f3097ffac486',\n",
       "                        [{\"hovertext\": [\"Daylight\", \"Cornelia Street\", \"I Forgot That You Existed\", \"Lover\", \"The Man\", \"The Archer\", \"I Think He Knows\", \"Miss Americana & The Heartbreak Prince\", \"Paper Rings\", \"Cruel Summer\", \"Death By A Thousand Cuts\", \"Soon You'll Get Better\", \"False God\", \"You Need To Calm Down\", \"Afterglow\", \"ME!\", \"It's Nice To Have A Friend\", \"London Boy\", \"Getaway Car\", \"Call It What You Want\", \"Dancing With Our Hands Tied\", \"Delicate\", \"Don't Blame Me\", \"Dress\", \"End Game (Ft.\\u00a0Ed\\u00a0Sheeran & Future)\", \"Look What You Made Me Do\", \"Gorgeous\", \"I Did Something Bad\", \"King of My Heart\", \"New Year's Day\", \"So It Goes...\", \"This Is Why We Can't Have Nice Things\", \"...Ready for It?\", \"Bad Blood\", \"All You Had to Do Was Stay\", \"I Know Places\", \"Out of the Woods\", \"I Wish You Would\", \"Shake It Off\", \"How You Get The Girl\", \"Clean\", \"Blank Space\", \"Style\", \"This Love\", \"Welcome to New York\", \"Wildest Dreams\", \"Wonderland\", \"You Are in Love\", \"New Romantics\", \"Girl at Home\", \"22\", \"All Too Well\", \"Begin Again\", \"Come Back... Be Here\", \"Holy Ground\", \"I Almost Do\", \"We Are Never Ever Getting Back Together\", \"Treacherous\", \"The Moment I Knew\", \"The Lucky One\", \"The Last Time (Ft.\\u00a0Gary\\u00a0Lightbody)\", \"Stay Stay Stay\", \"State of Grace\", \"Starlight\", \"Sad Beautiful Tragic\", \"Red\", \"I Knew You Were Trouble\", \"Everything Has Changed (Ft.\\u00a0Ed\\u00a0Sheeran)\", \"Long Live\", \"Superman\", \"Last Kiss\", \"Ours\", \"Sparks Fly\", \"The Story of Us\", \"Never Grow Up\", \"Mine\", \"Mean\", \"Speak Now\", \"Innocent\", \"Haunted\", \"Enchanted\", \"Dear John\", \"Better Than Revenge\", \"If This Was a Movie\", \"Back To December\", \"Hey Stephen\", \"Breathe (Ft.\\u00a0Colbie\\u00a0Caillat)\", \"Change\", \"Fearless\", \"Fifteen\", \"Forever & Always\", \"The Best Day\", \"Tell Me Why\", \"The Way I Loved You\", \"White Horse\", \"You Belong With Me\", \"You're Not Sorry\", \"Love Story\", \"Invisible\", \"Mary's Song (Oh My My My)\", \"A Perfectly Good Heart\", \"A Place In This World\", \"Cold as You\", \"Tim McGraw\", \"Tied Together With A Smile\", \"The Outside\", \"Teardrops On My Guitar\", \"Stay Beautiful\", \"I'm Only Me When I'm With You\", \"Picture To Burn\", \"Our Song\", \"Should've Said No\"], \"marker\": {\"color\": [\"#ff8c8c\", \"#ff8c8c\", \"#ff8c8c\", \"#ff8c8c\", \"#ff8c8c\", \"#ff8c8c\", \"#ff8c8c\", \"#ff8c8c\", \"#ff8c8c\", \"#ff8c8c\", \"#ff8c8c\", \"#ff8c8c\", \"#ff8c8c\", \"#ff8c8c\", \"#ff8c8c\", \"#ff8c8c\", \"#ff8c8c\", \"#ff8c8c\", \"#454545\", \"#454545\", \"#454545\", \"#454545\", \"#454545\", \"#454545\", \"#454545\", \"#454545\", \"#454545\", \"#454545\", \"#454545\", \"#454545\", \"#454545\", \"#454545\", \"#454545\", \"#faab00\", \"#faab00\", \"#faab00\", \"#faab00\", \"#faab00\", \"#faab00\", \"#faab00\", \"#faab00\", \"#faab00\", \"#faab00\", \"#faab00\", \"#faab00\", \"#faab00\", \"#faab00\", \"#faab00\", \"#faab00\", \"#ff2b2b\", \"#ff2b2b\", \"#ff2b2b\", \"#ff2b2b\", \"#ff2b2b\", \"#ff2b2b\", \"#ff2b2b\", \"#ff2b2b\", \"#ff2b2b\", \"#ff2b2b\", \"#ff2b2b\", \"#ff2b2b\", \"#ff2b2b\", \"#ff2b2b\", \"#ff2b2b\", \"#ff2b2b\", \"#ff2b2b\", \"#ff2b2b\", \"#ff2b2b\", \"#d52bff\", \"#d52bff\", \"#d52bff\", \"#d52bff\", \"#d52bff\", \"#d52bff\", \"#d52bff\", \"#d52bff\", \"#d52bff\", \"#d52bff\", \"#d52bff\", \"#d52bff\", \"#d52bff\", \"#d52bff\", \"#d52bff\", \"#d52bff\", \"#d52bff\", \"#fcf803\", \"#fcf803\", \"#fcf803\", \"#fcf803\", \"#fcf803\", \"#fcf803\", \"#fcf803\", \"#fcf803\", \"#fcf803\", \"#fcf803\", \"#fcf803\", \"#fcf803\", \"#fcf803\", \"#03fcb1\", \"#03fcb1\", \"#03fcb1\", \"#03fcb1\", \"#03fcb1\", \"#03fcb1\", \"#03fcb1\", \"#03fcb1\", \"#03fcb1\", \"#03fcb1\", \"#03fcb1\", \"#03fcb1\", \"#03fcb1\", \"#03fcb1\"], \"size\": 8}, \"mode\": \"markers\", \"opacity\": 0.8, \"type\": \"scatter\", \"x\": [504, 397, 313, 273, 465, 309, 416, 559, 523, 496, 470, 270, 350, 395, 427, 562, 172, 444, 590, 532, 437, 572, 530, 523, 762, 579, 420, 453, 495, 397, 409, 431, 445, 515, 475, 312, 655, 587, 630, 424, 291, 563, 380, 279, 337, 395, 460, 372, 424, 380, 401, 483, 352, 281, 297, 291, 375, 354, 385, 360, 508, 361, 239, 348, 187, 284, 378, 459, 445, 408, 422, 318, 366, 492, 480, 415, 439, 446, 335, 365, 388, 400, 542, 463, 450, 434, 250, 289, 340, 440, 428, 374, 373, 294, 324, 429, 324, 397, 261, 340, 230, 264, 250, 376, 272, 242, 317, 295, 338, 321, 382, 375], \"y\": [\"Lover\", \"Lover\", \"Lover\", \"Lover\", \"Lover\", \"Lover\", \"Lover\", \"Lover\", \"Lover\", \"Lover\", \"Lover\", \"Lover\", \"Lover\", \"Lover\", \"Lover\", \"Lover\", \"Lover\", \"Lover\", \"reputation\", \"reputation\", \"reputation\", \"reputation\", \"reputation\", \"reputation\", \"reputation\", \"reputation\", \"reputation\", \"reputation\", \"reputation\", \"reputation\", \"reputation\", \"reputation\", \"reputation\", \"1989\", \"1989\", \"1989\", \"1989\", \"1989\", \"1989\", \"1989\", \"1989\", \"1989\", \"1989\", \"1989\", \"1989\", \"1989\", \"1989\", \"1989\", \"1989\", \"Red\", \"Red\", \"Red\", \"Red\", \"Red\", \"Red\", \"Red\", \"Red\", \"Red\", \"Red\", \"Red\", \"Red\", \"Red\", \"Red\", \"Red\", \"Red\", \"Red\", \"Red\", \"Red\", \"Speak Now\", \"Speak Now\", \"Speak Now\", \"Speak Now\", \"Speak Now\", \"Speak Now\", \"Speak Now\", \"Speak Now\", \"Speak Now\", \"Speak Now\", \"Speak Now\", \"Speak Now\", \"Speak Now\", \"Speak Now\", \"Speak Now\", \"Speak Now\", \"Speak Now\", \"Fearless\", \"Fearless\", \"Fearless\", \"Fearless\", \"Fearless\", \"Fearless\", \"Fearless\", \"Fearless\", \"Fearless\", \"Fearless\", \"Fearless\", \"Fearless\", \"Fearless\", \"Taylor Swift\", \"Taylor Swift\", \"Taylor Swift\", \"Taylor Swift\", \"Taylor Swift\", \"Taylor Swift\", \"Taylor Swift\", \"Taylor Swift\", \"Taylor Swift\", \"Taylor Swift\", \"Taylor Swift\", \"Taylor Swift\", \"Taylor Swift\", \"Taylor Swift\"]}],\n",
       "                        {\"height\": 450, \"margin\": {\"b\": 10, \"l\": 10, \"pad\": 10, \"r\": 10, \"t\": 10}, \"plot_bgcolor\": \"rgb(255,255,255)\", \"template\": {\"data\": {\"bar\": [{\"error_x\": {\"color\": \"#2a3f5f\"}, \"error_y\": {\"color\": \"#2a3f5f\"}, \"marker\": {\"line\": {\"color\": \"#E5ECF6\", \"width\": 0.5}}, \"type\": \"bar\"}], \"barpolar\": [{\"marker\": {\"line\": {\"color\": \"#E5ECF6\", \"width\": 0.5}}, \"type\": \"barpolar\"}], \"carpet\": [{\"aaxis\": {\"endlinecolor\": \"#2a3f5f\", \"gridcolor\": \"white\", \"linecolor\": \"white\", \"minorgridcolor\": \"white\", \"startlinecolor\": \"#2a3f5f\"}, \"baxis\": {\"endlinecolor\": \"#2a3f5f\", \"gridcolor\": \"white\", \"linecolor\": \"white\", \"minorgridcolor\": \"white\", \"startlinecolor\": \"#2a3f5f\"}, \"type\": \"carpet\"}], \"choropleth\": [{\"colorbar\": {\"outlinewidth\": 0, \"ticks\": \"\"}, \"type\": \"choropleth\"}], \"contour\": [{\"colorbar\": {\"outlinewidth\": 0, \"ticks\": \"\"}, \"colorscale\": [[0.0, \"#0d0887\"], [0.1111111111111111, \"#46039f\"], [0.2222222222222222, \"#7201a8\"], [0.3333333333333333, \"#9c179e\"], [0.4444444444444444, \"#bd3786\"], [0.5555555555555556, \"#d8576b\"], [0.6666666666666666, \"#ed7953\"], [0.7777777777777778, \"#fb9f3a\"], [0.8888888888888888, \"#fdca26\"], [1.0, \"#f0f921\"]], \"type\": \"contour\"}], \"contourcarpet\": [{\"colorbar\": {\"outlinewidth\": 0, \"ticks\": \"\"}, \"type\": \"contourcarpet\"}], \"heatmap\": [{\"colorbar\": {\"outlinewidth\": 0, \"ticks\": \"\"}, \"colorscale\": [[0.0, \"#0d0887\"], [0.1111111111111111, \"#46039f\"], [0.2222222222222222, \"#7201a8\"], [0.3333333333333333, \"#9c179e\"], [0.4444444444444444, \"#bd3786\"], [0.5555555555555556, \"#d8576b\"], [0.6666666666666666, \"#ed7953\"], [0.7777777777777778, \"#fb9f3a\"], [0.8888888888888888, \"#fdca26\"], [1.0, \"#f0f921\"]], \"type\": \"heatmap\"}], \"heatmapgl\": [{\"colorbar\": {\"outlinewidth\": 0, \"ticks\": \"\"}, \"colorscale\": [[0.0, \"#0d0887\"], [0.1111111111111111, \"#46039f\"], [0.2222222222222222, \"#7201a8\"], [0.3333333333333333, \"#9c179e\"], [0.4444444444444444, \"#bd3786\"], [0.5555555555555556, \"#d8576b\"], [0.6666666666666666, \"#ed7953\"], [0.7777777777777778, \"#fb9f3a\"], [0.8888888888888888, \"#fdca26\"], [1.0, \"#f0f921\"]], \"type\": \"heatmapgl\"}], \"histogram\": [{\"marker\": {\"colorbar\": {\"outlinewidth\": 0, \"ticks\": \"\"}}, \"type\": \"histogram\"}], \"histogram2d\": [{\"colorbar\": {\"outlinewidth\": 0, \"ticks\": \"\"}, \"colorscale\": [[0.0, \"#0d0887\"], [0.1111111111111111, \"#46039f\"], [0.2222222222222222, \"#7201a8\"], [0.3333333333333333, \"#9c179e\"], [0.4444444444444444, \"#bd3786\"], [0.5555555555555556, \"#d8576b\"], [0.6666666666666666, \"#ed7953\"], [0.7777777777777778, \"#fb9f3a\"], [0.8888888888888888, \"#fdca26\"], [1.0, \"#f0f921\"]], \"type\": \"histogram2d\"}], \"histogram2dcontour\": [{\"colorbar\": {\"outlinewidth\": 0, \"ticks\": \"\"}, \"colorscale\": [[0.0, \"#0d0887\"], [0.1111111111111111, \"#46039f\"], [0.2222222222222222, \"#7201a8\"], [0.3333333333333333, \"#9c179e\"], [0.4444444444444444, \"#bd3786\"], [0.5555555555555556, \"#d8576b\"], [0.6666666666666666, \"#ed7953\"], [0.7777777777777778, \"#fb9f3a\"], [0.8888888888888888, \"#fdca26\"], [1.0, \"#f0f921\"]], \"type\": \"histogram2dcontour\"}], \"mesh3d\": [{\"colorbar\": {\"outlinewidth\": 0, \"ticks\": \"\"}, \"type\": \"mesh3d\"}], \"parcoords\": [{\"line\": {\"colorbar\": {\"outlinewidth\": 0, \"ticks\": \"\"}}, \"type\": \"parcoords\"}], \"pie\": [{\"automargin\": true, \"type\": \"pie\"}], \"scatter\": [{\"marker\": {\"colorbar\": {\"outlinewidth\": 0, \"ticks\": \"\"}}, \"type\": \"scatter\"}], \"scatter3d\": [{\"line\": {\"colorbar\": {\"outlinewidth\": 0, \"ticks\": \"\"}}, \"marker\": {\"colorbar\": {\"outlinewidth\": 0, \"ticks\": \"\"}}, \"type\": \"scatter3d\"}], \"scattercarpet\": [{\"marker\": {\"colorbar\": {\"outlinewidth\": 0, \"ticks\": \"\"}}, \"type\": \"scattercarpet\"}], \"scattergeo\": [{\"marker\": {\"colorbar\": {\"outlinewidth\": 0, \"ticks\": \"\"}}, \"type\": \"scattergeo\"}], \"scattergl\": [{\"marker\": {\"colorbar\": {\"outlinewidth\": 0, \"ticks\": \"\"}}, \"type\": \"scattergl\"}], \"scattermapbox\": [{\"marker\": {\"colorbar\": {\"outlinewidth\": 0, \"ticks\": \"\"}}, \"type\": \"scattermapbox\"}], \"scatterpolar\": [{\"marker\": {\"colorbar\": {\"outlinewidth\": 0, \"ticks\": \"\"}}, \"type\": \"scatterpolar\"}], \"scatterpolargl\": [{\"marker\": {\"colorbar\": {\"outlinewidth\": 0, \"ticks\": \"\"}}, \"type\": \"scatterpolargl\"}], \"scatterternary\": [{\"marker\": {\"colorbar\": {\"outlinewidth\": 0, \"ticks\": \"\"}}, \"type\": \"scatterternary\"}], \"surface\": [{\"colorbar\": {\"outlinewidth\": 0, \"ticks\": \"\"}, \"colorscale\": [[0.0, \"#0d0887\"], [0.1111111111111111, \"#46039f\"], [0.2222222222222222, \"#7201a8\"], [0.3333333333333333, \"#9c179e\"], [0.4444444444444444, \"#bd3786\"], [0.5555555555555556, \"#d8576b\"], [0.6666666666666666, \"#ed7953\"], [0.7777777777777778, \"#fb9f3a\"], [0.8888888888888888, \"#fdca26\"], [1.0, \"#f0f921\"]], \"type\": \"surface\"}], \"table\": [{\"cells\": {\"fill\": {\"color\": \"#EBF0F8\"}, \"line\": {\"color\": \"white\"}}, \"header\": {\"fill\": {\"color\": \"#C8D4E3\"}, \"line\": {\"color\": \"white\"}}, \"type\": \"table\"}]}, \"layout\": {\"annotationdefaults\": {\"arrowcolor\": \"#2a3f5f\", \"arrowhead\": 0, \"arrowwidth\": 1}, \"coloraxis\": {\"colorbar\": {\"outlinewidth\": 0, \"ticks\": \"\"}}, \"colorscale\": {\"diverging\": [[0, \"#8e0152\"], [0.1, \"#c51b7d\"], [0.2, \"#de77ae\"], [0.3, \"#f1b6da\"], [0.4, \"#fde0ef\"], [0.5, \"#f7f7f7\"], [0.6, \"#e6f5d0\"], [0.7, \"#b8e186\"], [0.8, \"#7fbc41\"], [0.9, \"#4d9221\"], [1, \"#276419\"]], \"sequential\": [[0.0, \"#0d0887\"], [0.1111111111111111, \"#46039f\"], [0.2222222222222222, \"#7201a8\"], [0.3333333333333333, \"#9c179e\"], [0.4444444444444444, \"#bd3786\"], [0.5555555555555556, \"#d8576b\"], [0.6666666666666666, \"#ed7953\"], [0.7777777777777778, \"#fb9f3a\"], [0.8888888888888888, \"#fdca26\"], [1.0, \"#f0f921\"]], \"sequentialminus\": [[0.0, \"#0d0887\"], [0.1111111111111111, \"#46039f\"], [0.2222222222222222, \"#7201a8\"], [0.3333333333333333, \"#9c179e\"], [0.4444444444444444, \"#bd3786\"], [0.5555555555555556, \"#d8576b\"], [0.6666666666666666, \"#ed7953\"], [0.7777777777777778, \"#fb9f3a\"], [0.8888888888888888, \"#fdca26\"], [1.0, \"#f0f921\"]]}, \"colorway\": [\"#636efa\", \"#EF553B\", \"#00cc96\", \"#ab63fa\", \"#FFA15A\", \"#19d3f3\", \"#FF6692\", \"#B6E880\", \"#FF97FF\", \"#FECB52\"], \"font\": {\"color\": \"#2a3f5f\"}, \"geo\": {\"bgcolor\": \"white\", \"lakecolor\": \"white\", \"landcolor\": \"#E5ECF6\", \"showlakes\": true, \"showland\": true, \"subunitcolor\": \"white\"}, \"hoverlabel\": {\"align\": \"left\"}, \"hovermode\": \"closest\", \"mapbox\": {\"style\": \"light\"}, \"paper_bgcolor\": \"white\", \"plot_bgcolor\": \"#E5ECF6\", \"polar\": {\"angularaxis\": {\"gridcolor\": \"white\", \"linecolor\": \"white\", \"ticks\": \"\"}, \"bgcolor\": \"#E5ECF6\", \"radialaxis\": {\"gridcolor\": \"white\", \"linecolor\": \"white\", \"ticks\": \"\"}}, \"scene\": {\"xaxis\": {\"backgroundcolor\": \"#E5ECF6\", \"gridcolor\": \"white\", \"gridwidth\": 2, \"linecolor\": \"white\", \"showbackground\": true, \"ticks\": \"\", \"zerolinecolor\": \"white\"}, \"yaxis\": {\"backgroundcolor\": \"#E5ECF6\", \"gridcolor\": \"white\", \"gridwidth\": 2, \"linecolor\": \"white\", \"showbackground\": true, \"ticks\": \"\", \"zerolinecolor\": \"white\"}, \"zaxis\": {\"backgroundcolor\": \"#E5ECF6\", \"gridcolor\": \"white\", \"gridwidth\": 2, \"linecolor\": \"white\", \"showbackground\": true, \"ticks\": \"\", \"zerolinecolor\": \"white\"}}, \"shapedefaults\": {\"line\": {\"color\": \"#2a3f5f\"}}, \"ternary\": {\"aaxis\": {\"gridcolor\": \"white\", \"linecolor\": \"white\", \"ticks\": \"\"}, \"baxis\": {\"gridcolor\": \"white\", \"linecolor\": \"white\", \"ticks\": \"\"}, \"bgcolor\": \"#E5ECF6\", \"caxis\": {\"gridcolor\": \"white\", \"linecolor\": \"white\", \"ticks\": \"\"}}, \"title\": {\"x\": 0.05}, \"xaxis\": {\"automargin\": true, \"gridcolor\": \"white\", \"linecolor\": \"white\", \"ticks\": \"\", \"title\": {\"standoff\": 15}, \"zerolinecolor\": \"white\", \"zerolinewidth\": 2}, \"yaxis\": {\"automargin\": true, \"gridcolor\": \"white\", \"linecolor\": \"white\", \"ticks\": \"\", \"title\": {\"standoff\": 15}, \"zerolinecolor\": \"white\", \"zerolinewidth\": 2}}}, \"width\": 1000, \"xaxis\": {\"title\": {\"text\": \"Word Count\"}}, \"yaxis\": {\"type\": \"category\"}},\n",
       "                        {\"responsive\": true}\n",
       "                    ).then(function(){\n",
       "                            \n",
       "var gd = document.getElementById('ae69de91-627b-4c3e-bfb4-f3097ffac486');\n",
       "var x = new MutationObserver(function (mutations, observer) {{\n",
       "        var display = window.getComputedStyle(gd).display;\n",
       "        if (!display || display === 'none') {{\n",
       "            console.log([gd, 'removed!']);\n",
       "            Plotly.purge(gd);\n",
       "            observer.disconnect();\n",
       "        }}\n",
       "}});\n",
       "\n",
       "// Listen for the removal of the full notebook cells\n",
       "var notebookContainer = gd.closest('#notebook-container');\n",
       "if (notebookContainer) {{\n",
       "    x.observe(notebookContainer, {childList: true});\n",
       "}}\n",
       "\n",
       "// Listen for the clearing of the current output cell\n",
       "var outputEl = gd.closest('.output');\n",
       "if (outputEl) {{\n",
       "    x.observe(outputEl, {childList: true});\n",
       "}}\n",
       "\n",
       "                        })\n",
       "                };\n",
       "                });\n",
       "            </script>\n",
       "        </div>"
      ]
     },
     "metadata": {},
     "output_type": "display_data"
    }
   ],
   "source": [
    "fig = go.Figure(data=go.Scatter(x=songs['total_count'],\n",
    "                                y=songs['album'],\n",
    "                                mode='markers',\n",
    "                                opacity=0.8,\n",
    "                                marker=dict(size=8, color=songs['album'].map(album_color)),\n",
    "                                hovertext=songs['track_title']))\n",
    "fig.update_layout(yaxis_type='category',\n",
    "                  width=1000, \n",
    "                  height=450, \n",
    "                  plot_bgcolor='rgb(255,255,255)',\n",
    "                  xaxis_title=\"Word Count\",\n",
    "                  margin={'l':10, 'r':10, 'b':10, 't':10, 'pad':10})\n",
    "fig.show()\n",
    "fig.write_html(\"images/word_count_by_song.html\")"
   ]
  },
  {
   "cell_type": "code",
   "execution_count": 21,
   "metadata": {},
   "outputs": [
    {
     "data": {
      "application/vnd.plotly.v1+json": {
       "config": {
        "plotlyServerURL": "https://plot.ly"
       },
       "data": [
        {
         "hovertext": [
          "Daylight",
          "Cornelia Street",
          "I Forgot That You Existed",
          "Lover",
          "The Man",
          "The Archer",
          "I Think He Knows",
          "Miss Americana & The Heartbreak Prince",
          "Paper Rings",
          "Cruel Summer",
          "Death By A Thousand Cuts",
          "Soon You'll Get Better",
          "False God",
          "You Need To Calm Down",
          "Afterglow",
          "ME!",
          "It's Nice To Have A Friend",
          "London Boy",
          "Getaway Car",
          "Call It What You Want",
          "Dancing With Our Hands Tied",
          "Delicate",
          "Don't Blame Me",
          "Dress",
          "End Game (Ft. Ed Sheeran & Future)",
          "Look What You Made Me Do",
          "Gorgeous",
          "I Did Something Bad",
          "King of My Heart",
          "New Year's Day",
          "So It Goes...",
          "This Is Why We Can't Have Nice Things",
          "...Ready for It?",
          "Bad Blood",
          "All You Had to Do Was Stay",
          "I Know Places",
          "Out of the Woods",
          "I Wish You Would",
          "Shake It Off",
          "How You Get The Girl",
          "Clean",
          "Blank Space",
          "Style",
          "This Love",
          "Welcome to New York",
          "Wildest Dreams",
          "Wonderland",
          "You Are in Love",
          "New Romantics",
          "Girl at Home",
          "22",
          "All Too Well",
          "Begin Again",
          "Come Back... Be Here",
          "Holy Ground",
          "I Almost Do",
          "We Are Never Ever Getting Back Together",
          "Treacherous",
          "The Moment I Knew",
          "The Lucky One",
          "The Last Time (Ft. Gary Lightbody)",
          "Stay Stay Stay",
          "State of Grace",
          "Starlight",
          "Sad Beautiful Tragic",
          "Red",
          "I Knew You Were Trouble",
          "Everything Has Changed (Ft. Ed Sheeran)",
          "Long Live",
          "Superman",
          "Last Kiss",
          "Ours",
          "Sparks Fly",
          "The Story of Us",
          "Never Grow Up",
          "Mine",
          "Mean",
          "Speak Now",
          "Innocent",
          "Haunted",
          "Enchanted",
          "Dear John",
          "Better Than Revenge",
          "If This Was a Movie",
          "Back To December",
          "Hey Stephen",
          "Breathe (Ft. Colbie Caillat)",
          "Change",
          "Fearless",
          "Fifteen",
          "Forever & Always",
          "The Best Day",
          "Tell Me Why",
          "The Way I Loved You",
          "White Horse",
          "You Belong With Me",
          "You're Not Sorry",
          "Love Story",
          "Invisible",
          "Mary's Song (Oh My My My)",
          "A Perfectly Good Heart",
          "A Place In This World",
          "Cold as You",
          "Tim McGraw",
          "Tied Together With A Smile",
          "The Outside",
          "Teardrops On My Guitar",
          "Stay Beautiful",
          "I'm Only Me When I'm With You",
          "Picture To Burn",
          "Our Song",
          "Should've Said No"
         ],
         "marker": {
          "color": [
           "#ff8c8c",
           "#ff8c8c",
           "#ff8c8c",
           "#ff8c8c",
           "#ff8c8c",
           "#ff8c8c",
           "#ff8c8c",
           "#ff8c8c",
           "#ff8c8c",
           "#ff8c8c",
           "#ff8c8c",
           "#ff8c8c",
           "#ff8c8c",
           "#ff8c8c",
           "#ff8c8c",
           "#ff8c8c",
           "#ff8c8c",
           "#ff8c8c",
           "#454545",
           "#454545",
           "#454545",
           "#454545",
           "#454545",
           "#454545",
           "#454545",
           "#454545",
           "#454545",
           "#454545",
           "#454545",
           "#454545",
           "#454545",
           "#454545",
           "#454545",
           "#faab00",
           "#faab00",
           "#faab00",
           "#faab00",
           "#faab00",
           "#faab00",
           "#faab00",
           "#faab00",
           "#faab00",
           "#faab00",
           "#faab00",
           "#faab00",
           "#faab00",
           "#faab00",
           "#faab00",
           "#faab00",
           "#ff2b2b",
           "#ff2b2b",
           "#ff2b2b",
           "#ff2b2b",
           "#ff2b2b",
           "#ff2b2b",
           "#ff2b2b",
           "#ff2b2b",
           "#ff2b2b",
           "#ff2b2b",
           "#ff2b2b",
           "#ff2b2b",
           "#ff2b2b",
           "#ff2b2b",
           "#ff2b2b",
           "#ff2b2b",
           "#ff2b2b",
           "#ff2b2b",
           "#ff2b2b",
           "#d52bff",
           "#d52bff",
           "#d52bff",
           "#d52bff",
           "#d52bff",
           "#d52bff",
           "#d52bff",
           "#d52bff",
           "#d52bff",
           "#d52bff",
           "#d52bff",
           "#d52bff",
           "#d52bff",
           "#d52bff",
           "#d52bff",
           "#d52bff",
           "#d52bff",
           "#fcf803",
           "#fcf803",
           "#fcf803",
           "#fcf803",
           "#fcf803",
           "#fcf803",
           "#fcf803",
           "#fcf803",
           "#fcf803",
           "#fcf803",
           "#fcf803",
           "#fcf803",
           "#fcf803",
           "#03fcb1",
           "#03fcb1",
           "#03fcb1",
           "#03fcb1",
           "#03fcb1",
           "#03fcb1",
           "#03fcb1",
           "#03fcb1",
           "#03fcb1",
           "#03fcb1",
           "#03fcb1",
           "#03fcb1",
           "#03fcb1",
           "#03fcb1"
          ],
          "size": 8
         },
         "mode": "markers",
         "opacity": 0.8,
         "type": "scatter",
         "x": [
          0.18055555555555555,
          0.24181360201511334,
          0.23322683706070288,
          0.2564102564102564,
          0.14623655913978495,
          0.21359223300970873,
          0.1658653846153846,
          0.19499105545617174,
          0.1835564053537285,
          0.18548387096774194,
          0.18085106382978725,
          0.21851851851851853,
          0.19428571428571428,
          0.2,
          0.16627634660421545,
          0.14056939501779359,
          0.36046511627906974,
          0.22747747747747749,
          0.18983050847457628,
          0.19360902255639098,
          0.17391304347826086,
          0.13111888111888112,
          0.1339622641509434,
          0.15296367112810708,
          0.1837270341207349,
          0.11917098445595854,
          0.17857142857142858,
          0.16556291390728478,
          0.16565656565656567,
          0.1486146095717884,
          0.16625916870415647,
          0.1740139211136891,
          0.16853932584269662,
          0.12427184466019417,
          0.0968421052631579,
          0.21474358974358973,
          0.10534351145038168,
          0.12095400340715502,
          0.10793650793650794,
          0.1179245283018868,
          0.24742268041237114,
          0.2255772646536412,
          0.1868421052631579,
          0.22580645161290322,
          0.1632047477744807,
          0.17215189873417722,
          0.1891304347826087,
          0.22849462365591397,
          0.20047169811320756,
          0.15789473684210525,
          0.15211970074812967,
          0.2836438923395445,
          0.2215909090909091,
          0.23487544483985764,
          0.2558922558922559,
          0.19931271477663232,
          0.18933333333333333,
          0.17231638418079095,
          0.21558441558441557,
          0.24722222222222223,
          0.1062992125984252,
          0.18282548476454294,
          0.2803347280334728,
          0.20402298850574713,
          0.3155080213903743,
          0.2676056338028169,
          0.164021164021164,
          0.1437908496732026,
          0.23820224719101124,
          0.19852941176470587,
          0.2156398104265403,
          0.25157232704402516,
          0.22950819672131148,
          0.1951219512195122,
          0.20625,
          0.23373493975903614,
          0.1958997722095672,
          0.21076233183856502,
          0.2298507462686567,
          0.18082191780821918,
          0.22422680412371135,
          0.2775,
          0.1863468634686347,
          0.1771058315334773,
          0.19777777777777777,
          0.16820276497695852,
          0.252,
          0.2491349480968858,
          0.20294117647058824,
          0.22954545454545455,
          0.17289719626168223,
          0.2967914438502674,
          0.18230563002680966,
          0.25170068027210885,
          0.24382716049382716,
          0.20046620046620048,
          0.17901234567901234,
          0.23425692695214106,
          0.15708812260536398,
          0.2647058823529412,
          0.1565217391304348,
          0.1856060606060606,
          0.244,
          0.2154255319148936,
          0.1875,
          0.19421487603305784,
          0.22712933753943218,
          0.22033898305084745,
          0.17159763313609466,
          0.20249221183800623,
          0.2198952879581152,
          0.152
         ],
         "y": [
          "Lover",
          "Lover",
          "Lover",
          "Lover",
          "Lover",
          "Lover",
          "Lover",
          "Lover",
          "Lover",
          "Lover",
          "Lover",
          "Lover",
          "Lover",
          "Lover",
          "Lover",
          "Lover",
          "Lover",
          "Lover",
          "reputation",
          "reputation",
          "reputation",
          "reputation",
          "reputation",
          "reputation",
          "reputation",
          "reputation",
          "reputation",
          "reputation",
          "reputation",
          "reputation",
          "reputation",
          "reputation",
          "reputation",
          "1989",
          "1989",
          "1989",
          "1989",
          "1989",
          "1989",
          "1989",
          "1989",
          "1989",
          "1989",
          "1989",
          "1989",
          "1989",
          "1989",
          "1989",
          "1989",
          "Red",
          "Red",
          "Red",
          "Red",
          "Red",
          "Red",
          "Red",
          "Red",
          "Red",
          "Red",
          "Red",
          "Red",
          "Red",
          "Red",
          "Red",
          "Red",
          "Red",
          "Red",
          "Red",
          "Speak Now",
          "Speak Now",
          "Speak Now",
          "Speak Now",
          "Speak Now",
          "Speak Now",
          "Speak Now",
          "Speak Now",
          "Speak Now",
          "Speak Now",
          "Speak Now",
          "Speak Now",
          "Speak Now",
          "Speak Now",
          "Speak Now",
          "Speak Now",
          "Speak Now",
          "Fearless",
          "Fearless",
          "Fearless",
          "Fearless",
          "Fearless",
          "Fearless",
          "Fearless",
          "Fearless",
          "Fearless",
          "Fearless",
          "Fearless",
          "Fearless",
          "Fearless",
          "Taylor Swift",
          "Taylor Swift",
          "Taylor Swift",
          "Taylor Swift",
          "Taylor Swift",
          "Taylor Swift",
          "Taylor Swift",
          "Taylor Swift",
          "Taylor Swift",
          "Taylor Swift",
          "Taylor Swift",
          "Taylor Swift",
          "Taylor Swift",
          "Taylor Swift"
         ]
        }
       ],
       "layout": {
        "height": 450,
        "margin": {
         "b": 10,
         "l": 10,
         "pad": 10,
         "r": 10,
         "t": 10
        },
        "plot_bgcolor": "rgb(255,255,255)",
        "template": {
         "data": {
          "bar": [
           {
            "error_x": {
             "color": "#2a3f5f"
            },
            "error_y": {
             "color": "#2a3f5f"
            },
            "marker": {
             "line": {
              "color": "#E5ECF6",
              "width": 0.5
             }
            },
            "type": "bar"
           }
          ],
          "barpolar": [
           {
            "marker": {
             "line": {
              "color": "#E5ECF6",
              "width": 0.5
             }
            },
            "type": "barpolar"
           }
          ],
          "carpet": [
           {
            "aaxis": {
             "endlinecolor": "#2a3f5f",
             "gridcolor": "white",
             "linecolor": "white",
             "minorgridcolor": "white",
             "startlinecolor": "#2a3f5f"
            },
            "baxis": {
             "endlinecolor": "#2a3f5f",
             "gridcolor": "white",
             "linecolor": "white",
             "minorgridcolor": "white",
             "startlinecolor": "#2a3f5f"
            },
            "type": "carpet"
           }
          ],
          "choropleth": [
           {
            "colorbar": {
             "outlinewidth": 0,
             "ticks": ""
            },
            "type": "choropleth"
           }
          ],
          "contour": [
           {
            "colorbar": {
             "outlinewidth": 0,
             "ticks": ""
            },
            "colorscale": [
             [
              0,
              "#0d0887"
             ],
             [
              0.1111111111111111,
              "#46039f"
             ],
             [
              0.2222222222222222,
              "#7201a8"
             ],
             [
              0.3333333333333333,
              "#9c179e"
             ],
             [
              0.4444444444444444,
              "#bd3786"
             ],
             [
              0.5555555555555556,
              "#d8576b"
             ],
             [
              0.6666666666666666,
              "#ed7953"
             ],
             [
              0.7777777777777778,
              "#fb9f3a"
             ],
             [
              0.8888888888888888,
              "#fdca26"
             ],
             [
              1,
              "#f0f921"
             ]
            ],
            "type": "contour"
           }
          ],
          "contourcarpet": [
           {
            "colorbar": {
             "outlinewidth": 0,
             "ticks": ""
            },
            "type": "contourcarpet"
           }
          ],
          "heatmap": [
           {
            "colorbar": {
             "outlinewidth": 0,
             "ticks": ""
            },
            "colorscale": [
             [
              0,
              "#0d0887"
             ],
             [
              0.1111111111111111,
              "#46039f"
             ],
             [
              0.2222222222222222,
              "#7201a8"
             ],
             [
              0.3333333333333333,
              "#9c179e"
             ],
             [
              0.4444444444444444,
              "#bd3786"
             ],
             [
              0.5555555555555556,
              "#d8576b"
             ],
             [
              0.6666666666666666,
              "#ed7953"
             ],
             [
              0.7777777777777778,
              "#fb9f3a"
             ],
             [
              0.8888888888888888,
              "#fdca26"
             ],
             [
              1,
              "#f0f921"
             ]
            ],
            "type": "heatmap"
           }
          ],
          "heatmapgl": [
           {
            "colorbar": {
             "outlinewidth": 0,
             "ticks": ""
            },
            "colorscale": [
             [
              0,
              "#0d0887"
             ],
             [
              0.1111111111111111,
              "#46039f"
             ],
             [
              0.2222222222222222,
              "#7201a8"
             ],
             [
              0.3333333333333333,
              "#9c179e"
             ],
             [
              0.4444444444444444,
              "#bd3786"
             ],
             [
              0.5555555555555556,
              "#d8576b"
             ],
             [
              0.6666666666666666,
              "#ed7953"
             ],
             [
              0.7777777777777778,
              "#fb9f3a"
             ],
             [
              0.8888888888888888,
              "#fdca26"
             ],
             [
              1,
              "#f0f921"
             ]
            ],
            "type": "heatmapgl"
           }
          ],
          "histogram": [
           {
            "marker": {
             "colorbar": {
              "outlinewidth": 0,
              "ticks": ""
             }
            },
            "type": "histogram"
           }
          ],
          "histogram2d": [
           {
            "colorbar": {
             "outlinewidth": 0,
             "ticks": ""
            },
            "colorscale": [
             [
              0,
              "#0d0887"
             ],
             [
              0.1111111111111111,
              "#46039f"
             ],
             [
              0.2222222222222222,
              "#7201a8"
             ],
             [
              0.3333333333333333,
              "#9c179e"
             ],
             [
              0.4444444444444444,
              "#bd3786"
             ],
             [
              0.5555555555555556,
              "#d8576b"
             ],
             [
              0.6666666666666666,
              "#ed7953"
             ],
             [
              0.7777777777777778,
              "#fb9f3a"
             ],
             [
              0.8888888888888888,
              "#fdca26"
             ],
             [
              1,
              "#f0f921"
             ]
            ],
            "type": "histogram2d"
           }
          ],
          "histogram2dcontour": [
           {
            "colorbar": {
             "outlinewidth": 0,
             "ticks": ""
            },
            "colorscale": [
             [
              0,
              "#0d0887"
             ],
             [
              0.1111111111111111,
              "#46039f"
             ],
             [
              0.2222222222222222,
              "#7201a8"
             ],
             [
              0.3333333333333333,
              "#9c179e"
             ],
             [
              0.4444444444444444,
              "#bd3786"
             ],
             [
              0.5555555555555556,
              "#d8576b"
             ],
             [
              0.6666666666666666,
              "#ed7953"
             ],
             [
              0.7777777777777778,
              "#fb9f3a"
             ],
             [
              0.8888888888888888,
              "#fdca26"
             ],
             [
              1,
              "#f0f921"
             ]
            ],
            "type": "histogram2dcontour"
           }
          ],
          "mesh3d": [
           {
            "colorbar": {
             "outlinewidth": 0,
             "ticks": ""
            },
            "type": "mesh3d"
           }
          ],
          "parcoords": [
           {
            "line": {
             "colorbar": {
              "outlinewidth": 0,
              "ticks": ""
             }
            },
            "type": "parcoords"
           }
          ],
          "pie": [
           {
            "automargin": true,
            "type": "pie"
           }
          ],
          "scatter": [
           {
            "marker": {
             "colorbar": {
              "outlinewidth": 0,
              "ticks": ""
             }
            },
            "type": "scatter"
           }
          ],
          "scatter3d": [
           {
            "line": {
             "colorbar": {
              "outlinewidth": 0,
              "ticks": ""
             }
            },
            "marker": {
             "colorbar": {
              "outlinewidth": 0,
              "ticks": ""
             }
            },
            "type": "scatter3d"
           }
          ],
          "scattercarpet": [
           {
            "marker": {
             "colorbar": {
              "outlinewidth": 0,
              "ticks": ""
             }
            },
            "type": "scattercarpet"
           }
          ],
          "scattergeo": [
           {
            "marker": {
             "colorbar": {
              "outlinewidth": 0,
              "ticks": ""
             }
            },
            "type": "scattergeo"
           }
          ],
          "scattergl": [
           {
            "marker": {
             "colorbar": {
              "outlinewidth": 0,
              "ticks": ""
             }
            },
            "type": "scattergl"
           }
          ],
          "scattermapbox": [
           {
            "marker": {
             "colorbar": {
              "outlinewidth": 0,
              "ticks": ""
             }
            },
            "type": "scattermapbox"
           }
          ],
          "scatterpolar": [
           {
            "marker": {
             "colorbar": {
              "outlinewidth": 0,
              "ticks": ""
             }
            },
            "type": "scatterpolar"
           }
          ],
          "scatterpolargl": [
           {
            "marker": {
             "colorbar": {
              "outlinewidth": 0,
              "ticks": ""
             }
            },
            "type": "scatterpolargl"
           }
          ],
          "scatterternary": [
           {
            "marker": {
             "colorbar": {
              "outlinewidth": 0,
              "ticks": ""
             }
            },
            "type": "scatterternary"
           }
          ],
          "surface": [
           {
            "colorbar": {
             "outlinewidth": 0,
             "ticks": ""
            },
            "colorscale": [
             [
              0,
              "#0d0887"
             ],
             [
              0.1111111111111111,
              "#46039f"
             ],
             [
              0.2222222222222222,
              "#7201a8"
             ],
             [
              0.3333333333333333,
              "#9c179e"
             ],
             [
              0.4444444444444444,
              "#bd3786"
             ],
             [
              0.5555555555555556,
              "#d8576b"
             ],
             [
              0.6666666666666666,
              "#ed7953"
             ],
             [
              0.7777777777777778,
              "#fb9f3a"
             ],
             [
              0.8888888888888888,
              "#fdca26"
             ],
             [
              1,
              "#f0f921"
             ]
            ],
            "type": "surface"
           }
          ],
          "table": [
           {
            "cells": {
             "fill": {
              "color": "#EBF0F8"
             },
             "line": {
              "color": "white"
             }
            },
            "header": {
             "fill": {
              "color": "#C8D4E3"
             },
             "line": {
              "color": "white"
             }
            },
            "type": "table"
           }
          ]
         },
         "layout": {
          "annotationdefaults": {
           "arrowcolor": "#2a3f5f",
           "arrowhead": 0,
           "arrowwidth": 1
          },
          "coloraxis": {
           "colorbar": {
            "outlinewidth": 0,
            "ticks": ""
           }
          },
          "colorscale": {
           "diverging": [
            [
             0,
             "#8e0152"
            ],
            [
             0.1,
             "#c51b7d"
            ],
            [
             0.2,
             "#de77ae"
            ],
            [
             0.3,
             "#f1b6da"
            ],
            [
             0.4,
             "#fde0ef"
            ],
            [
             0.5,
             "#f7f7f7"
            ],
            [
             0.6,
             "#e6f5d0"
            ],
            [
             0.7,
             "#b8e186"
            ],
            [
             0.8,
             "#7fbc41"
            ],
            [
             0.9,
             "#4d9221"
            ],
            [
             1,
             "#276419"
            ]
           ],
           "sequential": [
            [
             0,
             "#0d0887"
            ],
            [
             0.1111111111111111,
             "#46039f"
            ],
            [
             0.2222222222222222,
             "#7201a8"
            ],
            [
             0.3333333333333333,
             "#9c179e"
            ],
            [
             0.4444444444444444,
             "#bd3786"
            ],
            [
             0.5555555555555556,
             "#d8576b"
            ],
            [
             0.6666666666666666,
             "#ed7953"
            ],
            [
             0.7777777777777778,
             "#fb9f3a"
            ],
            [
             0.8888888888888888,
             "#fdca26"
            ],
            [
             1,
             "#f0f921"
            ]
           ],
           "sequentialminus": [
            [
             0,
             "#0d0887"
            ],
            [
             0.1111111111111111,
             "#46039f"
            ],
            [
             0.2222222222222222,
             "#7201a8"
            ],
            [
             0.3333333333333333,
             "#9c179e"
            ],
            [
             0.4444444444444444,
             "#bd3786"
            ],
            [
             0.5555555555555556,
             "#d8576b"
            ],
            [
             0.6666666666666666,
             "#ed7953"
            ],
            [
             0.7777777777777778,
             "#fb9f3a"
            ],
            [
             0.8888888888888888,
             "#fdca26"
            ],
            [
             1,
             "#f0f921"
            ]
           ]
          },
          "colorway": [
           "#636efa",
           "#EF553B",
           "#00cc96",
           "#ab63fa",
           "#FFA15A",
           "#19d3f3",
           "#FF6692",
           "#B6E880",
           "#FF97FF",
           "#FECB52"
          ],
          "font": {
           "color": "#2a3f5f"
          },
          "geo": {
           "bgcolor": "white",
           "lakecolor": "white",
           "landcolor": "#E5ECF6",
           "showlakes": true,
           "showland": true,
           "subunitcolor": "white"
          },
          "hoverlabel": {
           "align": "left"
          },
          "hovermode": "closest",
          "mapbox": {
           "style": "light"
          },
          "paper_bgcolor": "white",
          "plot_bgcolor": "#E5ECF6",
          "polar": {
           "angularaxis": {
            "gridcolor": "white",
            "linecolor": "white",
            "ticks": ""
           },
           "bgcolor": "#E5ECF6",
           "radialaxis": {
            "gridcolor": "white",
            "linecolor": "white",
            "ticks": ""
           }
          },
          "scene": {
           "xaxis": {
            "backgroundcolor": "#E5ECF6",
            "gridcolor": "white",
            "gridwidth": 2,
            "linecolor": "white",
            "showbackground": true,
            "ticks": "",
            "zerolinecolor": "white"
           },
           "yaxis": {
            "backgroundcolor": "#E5ECF6",
            "gridcolor": "white",
            "gridwidth": 2,
            "linecolor": "white",
            "showbackground": true,
            "ticks": "",
            "zerolinecolor": "white"
           },
           "zaxis": {
            "backgroundcolor": "#E5ECF6",
            "gridcolor": "white",
            "gridwidth": 2,
            "linecolor": "white",
            "showbackground": true,
            "ticks": "",
            "zerolinecolor": "white"
           }
          },
          "shapedefaults": {
           "line": {
            "color": "#2a3f5f"
           }
          },
          "ternary": {
           "aaxis": {
            "gridcolor": "white",
            "linecolor": "white",
            "ticks": ""
           },
           "baxis": {
            "gridcolor": "white",
            "linecolor": "white",
            "ticks": ""
           },
           "bgcolor": "#E5ECF6",
           "caxis": {
            "gridcolor": "white",
            "linecolor": "white",
            "ticks": ""
           }
          },
          "title": {
           "x": 0.05
          },
          "xaxis": {
           "automargin": true,
           "gridcolor": "white",
           "linecolor": "white",
           "ticks": "",
           "title": {
            "standoff": 15
           },
           "zerolinecolor": "white",
           "zerolinewidth": 2
          },
          "yaxis": {
           "automargin": true,
           "gridcolor": "white",
           "linecolor": "white",
           "ticks": "",
           "title": {
            "standoff": 15
           },
           "zerolinecolor": "white",
           "zerolinewidth": 2
          }
         }
        },
        "width": 1000,
        "xaxis": {
         "autorange": true,
         "range": [
          0.08036153867621978,
          0.3769456828660078
         ],
         "title": {
          "text": "Lyrics Uniqueness"
         },
         "type": "linear"
        },
        "yaxis": {
         "autorange": true,
         "range": [
          -0.4337349397590361,
          6.433734939759036
         ],
         "type": "category"
        }
       }
      },
      "image/png": "[encoded data removed]",
      "text/html": [
       "<div>\n",
       "        \n",
       "        \n",
       "            <div id=\"7daff5e6-81a5-4cfe-8d30-ba99943b5617\" class=\"plotly-graph-div\" style=\"height:450px; width:1000px;\"></div>\n",
       "            <script type=\"text/javascript\">\n",
       "                require([\"plotly\"], function(Plotly) {\n",
       "                    window.PLOTLYENV=window.PLOTLYENV || {};\n",
       "                    \n",
       "                if (document.getElementById(\"7daff5e6-81a5-4cfe-8d30-ba99943b5617\")) {\n",
       "                    Plotly.newPlot(\n",
       "                        '7daff5e6-81a5-4cfe-8d30-ba99943b5617',\n",
       "                        [{\"hovertext\": [\"Daylight\", \"Cornelia Street\", \"I Forgot That You Existed\", \"Lover\", \"The Man\", \"The Archer\", \"I Think He Knows\", \"Miss Americana & The Heartbreak Prince\", \"Paper Rings\", \"Cruel Summer\", \"Death By A Thousand Cuts\", \"Soon You'll Get Better\", \"False God\", \"You Need To Calm Down\", \"Afterglow\", \"ME!\", \"It's Nice To Have A Friend\", \"London Boy\", \"Getaway Car\", \"Call It What You Want\", \"Dancing With Our Hands Tied\", \"Delicate\", \"Don't Blame Me\", \"Dress\", \"End Game (Ft.\\u00a0Ed\\u00a0Sheeran & Future)\", \"Look What You Made Me Do\", \"Gorgeous\", \"I Did Something Bad\", \"King of My Heart\", \"New Year's Day\", \"So It Goes...\", \"This Is Why We Can't Have Nice Things\", \"...Ready for It?\", \"Bad Blood\", \"All You Had to Do Was Stay\", \"I Know Places\", \"Out of the Woods\", \"I Wish You Would\", \"Shake It Off\", \"How You Get The Girl\", \"Clean\", \"Blank Space\", \"Style\", \"This Love\", \"Welcome to New York\", \"Wildest Dreams\", \"Wonderland\", \"You Are in Love\", \"New Romantics\", \"Girl at Home\", \"22\", \"All Too Well\", \"Begin Again\", \"Come Back... Be Here\", \"Holy Ground\", \"I Almost Do\", \"We Are Never Ever Getting Back Together\", \"Treacherous\", \"The Moment I Knew\", \"The Lucky One\", \"The Last Time (Ft.\\u00a0Gary\\u00a0Lightbody)\", \"Stay Stay Stay\", \"State of Grace\", \"Starlight\", \"Sad Beautiful Tragic\", \"Red\", \"I Knew You Were Trouble\", \"Everything Has Changed (Ft.\\u00a0Ed\\u00a0Sheeran)\", \"Long Live\", \"Superman\", \"Last Kiss\", \"Ours\", \"Sparks Fly\", \"The Story of Us\", \"Never Grow Up\", \"Mine\", \"Mean\", \"Speak Now\", \"Innocent\", \"Haunted\", \"Enchanted\", \"Dear John\", \"Better Than Revenge\", \"If This Was a Movie\", \"Back To December\", \"Hey Stephen\", \"Breathe (Ft.\\u00a0Colbie\\u00a0Caillat)\", \"Change\", \"Fearless\", \"Fifteen\", \"Forever & Always\", \"The Best Day\", \"Tell Me Why\", \"The Way I Loved You\", \"White Horse\", \"You Belong With Me\", \"You're Not Sorry\", \"Love Story\", \"Invisible\", \"Mary's Song (Oh My My My)\", \"A Perfectly Good Heart\", \"A Place In This World\", \"Cold as You\", \"Tim McGraw\", \"Tied Together With A Smile\", \"The Outside\", \"Teardrops On My Guitar\", \"Stay Beautiful\", \"I'm Only Me When I'm With You\", \"Picture To Burn\", \"Our Song\", \"Should've Said No\"], \"marker\": {\"color\": [\"#ff8c8c\", \"#ff8c8c\", \"#ff8c8c\", \"#ff8c8c\", \"#ff8c8c\", \"#ff8c8c\", \"#ff8c8c\", \"#ff8c8c\", \"#ff8c8c\", \"#ff8c8c\", \"#ff8c8c\", \"#ff8c8c\", \"#ff8c8c\", \"#ff8c8c\", \"#ff8c8c\", \"#ff8c8c\", \"#ff8c8c\", \"#ff8c8c\", \"#454545\", \"#454545\", \"#454545\", \"#454545\", \"#454545\", \"#454545\", \"#454545\", \"#454545\", \"#454545\", \"#454545\", \"#454545\", \"#454545\", \"#454545\", \"#454545\", \"#454545\", \"#faab00\", \"#faab00\", \"#faab00\", \"#faab00\", \"#faab00\", \"#faab00\", \"#faab00\", \"#faab00\", \"#faab00\", \"#faab00\", \"#faab00\", \"#faab00\", \"#faab00\", \"#faab00\", \"#faab00\", \"#faab00\", \"#ff2b2b\", \"#ff2b2b\", \"#ff2b2b\", \"#ff2b2b\", \"#ff2b2b\", \"#ff2b2b\", \"#ff2b2b\", \"#ff2b2b\", \"#ff2b2b\", \"#ff2b2b\", \"#ff2b2b\", \"#ff2b2b\", \"#ff2b2b\", \"#ff2b2b\", \"#ff2b2b\", \"#ff2b2b\", \"#ff2b2b\", \"#ff2b2b\", \"#ff2b2b\", \"#d52bff\", \"#d52bff\", \"#d52bff\", \"#d52bff\", \"#d52bff\", \"#d52bff\", \"#d52bff\", \"#d52bff\", \"#d52bff\", \"#d52bff\", \"#d52bff\", \"#d52bff\", \"#d52bff\", \"#d52bff\", \"#d52bff\", \"#d52bff\", \"#d52bff\", \"#fcf803\", \"#fcf803\", \"#fcf803\", \"#fcf803\", \"#fcf803\", \"#fcf803\", \"#fcf803\", \"#fcf803\", \"#fcf803\", \"#fcf803\", \"#fcf803\", \"#fcf803\", \"#fcf803\", \"#03fcb1\", \"#03fcb1\", \"#03fcb1\", \"#03fcb1\", \"#03fcb1\", \"#03fcb1\", \"#03fcb1\", \"#03fcb1\", \"#03fcb1\", \"#03fcb1\", \"#03fcb1\", \"#03fcb1\", \"#03fcb1\", \"#03fcb1\"], \"size\": 8}, \"mode\": \"markers\", \"opacity\": 0.8, \"type\": \"scatter\", \"x\": [0.18055555555555555, 0.24181360201511334, 0.23322683706070288, 0.2564102564102564, 0.14623655913978495, 0.21359223300970873, 0.1658653846153846, 0.19499105545617174, 0.1835564053537285, 0.18548387096774194, 0.18085106382978725, 0.21851851851851853, 0.19428571428571428, 0.2, 0.16627634660421545, 0.14056939501779359, 0.36046511627906974, 0.22747747747747749, 0.18983050847457628, 0.19360902255639098, 0.17391304347826086, 0.13111888111888112, 0.1339622641509434, 0.15296367112810708, 0.1837270341207349, 0.11917098445595854, 0.17857142857142858, 0.16556291390728478, 0.16565656565656567, 0.1486146095717884, 0.16625916870415647, 0.1740139211136891, 0.16853932584269662, 0.12427184466019417, 0.0968421052631579, 0.21474358974358973, 0.10534351145038168, 0.12095400340715502, 0.10793650793650794, 0.1179245283018868, 0.24742268041237114, 0.2255772646536412, 0.1868421052631579, 0.22580645161290322, 0.1632047477744807, 0.17215189873417722, 0.1891304347826087, 0.22849462365591397, 0.20047169811320756, 0.15789473684210525, 0.15211970074812967, 0.2836438923395445, 0.2215909090909091, 0.23487544483985764, 0.2558922558922559, 0.19931271477663232, 0.18933333333333333, 0.17231638418079095, 0.21558441558441557, 0.24722222222222223, 0.1062992125984252, 0.18282548476454294, 0.2803347280334728, 0.20402298850574713, 0.3155080213903743, 0.2676056338028169, 0.164021164021164, 0.1437908496732026, 0.23820224719101124, 0.19852941176470587, 0.2156398104265403, 0.25157232704402516, 0.22950819672131148, 0.1951219512195122, 0.20625, 0.23373493975903614, 0.1958997722095672, 0.21076233183856502, 0.2298507462686567, 0.18082191780821918, 0.22422680412371135, 0.2775, 0.1863468634686347, 0.1771058315334773, 0.19777777777777777, 0.16820276497695852, 0.252, 0.2491349480968858, 0.20294117647058824, 0.22954545454545455, 0.17289719626168223, 0.2967914438502674, 0.18230563002680966, 0.25170068027210885, 0.24382716049382716, 0.20046620046620048, 0.17901234567901234, 0.23425692695214106, 0.15708812260536398, 0.2647058823529412, 0.1565217391304348, 0.1856060606060606, 0.244, 0.2154255319148936, 0.1875, 0.19421487603305784, 0.22712933753943218, 0.22033898305084745, 0.17159763313609466, 0.20249221183800623, 0.2198952879581152, 0.152], \"y\": [\"Lover\", \"Lover\", \"Lover\", \"Lover\", \"Lover\", \"Lover\", \"Lover\", \"Lover\", \"Lover\", \"Lover\", \"Lover\", \"Lover\", \"Lover\", \"Lover\", \"Lover\", \"Lover\", \"Lover\", \"Lover\", \"reputation\", \"reputation\", \"reputation\", \"reputation\", \"reputation\", \"reputation\", \"reputation\", \"reputation\", \"reputation\", \"reputation\", \"reputation\", \"reputation\", \"reputation\", \"reputation\", \"reputation\", \"1989\", \"1989\", \"1989\", \"1989\", \"1989\", \"1989\", \"1989\", \"1989\", \"1989\", \"1989\", \"1989\", \"1989\", \"1989\", \"1989\", \"1989\", \"1989\", \"Red\", \"Red\", \"Red\", \"Red\", \"Red\", \"Red\", \"Red\", \"Red\", \"Red\", \"Red\", \"Red\", \"Red\", \"Red\", \"Red\", \"Red\", \"Red\", \"Red\", \"Red\", \"Red\", \"Speak Now\", \"Speak Now\", \"Speak Now\", \"Speak Now\", \"Speak Now\", \"Speak Now\", \"Speak Now\", \"Speak Now\", \"Speak Now\", \"Speak Now\", \"Speak Now\", \"Speak Now\", \"Speak Now\", \"Speak Now\", \"Speak Now\", \"Speak Now\", \"Speak Now\", \"Fearless\", \"Fearless\", \"Fearless\", \"Fearless\", \"Fearless\", \"Fearless\", \"Fearless\", \"Fearless\", \"Fearless\", \"Fearless\", \"Fearless\", \"Fearless\", \"Fearless\", \"Taylor Swift\", \"Taylor Swift\", \"Taylor Swift\", \"Taylor Swift\", \"Taylor Swift\", \"Taylor Swift\", \"Taylor Swift\", \"Taylor Swift\", \"Taylor Swift\", \"Taylor Swift\", \"Taylor Swift\", \"Taylor Swift\", \"Taylor Swift\", \"Taylor Swift\"]}],\n",
       "                        {\"height\": 450, \"margin\": {\"b\": 10, \"l\": 10, \"pad\": 10, \"r\": 10, \"t\": 10}, \"plot_bgcolor\": \"rgb(255,255,255)\", \"template\": {\"data\": {\"bar\": [{\"error_x\": {\"color\": \"#2a3f5f\"}, \"error_y\": {\"color\": \"#2a3f5f\"}, \"marker\": {\"line\": {\"color\": \"#E5ECF6\", \"width\": 0.5}}, \"type\": \"bar\"}], \"barpolar\": [{\"marker\": {\"line\": {\"color\": \"#E5ECF6\", \"width\": 0.5}}, \"type\": \"barpolar\"}], \"carpet\": [{\"aaxis\": {\"endlinecolor\": \"#2a3f5f\", \"gridcolor\": \"white\", \"linecolor\": \"white\", \"minorgridcolor\": \"white\", \"startlinecolor\": \"#2a3f5f\"}, \"baxis\": {\"endlinecolor\": \"#2a3f5f\", \"gridcolor\": \"white\", \"linecolor\": \"white\", \"minorgridcolor\": \"white\", \"startlinecolor\": \"#2a3f5f\"}, \"type\": \"carpet\"}], \"choropleth\": [{\"colorbar\": {\"outlinewidth\": 0, \"ticks\": \"\"}, \"type\": \"choropleth\"}], \"contour\": [{\"colorbar\": {\"outlinewidth\": 0, \"ticks\": \"\"}, \"colorscale\": [[0.0, \"#0d0887\"], [0.1111111111111111, \"#46039f\"], [0.2222222222222222, \"#7201a8\"], [0.3333333333333333, \"#9c179e\"], [0.4444444444444444, \"#bd3786\"], [0.5555555555555556, \"#d8576b\"], [0.6666666666666666, \"#ed7953\"], [0.7777777777777778, \"#fb9f3a\"], [0.8888888888888888, \"#fdca26\"], [1.0, \"#f0f921\"]], \"type\": \"contour\"}], \"contourcarpet\": [{\"colorbar\": {\"outlinewidth\": 0, \"ticks\": \"\"}, \"type\": \"contourcarpet\"}], \"heatmap\": [{\"colorbar\": {\"outlinewidth\": 0, \"ticks\": \"\"}, \"colorscale\": [[0.0, \"#0d0887\"], [0.1111111111111111, \"#46039f\"], [0.2222222222222222, \"#7201a8\"], [0.3333333333333333, \"#9c179e\"], [0.4444444444444444, \"#bd3786\"], [0.5555555555555556, \"#d8576b\"], [0.6666666666666666, \"#ed7953\"], [0.7777777777777778, \"#fb9f3a\"], [0.8888888888888888, \"#fdca26\"], [1.0, \"#f0f921\"]], \"type\": \"heatmap\"}], \"heatmapgl\": [{\"colorbar\": {\"outlinewidth\": 0, \"ticks\": \"\"}, \"colorscale\": [[0.0, \"#0d0887\"], [0.1111111111111111, \"#46039f\"], [0.2222222222222222, \"#7201a8\"], [0.3333333333333333, \"#9c179e\"], [0.4444444444444444, \"#bd3786\"], [0.5555555555555556, \"#d8576b\"], [0.6666666666666666, \"#ed7953\"], [0.7777777777777778, \"#fb9f3a\"], [0.8888888888888888, \"#fdca26\"], [1.0, \"#f0f921\"]], \"type\": \"heatmapgl\"}], \"histogram\": [{\"marker\": {\"colorbar\": {\"outlinewidth\": 0, \"ticks\": \"\"}}, \"type\": \"histogram\"}], \"histogram2d\": [{\"colorbar\": {\"outlinewidth\": 0, \"ticks\": \"\"}, \"colorscale\": [[0.0, \"#0d0887\"], [0.1111111111111111, \"#46039f\"], [0.2222222222222222, \"#7201a8\"], [0.3333333333333333, \"#9c179e\"], [0.4444444444444444, \"#bd3786\"], [0.5555555555555556, \"#d8576b\"], [0.6666666666666666, \"#ed7953\"], [0.7777777777777778, \"#fb9f3a\"], [0.8888888888888888, \"#fdca26\"], [1.0, \"#f0f921\"]], \"type\": \"histogram2d\"}], \"histogram2dcontour\": [{\"colorbar\": {\"outlinewidth\": 0, \"ticks\": \"\"}, \"colorscale\": [[0.0, \"#0d0887\"], [0.1111111111111111, \"#46039f\"], [0.2222222222222222, \"#7201a8\"], [0.3333333333333333, \"#9c179e\"], [0.4444444444444444, \"#bd3786\"], [0.5555555555555556, \"#d8576b\"], [0.6666666666666666, \"#ed7953\"], [0.7777777777777778, \"#fb9f3a\"], [0.8888888888888888, \"#fdca26\"], [1.0, \"#f0f921\"]], \"type\": \"histogram2dcontour\"}], \"mesh3d\": [{\"colorbar\": {\"outlinewidth\": 0, \"ticks\": \"\"}, \"type\": \"mesh3d\"}], \"parcoords\": [{\"line\": {\"colorbar\": {\"outlinewidth\": 0, \"ticks\": \"\"}}, \"type\": \"parcoords\"}], \"pie\": [{\"automargin\": true, \"type\": \"pie\"}], \"scatter\": [{\"marker\": {\"colorbar\": {\"outlinewidth\": 0, \"ticks\": \"\"}}, \"type\": \"scatter\"}], \"scatter3d\": [{\"line\": {\"colorbar\": {\"outlinewidth\": 0, \"ticks\": \"\"}}, \"marker\": {\"colorbar\": {\"outlinewidth\": 0, \"ticks\": \"\"}}, \"type\": \"scatter3d\"}], \"scattercarpet\": [{\"marker\": {\"colorbar\": {\"outlinewidth\": 0, \"ticks\": \"\"}}, \"type\": \"scattercarpet\"}], \"scattergeo\": [{\"marker\": {\"colorbar\": {\"outlinewidth\": 0, \"ticks\": \"\"}}, \"type\": \"scattergeo\"}], \"scattergl\": [{\"marker\": {\"colorbar\": {\"outlinewidth\": 0, \"ticks\": \"\"}}, \"type\": \"scattergl\"}], \"scattermapbox\": [{\"marker\": {\"colorbar\": {\"outlinewidth\": 0, \"ticks\": \"\"}}, \"type\": \"scattermapbox\"}], \"scatterpolar\": [{\"marker\": {\"colorbar\": {\"outlinewidth\": 0, \"ticks\": \"\"}}, \"type\": \"scatterpolar\"}], \"scatterpolargl\": [{\"marker\": {\"colorbar\": {\"outlinewidth\": 0, \"ticks\": \"\"}}, \"type\": \"scatterpolargl\"}], \"scatterternary\": [{\"marker\": {\"colorbar\": {\"outlinewidth\": 0, \"ticks\": \"\"}}, \"type\": \"scatterternary\"}], \"surface\": [{\"colorbar\": {\"outlinewidth\": 0, \"ticks\": \"\"}, \"colorscale\": [[0.0, \"#0d0887\"], [0.1111111111111111, \"#46039f\"], [0.2222222222222222, \"#7201a8\"], [0.3333333333333333, \"#9c179e\"], [0.4444444444444444, \"#bd3786\"], [0.5555555555555556, \"#d8576b\"], [0.6666666666666666, \"#ed7953\"], [0.7777777777777778, \"#fb9f3a\"], [0.8888888888888888, \"#fdca26\"], [1.0, \"#f0f921\"]], \"type\": \"surface\"}], \"table\": [{\"cells\": {\"fill\": {\"color\": \"#EBF0F8\"}, \"line\": {\"color\": \"white\"}}, \"header\": {\"fill\": {\"color\": \"#C8D4E3\"}, \"line\": {\"color\": \"white\"}}, \"type\": \"table\"}]}, \"layout\": {\"annotationdefaults\": {\"arrowcolor\": \"#2a3f5f\", \"arrowhead\": 0, \"arrowwidth\": 1}, \"coloraxis\": {\"colorbar\": {\"outlinewidth\": 0, \"ticks\": \"\"}}, \"colorscale\": {\"diverging\": [[0, \"#8e0152\"], [0.1, \"#c51b7d\"], [0.2, \"#de77ae\"], [0.3, \"#f1b6da\"], [0.4, \"#fde0ef\"], [0.5, \"#f7f7f7\"], [0.6, \"#e6f5d0\"], [0.7, \"#b8e186\"], [0.8, \"#7fbc41\"], [0.9, \"#4d9221\"], [1, \"#276419\"]], \"sequential\": [[0.0, \"#0d0887\"], [0.1111111111111111, \"#46039f\"], [0.2222222222222222, \"#7201a8\"], [0.3333333333333333, \"#9c179e\"], [0.4444444444444444, \"#bd3786\"], [0.5555555555555556, \"#d8576b\"], [0.6666666666666666, \"#ed7953\"], [0.7777777777777778, \"#fb9f3a\"], [0.8888888888888888, \"#fdca26\"], [1.0, \"#f0f921\"]], \"sequentialminus\": [[0.0, \"#0d0887\"], [0.1111111111111111, \"#46039f\"], [0.2222222222222222, \"#7201a8\"], [0.3333333333333333, \"#9c179e\"], [0.4444444444444444, \"#bd3786\"], [0.5555555555555556, \"#d8576b\"], [0.6666666666666666, \"#ed7953\"], [0.7777777777777778, \"#fb9f3a\"], [0.8888888888888888, \"#fdca26\"], [1.0, \"#f0f921\"]]}, \"colorway\": [\"#636efa\", \"#EF553B\", \"#00cc96\", \"#ab63fa\", \"#FFA15A\", \"#19d3f3\", \"#FF6692\", \"#B6E880\", \"#FF97FF\", \"#FECB52\"], \"font\": {\"color\": \"#2a3f5f\"}, \"geo\": {\"bgcolor\": \"white\", \"lakecolor\": \"white\", \"landcolor\": \"#E5ECF6\", \"showlakes\": true, \"showland\": true, \"subunitcolor\": \"white\"}, \"hoverlabel\": {\"align\": \"left\"}, \"hovermode\": \"closest\", \"mapbox\": {\"style\": \"light\"}, \"paper_bgcolor\": \"white\", \"plot_bgcolor\": \"#E5ECF6\", \"polar\": {\"angularaxis\": {\"gridcolor\": \"white\", \"linecolor\": \"white\", \"ticks\": \"\"}, \"bgcolor\": \"#E5ECF6\", \"radialaxis\": {\"gridcolor\": \"white\", \"linecolor\": \"white\", \"ticks\": \"\"}}, \"scene\": {\"xaxis\": {\"backgroundcolor\": \"#E5ECF6\", \"gridcolor\": \"white\", \"gridwidth\": 2, \"linecolor\": \"white\", \"showbackground\": true, \"ticks\": \"\", \"zerolinecolor\": \"white\"}, \"yaxis\": {\"backgroundcolor\": \"#E5ECF6\", \"gridcolor\": \"white\", \"gridwidth\": 2, \"linecolor\": \"white\", \"showbackground\": true, \"ticks\": \"\", \"zerolinecolor\": \"white\"}, \"zaxis\": {\"backgroundcolor\": \"#E5ECF6\", \"gridcolor\": \"white\", \"gridwidth\": 2, \"linecolor\": \"white\", \"showbackground\": true, \"ticks\": \"\", \"zerolinecolor\": \"white\"}}, \"shapedefaults\": {\"line\": {\"color\": \"#2a3f5f\"}}, \"ternary\": {\"aaxis\": {\"gridcolor\": \"white\", \"linecolor\": \"white\", \"ticks\": \"\"}, \"baxis\": {\"gridcolor\": \"white\", \"linecolor\": \"white\", \"ticks\": \"\"}, \"bgcolor\": \"#E5ECF6\", \"caxis\": {\"gridcolor\": \"white\", \"linecolor\": \"white\", \"ticks\": \"\"}}, \"title\": {\"x\": 0.05}, \"xaxis\": {\"automargin\": true, \"gridcolor\": \"white\", \"linecolor\": \"white\", \"ticks\": \"\", \"title\": {\"standoff\": 15}, \"zerolinecolor\": \"white\", \"zerolinewidth\": 2}, \"yaxis\": {\"automargin\": true, \"gridcolor\": \"white\", \"linecolor\": \"white\", \"ticks\": \"\", \"title\": {\"standoff\": 15}, \"zerolinecolor\": \"white\", \"zerolinewidth\": 2}}}, \"width\": 1000, \"xaxis\": {\"title\": {\"text\": \"Lyrics Uniqueness\"}}, \"yaxis\": {\"type\": \"category\"}},\n",
       "                        {\"responsive\": true}\n",
       "                    ).then(function(){\n",
       "                            \n",
       "var gd = document.getElementById('7daff5e6-81a5-4cfe-8d30-ba99943b5617');\n",
       "var x = new MutationObserver(function (mutations, observer) {{\n",
       "        var display = window.getComputedStyle(gd).display;\n",
       "        if (!display || display === 'none') {{\n",
       "            console.log([gd, 'removed!']);\n",
       "            Plotly.purge(gd);\n",
       "            observer.disconnect();\n",
       "        }}\n",
       "}});\n",
       "\n",
       "// Listen for the removal of the full notebook cells\n",
       "var notebookContainer = gd.closest('#notebook-container');\n",
       "if (notebookContainer) {{\n",
       "    x.observe(notebookContainer, {childList: true});\n",
       "}}\n",
       "\n",
       "// Listen for the clearing of the current output cell\n",
       "var outputEl = gd.closest('.output');\n",
       "if (outputEl) {{\n",
       "    x.observe(outputEl, {childList: true});\n",
       "}}\n",
       "\n",
       "                        })\n",
       "                };\n",
       "                });\n",
       "            </script>\n",
       "        </div>"
      ]
     },
     "metadata": {},
     "output_type": "display_data"
    }
   ],
   "source": [
    "fig = go.Figure(data=go.Scatter(x=songs['uniqueness'],\n",
    "                                y=songs['album'],\n",
    "                                mode='markers',\n",
    "                                opacity=0.8,\n",
    "                                marker=dict(size=8, color=songs['album'].map(album_color)),\n",
    "                                hovertext=songs['track_title']))\n",
    "fig.update_layout(yaxis_type='category',\n",
    "                  width=1000, \n",
    "                  height=450, \n",
    "                  plot_bgcolor='rgb(255,255,255)',\n",
    "                  xaxis_title='Lyrics Uniqueness',\n",
    "                  margin={'l':10, 'r':10, 'b':10, 't':10, 'pad':10})\n",
    "fig.show()\n",
    "fig.write_html(\"images/uniqueness_by_song.html\")"
   ]
  },
  {
   "cell_type": "code",
   "execution_count": 24,
   "metadata": {},
   "outputs": [
    {
     "data": {
      "application/vnd.plotly.v1+json": {
       "config": {
        "plotlyServerURL": "https://plot.ly"
       },
       "data": [
        {
         "hovertext": [
          "Daylight",
          "Cornelia Street",
          "I Forgot That You Existed",
          "Lover",
          "The Man",
          "The Archer",
          "I Think He Knows",
          "Miss Americana & The Heartbreak Prince",
          "Paper Rings",
          "Cruel Summer",
          "Death By A Thousand Cuts",
          "Soon You'll Get Better",
          "False God",
          "You Need To Calm Down",
          "Afterglow",
          "ME!",
          "It's Nice To Have A Friend",
          "London Boy"
         ],
         "marker": {
          "color": [
           "#ff8c8c",
           "#ff8c8c",
           "#ff8c8c",
           "#ff8c8c",
           "#ff8c8c",
           "#ff8c8c",
           "#ff8c8c",
           "#ff8c8c",
           "#ff8c8c",
           "#ff8c8c",
           "#ff8c8c",
           "#ff8c8c",
           "#ff8c8c",
           "#ff8c8c",
           "#ff8c8c",
           "#ff8c8c",
           "#ff8c8c",
           "#ff8c8c"
          ],
          "size": 8
         },
         "mode": "markers",
         "name": "Lover",
         "opacity": 0.8,
         "type": "scatter",
         "x": [
          504,
          397,
          313,
          273,
          465,
          309,
          416,
          559,
          523,
          496,
          470,
          270,
          350,
          395,
          427,
          562,
          172,
          444
         ],
         "y": [
          0.18055555555555555,
          0.24181360201511334,
          0.23322683706070288,
          0.2564102564102564,
          0.14623655913978495,
          0.21359223300970873,
          0.1658653846153846,
          0.19499105545617174,
          0.1835564053537285,
          0.18548387096774194,
          0.18085106382978725,
          0.21851851851851853,
          0.19428571428571428,
          0.2,
          0.16627634660421545,
          0.14056939501779359,
          0.36046511627906974,
          0.22747747747747749
         ]
        },
        {
         "hovertext": [
          "Getaway Car",
          "Call It What You Want",
          "Dancing With Our Hands Tied",
          "Delicate",
          "Don't Blame Me",
          "Dress",
          "End Game (Ft. Ed Sheeran & Future)",
          "Look What You Made Me Do",
          "Gorgeous",
          "I Did Something Bad",
          "King of My Heart",
          "New Year's Day",
          "So It Goes...",
          "This Is Why We Can't Have Nice Things",
          "...Ready for It?"
         ],
         "marker": {
          "color": [
           "#454545",
           "#454545",
           "#454545",
           "#454545",
           "#454545",
           "#454545",
           "#454545",
           "#454545",
           "#454545",
           "#454545",
           "#454545",
           "#454545",
           "#454545",
           "#454545",
           "#454545"
          ],
          "size": 8
         },
         "mode": "markers",
         "name": "reputation",
         "opacity": 0.8,
         "type": "scatter",
         "x": [
          590,
          532,
          437,
          572,
          530,
          523,
          762,
          579,
          420,
          453,
          495,
          397,
          409,
          431,
          445
         ],
         "y": [
          0.18983050847457628,
          0.19360902255639098,
          0.17391304347826086,
          0.13111888111888112,
          0.1339622641509434,
          0.15296367112810708,
          0.1837270341207349,
          0.11917098445595854,
          0.17857142857142858,
          0.16556291390728478,
          0.16565656565656567,
          0.1486146095717884,
          0.16625916870415647,
          0.1740139211136891,
          0.16853932584269662
         ]
        },
        {
         "hovertext": [
          "Bad Blood",
          "All You Had to Do Was Stay",
          "I Know Places",
          "Out of the Woods",
          "I Wish You Would",
          "Shake It Off",
          "How You Get The Girl",
          "Clean",
          "Blank Space",
          "Style",
          "This Love",
          "Welcome to New York",
          "Wildest Dreams",
          "Wonderland",
          "You Are in Love",
          "New Romantics"
         ],
         "marker": {
          "color": [
           "#faab00",
           "#faab00",
           "#faab00",
           "#faab00",
           "#faab00",
           "#faab00",
           "#faab00",
           "#faab00",
           "#faab00",
           "#faab00",
           "#faab00",
           "#faab00",
           "#faab00",
           "#faab00",
           "#faab00",
           "#faab00"
          ],
          "size": 8
         },
         "mode": "markers",
         "name": "1989",
         "opacity": 0.8,
         "type": "scatter",
         "x": [
          515,
          475,
          312,
          655,
          587,
          630,
          424,
          291,
          563,
          380,
          279,
          337,
          395,
          460,
          372,
          424
         ],
         "y": [
          0.12427184466019417,
          0.0968421052631579,
          0.21474358974358973,
          0.10534351145038168,
          0.12095400340715502,
          0.10793650793650794,
          0.1179245283018868,
          0.24742268041237114,
          0.2255772646536412,
          0.1868421052631579,
          0.22580645161290322,
          0.1632047477744807,
          0.17215189873417722,
          0.1891304347826087,
          0.22849462365591397,
          0.20047169811320756
         ]
        },
        {
         "hovertext": [
          "Girl at Home",
          "22",
          "All Too Well",
          "Begin Again",
          "Come Back... Be Here",
          "Holy Ground",
          "I Almost Do",
          "We Are Never Ever Getting Back Together",
          "Treacherous",
          "The Moment I Knew",
          "The Lucky One",
          "The Last Time (Ft. Gary Lightbody)",
          "Stay Stay Stay",
          "State of Grace",
          "Starlight",
          "Sad Beautiful Tragic",
          "Red",
          "I Knew You Were Trouble",
          "Everything Has Changed (Ft. Ed Sheeran)"
         ],
         "marker": {
          "color": [
           "#ff2b2b",
           "#ff2b2b",
           "#ff2b2b",
           "#ff2b2b",
           "#ff2b2b",
           "#ff2b2b",
           "#ff2b2b",
           "#ff2b2b",
           "#ff2b2b",
           "#ff2b2b",
           "#ff2b2b",
           "#ff2b2b",
           "#ff2b2b",
           "#ff2b2b",
           "#ff2b2b",
           "#ff2b2b",
           "#ff2b2b",
           "#ff2b2b",
           "#ff2b2b"
          ],
          "size": 8
         },
         "mode": "markers",
         "name": "Red",
         "opacity": 0.8,
         "type": "scatter",
         "x": [
          380,
          401,
          483,
          352,
          281,
          297,
          291,
          375,
          354,
          385,
          360,
          508,
          361,
          239,
          348,
          187,
          284,
          378,
          459
         ],
         "y": [
          0.15789473684210525,
          0.15211970074812967,
          0.2836438923395445,
          0.2215909090909091,
          0.23487544483985764,
          0.2558922558922559,
          0.19931271477663232,
          0.18933333333333333,
          0.17231638418079095,
          0.21558441558441557,
          0.24722222222222223,
          0.1062992125984252,
          0.18282548476454294,
          0.2803347280334728,
          0.20402298850574713,
          0.3155080213903743,
          0.2676056338028169,
          0.164021164021164,
          0.1437908496732026
         ]
        },
        {
         "hovertext": [
          "Long Live",
          "Superman",
          "Last Kiss",
          "Ours",
          "Sparks Fly",
          "The Story of Us",
          "Never Grow Up",
          "Mine",
          "Mean",
          "Speak Now",
          "Innocent",
          "Haunted",
          "Enchanted",
          "Dear John",
          "Better Than Revenge",
          "If This Was a Movie",
          "Back To December"
         ],
         "marker": {
          "color": [
           "#d52bff",
           "#d52bff",
           "#d52bff",
           "#d52bff",
           "#d52bff",
           "#d52bff",
           "#d52bff",
           "#d52bff",
           "#d52bff",
           "#d52bff",
           "#d52bff",
           "#d52bff",
           "#d52bff",
           "#d52bff",
           "#d52bff",
           "#d52bff",
           "#d52bff"
          ],
          "size": 8
         },
         "mode": "markers",
         "name": "Speak Now",
         "opacity": 0.8,
         "type": "scatter",
         "x": [
          445,
          408,
          422,
          318,
          366,
          492,
          480,
          415,
          439,
          446,
          335,
          365,
          388,
          400,
          542,
          463,
          450
         ],
         "y": [
          0.23820224719101124,
          0.19852941176470587,
          0.2156398104265403,
          0.25157232704402516,
          0.22950819672131148,
          0.1951219512195122,
          0.20625,
          0.23373493975903614,
          0.1958997722095672,
          0.21076233183856502,
          0.2298507462686567,
          0.18082191780821918,
          0.22422680412371135,
          0.2775,
          0.1863468634686347,
          0.1771058315334773,
          0.19777777777777777
         ]
        },
        {
         "hovertext": [
          "Hey Stephen",
          "Breathe (Ft. Colbie Caillat)",
          "Change",
          "Fearless",
          "Fifteen",
          "Forever & Always",
          "The Best Day",
          "Tell Me Why",
          "The Way I Loved You",
          "White Horse",
          "You Belong With Me",
          "You're Not Sorry",
          "Love Story"
         ],
         "marker": {
          "color": [
           "#fcf803",
           "#fcf803",
           "#fcf803",
           "#fcf803",
           "#fcf803",
           "#fcf803",
           "#fcf803",
           "#fcf803",
           "#fcf803",
           "#fcf803",
           "#fcf803",
           "#fcf803",
           "#fcf803"
          ],
          "size": 8
         },
         "mode": "markers",
         "name": "Fearless",
         "opacity": 0.8,
         "type": "scatter",
         "x": [
          434,
          250,
          289,
          340,
          440,
          428,
          374,
          373,
          294,
          324,
          429,
          324,
          397
         ],
         "y": [
          0.16820276497695852,
          0.252,
          0.2491349480968858,
          0.20294117647058824,
          0.22954545454545455,
          0.17289719626168223,
          0.2967914438502674,
          0.18230563002680966,
          0.25170068027210885,
          0.24382716049382716,
          0.20046620046620048,
          0.17901234567901234,
          0.23425692695214106
         ]
        },
        {
         "hovertext": [
          "Invisible",
          "Mary's Song (Oh My My My)",
          "A Perfectly Good Heart",
          "A Place In This World",
          "Cold as You",
          "Tim McGraw",
          "Tied Together With A Smile",
          "The Outside",
          "Teardrops On My Guitar",
          "Stay Beautiful",
          "I'm Only Me When I'm With You",
          "Picture To Burn",
          "Our Song",
          "Should've Said No"
         ],
         "marker": {
          "color": [
           "#03fcb1",
           "#03fcb1",
           "#03fcb1",
           "#03fcb1",
           "#03fcb1",
           "#03fcb1",
           "#03fcb1",
           "#03fcb1",
           "#03fcb1",
           "#03fcb1",
           "#03fcb1",
           "#03fcb1",
           "#03fcb1",
           "#03fcb1"
          ],
          "size": 8
         },
         "mode": "markers",
         "name": "Taylor Swift",
         "opacity": 0.8,
         "type": "scatter",
         "x": [
          261,
          340,
          230,
          264,
          250,
          376,
          272,
          242,
          317,
          295,
          338,
          321,
          382,
          375
         ],
         "y": [
          0.15708812260536398,
          0.2647058823529412,
          0.1565217391304348,
          0.1856060606060606,
          0.244,
          0.2154255319148936,
          0.1875,
          0.19421487603305784,
          0.22712933753943218,
          0.22033898305084745,
          0.17159763313609466,
          0.20249221183800623,
          0.2198952879581152,
          0.152
         ]
        }
       ],
       "layout": {
        "height": 600,
        "margin": {
         "b": 10,
         "l": 10,
         "pad": 10,
         "r": 10,
         "t": 30
        },
        "plot_bgcolor": "rgb(255,255,255)",
        "template": {
         "data": {
          "bar": [
           {
            "error_x": {
             "color": "#2a3f5f"
            },
            "error_y": {
             "color": "#2a3f5f"
            },
            "marker": {
             "line": {
              "color": "#E5ECF6",
              "width": 0.5
             }
            },
            "type": "bar"
           }
          ],
          "barpolar": [
           {
            "marker": {
             "line": {
              "color": "#E5ECF6",
              "width": 0.5
             }
            },
            "type": "barpolar"
           }
          ],
          "carpet": [
           {
            "aaxis": {
             "endlinecolor": "#2a3f5f",
             "gridcolor": "white",
             "linecolor": "white",
             "minorgridcolor": "white",
             "startlinecolor": "#2a3f5f"
            },
            "baxis": {
             "endlinecolor": "#2a3f5f",
             "gridcolor": "white",
             "linecolor": "white",
             "minorgridcolor": "white",
             "startlinecolor": "#2a3f5f"
            },
            "type": "carpet"
           }
          ],
          "choropleth": [
           {
            "colorbar": {
             "outlinewidth": 0,
             "ticks": ""
            },
            "type": "choropleth"
           }
          ],
          "contour": [
           {
            "colorbar": {
             "outlinewidth": 0,
             "ticks": ""
            },
            "colorscale": [
             [
              0,
              "#0d0887"
             ],
             [
              0.1111111111111111,
              "#46039f"
             ],
             [
              0.2222222222222222,
              "#7201a8"
             ],
             [
              0.3333333333333333,
              "#9c179e"
             ],
             [
              0.4444444444444444,
              "#bd3786"
             ],
             [
              0.5555555555555556,
              "#d8576b"
             ],
             [
              0.6666666666666666,
              "#ed7953"
             ],
             [
              0.7777777777777778,
              "#fb9f3a"
             ],
             [
              0.8888888888888888,
              "#fdca26"
             ],
             [
              1,
              "#f0f921"
             ]
            ],
            "type": "contour"
           }
          ],
          "contourcarpet": [
           {
            "colorbar": {
             "outlinewidth": 0,
             "ticks": ""
            },
            "type": "contourcarpet"
           }
          ],
          "heatmap": [
           {
            "colorbar": {
             "outlinewidth": 0,
             "ticks": ""
            },
            "colorscale": [
             [
              0,
              "#0d0887"
             ],
             [
              0.1111111111111111,
              "#46039f"
             ],
             [
              0.2222222222222222,
              "#7201a8"
             ],
             [
              0.3333333333333333,
              "#9c179e"
             ],
             [
              0.4444444444444444,
              "#bd3786"
             ],
             [
              0.5555555555555556,
              "#d8576b"
             ],
             [
              0.6666666666666666,
              "#ed7953"
             ],
             [
              0.7777777777777778,
              "#fb9f3a"
             ],
             [
              0.8888888888888888,
              "#fdca26"
             ],
             [
              1,
              "#f0f921"
             ]
            ],
            "type": "heatmap"
           }
          ],
          "heatmapgl": [
           {
            "colorbar": {
             "outlinewidth": 0,
             "ticks": ""
            },
            "colorscale": [
             [
              0,
              "#0d0887"
             ],
             [
              0.1111111111111111,
              "#46039f"
             ],
             [
              0.2222222222222222,
              "#7201a8"
             ],
             [
              0.3333333333333333,
              "#9c179e"
             ],
             [
              0.4444444444444444,
              "#bd3786"
             ],
             [
              0.5555555555555556,
              "#d8576b"
             ],
             [
              0.6666666666666666,
              "#ed7953"
             ],
             [
              0.7777777777777778,
              "#fb9f3a"
             ],
             [
              0.8888888888888888,
              "#fdca26"
             ],
             [
              1,
              "#f0f921"
             ]
            ],
            "type": "heatmapgl"
           }
          ],
          "histogram": [
           {
            "marker": {
             "colorbar": {
              "outlinewidth": 0,
              "ticks": ""
             }
            },
            "type": "histogram"
           }
          ],
          "histogram2d": [
           {
            "colorbar": {
             "outlinewidth": 0,
             "ticks": ""
            },
            "colorscale": [
             [
              0,
              "#0d0887"
             ],
             [
              0.1111111111111111,
              "#46039f"
             ],
             [
              0.2222222222222222,
              "#7201a8"
             ],
             [
              0.3333333333333333,
              "#9c179e"
             ],
             [
              0.4444444444444444,
              "#bd3786"
             ],
             [
              0.5555555555555556,
              "#d8576b"
             ],
             [
              0.6666666666666666,
              "#ed7953"
             ],
             [
              0.7777777777777778,
              "#fb9f3a"
             ],
             [
              0.8888888888888888,
              "#fdca26"
             ],
             [
              1,
              "#f0f921"
             ]
            ],
            "type": "histogram2d"
           }
          ],
          "histogram2dcontour": [
           {
            "colorbar": {
             "outlinewidth": 0,
             "ticks": ""
            },
            "colorscale": [
             [
              0,
              "#0d0887"
             ],
             [
              0.1111111111111111,
              "#46039f"
             ],
             [
              0.2222222222222222,
              "#7201a8"
             ],
             [
              0.3333333333333333,
              "#9c179e"
             ],
             [
              0.4444444444444444,
              "#bd3786"
             ],
             [
              0.5555555555555556,
              "#d8576b"
             ],
             [
              0.6666666666666666,
              "#ed7953"
             ],
             [
              0.7777777777777778,
              "#fb9f3a"
             ],
             [
              0.8888888888888888,
              "#fdca26"
             ],
             [
              1,
              "#f0f921"
             ]
            ],
            "type": "histogram2dcontour"
           }
          ],
          "mesh3d": [
           {
            "colorbar": {
             "outlinewidth": 0,
             "ticks": ""
            },
            "type": "mesh3d"
           }
          ],
          "parcoords": [
           {
            "line": {
             "colorbar": {
              "outlinewidth": 0,
              "ticks": ""
             }
            },
            "type": "parcoords"
           }
          ],
          "pie": [
           {
            "automargin": true,
            "type": "pie"
           }
          ],
          "scatter": [
           {
            "marker": {
             "colorbar": {
              "outlinewidth": 0,
              "ticks": ""
             }
            },
            "type": "scatter"
           }
          ],
          "scatter3d": [
           {
            "line": {
             "colorbar": {
              "outlinewidth": 0,
              "ticks": ""
             }
            },
            "marker": {
             "colorbar": {
              "outlinewidth": 0,
              "ticks": ""
             }
            },
            "type": "scatter3d"
           }
          ],
          "scattercarpet": [
           {
            "marker": {
             "colorbar": {
              "outlinewidth": 0,
              "ticks": ""
             }
            },
            "type": "scattercarpet"
           }
          ],
          "scattergeo": [
           {
            "marker": {
             "colorbar": {
              "outlinewidth": 0,
              "ticks": ""
             }
            },
            "type": "scattergeo"
           }
          ],
          "scattergl": [
           {
            "marker": {
             "colorbar": {
              "outlinewidth": 0,
              "ticks": ""
             }
            },
            "type": "scattergl"
           }
          ],
          "scattermapbox": [
           {
            "marker": {
             "colorbar": {
              "outlinewidth": 0,
              "ticks": ""
             }
            },
            "type": "scattermapbox"
           }
          ],
          "scatterpolar": [
           {
            "marker": {
             "colorbar": {
              "outlinewidth": 0,
              "ticks": ""
             }
            },
            "type": "scatterpolar"
           }
          ],
          "scatterpolargl": [
           {
            "marker": {
             "colorbar": {
              "outlinewidth": 0,
              "ticks": ""
             }
            },
            "type": "scatterpolargl"
           }
          ],
          "scatterternary": [
           {
            "marker": {
             "colorbar": {
              "outlinewidth": 0,
              "ticks": ""
             }
            },
            "type": "scatterternary"
           }
          ],
          "surface": [
           {
            "colorbar": {
             "outlinewidth": 0,
             "ticks": ""
            },
            "colorscale": [
             [
              0,
              "#0d0887"
             ],
             [
              0.1111111111111111,
              "#46039f"
             ],
             [
              0.2222222222222222,
              "#7201a8"
             ],
             [
              0.3333333333333333,
              "#9c179e"
             ],
             [
              0.4444444444444444,
              "#bd3786"
             ],
             [
              0.5555555555555556,
              "#d8576b"
             ],
             [
              0.6666666666666666,
              "#ed7953"
             ],
             [
              0.7777777777777778,
              "#fb9f3a"
             ],
             [
              0.8888888888888888,
              "#fdca26"
             ],
             [
              1,
              "#f0f921"
             ]
            ],
            "type": "surface"
           }
          ],
          "table": [
           {
            "cells": {
             "fill": {
              "color": "#EBF0F8"
             },
             "line": {
              "color": "white"
             }
            },
            "header": {
             "fill": {
              "color": "#C8D4E3"
             },
             "line": {
              "color": "white"
             }
            },
            "type": "table"
           }
          ]
         },
         "layout": {
          "annotationdefaults": {
           "arrowcolor": "#2a3f5f",
           "arrowhead": 0,
           "arrowwidth": 1
          },
          "coloraxis": {
           "colorbar": {
            "outlinewidth": 0,
            "ticks": ""
           }
          },
          "colorscale": {
           "diverging": [
            [
             0,
             "#8e0152"
            ],
            [
             0.1,
             "#c51b7d"
            ],
            [
             0.2,
             "#de77ae"
            ],
            [
             0.3,
             "#f1b6da"
            ],
            [
             0.4,
             "#fde0ef"
            ],
            [
             0.5,
             "#f7f7f7"
            ],
            [
             0.6,
             "#e6f5d0"
            ],
            [
             0.7,
             "#b8e186"
            ],
            [
             0.8,
             "#7fbc41"
            ],
            [
             0.9,
             "#4d9221"
            ],
            [
             1,
             "#276419"
            ]
           ],
           "sequential": [
            [
             0,
             "#0d0887"
            ],
            [
             0.1111111111111111,
             "#46039f"
            ],
            [
             0.2222222222222222,
             "#7201a8"
            ],
            [
             0.3333333333333333,
             "#9c179e"
            ],
            [
             0.4444444444444444,
             "#bd3786"
            ],
            [
             0.5555555555555556,
             "#d8576b"
            ],
            [
             0.6666666666666666,
             "#ed7953"
            ],
            [
             0.7777777777777778,
             "#fb9f3a"
            ],
            [
             0.8888888888888888,
             "#fdca26"
            ],
            [
             1,
             "#f0f921"
            ]
           ],
           "sequentialminus": [
            [
             0,
             "#0d0887"
            ],
            [
             0.1111111111111111,
             "#46039f"
            ],
            [
             0.2222222222222222,
             "#7201a8"
            ],
            [
             0.3333333333333333,
             "#9c179e"
            ],
            [
             0.4444444444444444,
             "#bd3786"
            ],
            [
             0.5555555555555556,
             "#d8576b"
            ],
            [
             0.6666666666666666,
             "#ed7953"
            ],
            [
             0.7777777777777778,
             "#fb9f3a"
            ],
            [
             0.8888888888888888,
             "#fdca26"
            ],
            [
             1,
             "#f0f921"
            ]
           ]
          },
          "colorway": [
           "#636efa",
           "#EF553B",
           "#00cc96",
           "#ab63fa",
           "#FFA15A",
           "#19d3f3",
           "#FF6692",
           "#B6E880",
           "#FF97FF",
           "#FECB52"
          ],
          "font": {
           "color": "#2a3f5f"
          },
          "geo": {
           "bgcolor": "white",
           "lakecolor": "white",
           "landcolor": "#E5ECF6",
           "showlakes": true,
           "showland": true,
           "subunitcolor": "white"
          },
          "hoverlabel": {
           "align": "left"
          },
          "hovermode": "closest",
          "mapbox": {
           "style": "light"
          },
          "paper_bgcolor": "white",
          "plot_bgcolor": "#E5ECF6",
          "polar": {
           "angularaxis": {
            "gridcolor": "white",
            "linecolor": "white",
            "ticks": ""
           },
           "bgcolor": "#E5ECF6",
           "radialaxis": {
            "gridcolor": "white",
            "linecolor": "white",
            "ticks": ""
           }
          },
          "scene": {
           "xaxis": {
            "backgroundcolor": "#E5ECF6",
            "gridcolor": "white",
            "gridwidth": 2,
            "linecolor": "white",
            "showbackground": true,
            "ticks": "",
            "zerolinecolor": "white"
           },
           "yaxis": {
            "backgroundcolor": "#E5ECF6",
            "gridcolor": "white",
            "gridwidth": 2,
            "linecolor": "white",
            "showbackground": true,
            "ticks": "",
            "zerolinecolor": "white"
           },
           "zaxis": {
            "backgroundcolor": "#E5ECF6",
            "gridcolor": "white",
            "gridwidth": 2,
            "linecolor": "white",
            "showbackground": true,
            "ticks": "",
            "zerolinecolor": "white"
           }
          },
          "shapedefaults": {
           "line": {
            "color": "#2a3f5f"
           }
          },
          "ternary": {
           "aaxis": {
            "gridcolor": "white",
            "linecolor": "white",
            "ticks": ""
           },
           "baxis": {
            "gridcolor": "white",
            "linecolor": "white",
            "ticks": ""
           },
           "bgcolor": "#E5ECF6",
           "caxis": {
            "gridcolor": "white",
            "linecolor": "white",
            "ticks": ""
           }
          },
          "title": {
           "x": 0.05
          },
          "xaxis": {
           "automargin": true,
           "gridcolor": "white",
           "linecolor": "white",
           "ticks": "",
           "title": {
            "standoff": 15
           },
           "zerolinecolor": "white",
           "zerolinewidth": 2
          },
          "yaxis": {
           "automargin": true,
           "gridcolor": "white",
           "linecolor": "white",
           "ticks": "",
           "title": {
            "standoff": 15
           },
           "zerolinecolor": "white",
           "zerolinewidth": 2
          }
         }
        },
        "width": 1000,
        "xaxis": {
         "autorange": true,
         "range": [
          134.5039585432561,
          799.4960414567439
         ],
         "title": {
          "text": "Word Count"
         },
         "type": "linear"
        },
        "yaxis": {
         "autorange": true,
         "range": [
          0.07893452879103025,
          0.3783726927511974
         ],
         "title": {
          "text": "Lyrics Uniqueness"
         },
         "type": "linear"
        }
       }
      },
      "image/png": "[encoded data removed]",
      "text/html": [
       "<div>\n",
       "        \n",
       "        \n",
       "            <div id=\"a4e66fa0-ec7a-437a-9929-be7164c9b3e9\" class=\"plotly-graph-div\" style=\"height:600px; width:1000px;\"></div>\n",
       "            <script type=\"text/javascript\">\n",
       "                require([\"plotly\"], function(Plotly) {\n",
       "                    window.PLOTLYENV=window.PLOTLYENV || {};\n",
       "                    \n",
       "                if (document.getElementById(\"a4e66fa0-ec7a-437a-9929-be7164c9b3e9\")) {\n",
       "                    Plotly.newPlot(\n",
       "                        'a4e66fa0-ec7a-437a-9929-be7164c9b3e9',\n",
       "                        [{\"hovertext\": [\"Daylight\", \"Cornelia Street\", \"I Forgot That You Existed\", \"Lover\", \"The Man\", \"The Archer\", \"I Think He Knows\", \"Miss Americana & The Heartbreak Prince\", \"Paper Rings\", \"Cruel Summer\", \"Death By A Thousand Cuts\", \"Soon You'll Get Better\", \"False God\", \"You Need To Calm Down\", \"Afterglow\", \"ME!\", \"It's Nice To Have A Friend\", \"London Boy\"], \"marker\": {\"color\": [\"#ff8c8c\", \"#ff8c8c\", \"#ff8c8c\", \"#ff8c8c\", \"#ff8c8c\", \"#ff8c8c\", \"#ff8c8c\", \"#ff8c8c\", \"#ff8c8c\", \"#ff8c8c\", \"#ff8c8c\", \"#ff8c8c\", \"#ff8c8c\", \"#ff8c8c\", \"#ff8c8c\", \"#ff8c8c\", \"#ff8c8c\", \"#ff8c8c\"], \"size\": 8}, \"mode\": \"markers\", \"name\": \"Lover\", \"opacity\": 0.8, \"type\": \"scatter\", \"x\": [504, 397, 313, 273, 465, 309, 416, 559, 523, 496, 470, 270, 350, 395, 427, 562, 172, 444], \"y\": [0.18055555555555555, 0.24181360201511334, 0.23322683706070288, 0.2564102564102564, 0.14623655913978495, 0.21359223300970873, 0.1658653846153846, 0.19499105545617174, 0.1835564053537285, 0.18548387096774194, 0.18085106382978725, 0.21851851851851853, 0.19428571428571428, 0.2, 0.16627634660421545, 0.14056939501779359, 0.36046511627906974, 0.22747747747747749]}, {\"hovertext\": [\"Getaway Car\", \"Call It What You Want\", \"Dancing With Our Hands Tied\", \"Delicate\", \"Don't Blame Me\", \"Dress\", \"End Game (Ft.\\u00a0Ed\\u00a0Sheeran & Future)\", \"Look What You Made Me Do\", \"Gorgeous\", \"I Did Something Bad\", \"King of My Heart\", \"New Year's Day\", \"So It Goes...\", \"This Is Why We Can't Have Nice Things\", \"...Ready for It?\"], \"marker\": {\"color\": [\"#454545\", \"#454545\", \"#454545\", \"#454545\", \"#454545\", \"#454545\", \"#454545\", \"#454545\", \"#454545\", \"#454545\", \"#454545\", \"#454545\", \"#454545\", \"#454545\", \"#454545\"], \"size\": 8}, \"mode\": \"markers\", \"name\": \"reputation\", \"opacity\": 0.8, \"type\": \"scatter\", \"x\": [590, 532, 437, 572, 530, 523, 762, 579, 420, 453, 495, 397, 409, 431, 445], \"y\": [0.18983050847457628, 0.19360902255639098, 0.17391304347826086, 0.13111888111888112, 0.1339622641509434, 0.15296367112810708, 0.1837270341207349, 0.11917098445595854, 0.17857142857142858, 0.16556291390728478, 0.16565656565656567, 0.1486146095717884, 0.16625916870415647, 0.1740139211136891, 0.16853932584269662]}, {\"hovertext\": [\"Bad Blood\", \"All You Had to Do Was Stay\", \"I Know Places\", \"Out of the Woods\", \"I Wish You Would\", \"Shake It Off\", \"How You Get The Girl\", \"Clean\", \"Blank Space\", \"Style\", \"This Love\", \"Welcome to New York\", \"Wildest Dreams\", \"Wonderland\", \"You Are in Love\", \"New Romantics\"], \"marker\": {\"color\": [\"#faab00\", \"#faab00\", \"#faab00\", \"#faab00\", \"#faab00\", \"#faab00\", \"#faab00\", \"#faab00\", \"#faab00\", \"#faab00\", \"#faab00\", \"#faab00\", \"#faab00\", \"#faab00\", \"#faab00\", \"#faab00\"], \"size\": 8}, \"mode\": \"markers\", \"name\": \"1989\", \"opacity\": 0.8, \"type\": \"scatter\", \"x\": [515, 475, 312, 655, 587, 630, 424, 291, 563, 380, 279, 337, 395, 460, 372, 424], \"y\": [0.12427184466019417, 0.0968421052631579, 0.21474358974358973, 0.10534351145038168, 0.12095400340715502, 0.10793650793650794, 0.1179245283018868, 0.24742268041237114, 0.2255772646536412, 0.1868421052631579, 0.22580645161290322, 0.1632047477744807, 0.17215189873417722, 0.1891304347826087, 0.22849462365591397, 0.20047169811320756]}, {\"hovertext\": [\"Girl at Home\", \"22\", \"All Too Well\", \"Begin Again\", \"Come Back... Be Here\", \"Holy Ground\", \"I Almost Do\", \"We Are Never Ever Getting Back Together\", \"Treacherous\", \"The Moment I Knew\", \"The Lucky One\", \"The Last Time (Ft.\\u00a0Gary\\u00a0Lightbody)\", \"Stay Stay Stay\", \"State of Grace\", \"Starlight\", \"Sad Beautiful Tragic\", \"Red\", \"I Knew You Were Trouble\", \"Everything Has Changed (Ft.\\u00a0Ed\\u00a0Sheeran)\"], \"marker\": {\"color\": [\"#ff2b2b\", \"#ff2b2b\", \"#ff2b2b\", \"#ff2b2b\", \"#ff2b2b\", \"#ff2b2b\", \"#ff2b2b\", \"#ff2b2b\", \"#ff2b2b\", \"#ff2b2b\", \"#ff2b2b\", \"#ff2b2b\", \"#ff2b2b\", \"#ff2b2b\", \"#ff2b2b\", \"#ff2b2b\", \"#ff2b2b\", \"#ff2b2b\", \"#ff2b2b\"], \"size\": 8}, \"mode\": \"markers\", \"name\": \"Red\", \"opacity\": 0.8, \"type\": \"scatter\", \"x\": [380, 401, 483, 352, 281, 297, 291, 375, 354, 385, 360, 508, 361, 239, 348, 187, 284, 378, 459], \"y\": [0.15789473684210525, 0.15211970074812967, 0.2836438923395445, 0.2215909090909091, 0.23487544483985764, 0.2558922558922559, 0.19931271477663232, 0.18933333333333333, 0.17231638418079095, 0.21558441558441557, 0.24722222222222223, 0.1062992125984252, 0.18282548476454294, 0.2803347280334728, 0.20402298850574713, 0.3155080213903743, 0.2676056338028169, 0.164021164021164, 0.1437908496732026]}, {\"hovertext\": [\"Long Live\", \"Superman\", \"Last Kiss\", \"Ours\", \"Sparks Fly\", \"The Story of Us\", \"Never Grow Up\", \"Mine\", \"Mean\", \"Speak Now\", \"Innocent\", \"Haunted\", \"Enchanted\", \"Dear John\", \"Better Than Revenge\", \"If This Was a Movie\", \"Back To December\"], \"marker\": {\"color\": [\"#d52bff\", \"#d52bff\", \"#d52bff\", \"#d52bff\", \"#d52bff\", \"#d52bff\", \"#d52bff\", \"#d52bff\", \"#d52bff\", \"#d52bff\", \"#d52bff\", \"#d52bff\", \"#d52bff\", \"#d52bff\", \"#d52bff\", \"#d52bff\", \"#d52bff\"], \"size\": 8}, \"mode\": \"markers\", \"name\": \"Speak Now\", \"opacity\": 0.8, \"type\": \"scatter\", \"x\": [445, 408, 422, 318, 366, 492, 480, 415, 439, 446, 335, 365, 388, 400, 542, 463, 450], \"y\": [0.23820224719101124, 0.19852941176470587, 0.2156398104265403, 0.25157232704402516, 0.22950819672131148, 0.1951219512195122, 0.20625, 0.23373493975903614, 0.1958997722095672, 0.21076233183856502, 0.2298507462686567, 0.18082191780821918, 0.22422680412371135, 0.2775, 0.1863468634686347, 0.1771058315334773, 0.19777777777777777]}, {\"hovertext\": [\"Hey Stephen\", \"Breathe (Ft.\\u00a0Colbie\\u00a0Caillat)\", \"Change\", \"Fearless\", \"Fifteen\", \"Forever & Always\", \"The Best Day\", \"Tell Me Why\", \"The Way I Loved You\", \"White Horse\", \"You Belong With Me\", \"You're Not Sorry\", \"Love Story\"], \"marker\": {\"color\": [\"#fcf803\", \"#fcf803\", \"#fcf803\", \"#fcf803\", \"#fcf803\", \"#fcf803\", \"#fcf803\", \"#fcf803\", \"#fcf803\", \"#fcf803\", \"#fcf803\", \"#fcf803\", \"#fcf803\"], \"size\": 8}, \"mode\": \"markers\", \"name\": \"Fearless\", \"opacity\": 0.8, \"type\": \"scatter\", \"x\": [434, 250, 289, 340, 440, 428, 374, 373, 294, 324, 429, 324, 397], \"y\": [0.16820276497695852, 0.252, 0.2491349480968858, 0.20294117647058824, 0.22954545454545455, 0.17289719626168223, 0.2967914438502674, 0.18230563002680966, 0.25170068027210885, 0.24382716049382716, 0.20046620046620048, 0.17901234567901234, 0.23425692695214106]}, {\"hovertext\": [\"Invisible\", \"Mary's Song (Oh My My My)\", \"A Perfectly Good Heart\", \"A Place In This World\", \"Cold as You\", \"Tim McGraw\", \"Tied Together With A Smile\", \"The Outside\", \"Teardrops On My Guitar\", \"Stay Beautiful\", \"I'm Only Me When I'm With You\", \"Picture To Burn\", \"Our Song\", \"Should've Said No\"], \"marker\": {\"color\": [\"#03fcb1\", \"#03fcb1\", \"#03fcb1\", \"#03fcb1\", \"#03fcb1\", \"#03fcb1\", \"#03fcb1\", \"#03fcb1\", \"#03fcb1\", \"#03fcb1\", \"#03fcb1\", \"#03fcb1\", \"#03fcb1\", \"#03fcb1\"], \"size\": 8}, \"mode\": \"markers\", \"name\": \"Taylor Swift\", \"opacity\": 0.8, \"type\": \"scatter\", \"x\": [261, 340, 230, 264, 250, 376, 272, 242, 317, 295, 338, 321, 382, 375], \"y\": [0.15708812260536398, 0.2647058823529412, 0.1565217391304348, 0.1856060606060606, 0.244, 0.2154255319148936, 0.1875, 0.19421487603305784, 0.22712933753943218, 0.22033898305084745, 0.17159763313609466, 0.20249221183800623, 0.2198952879581152, 0.152]}],\n",
       "                        {\"height\": 600, \"margin\": {\"b\": 10, \"l\": 10, \"pad\": 10, \"r\": 10, \"t\": 30}, \"plot_bgcolor\": \"rgb(255,255,255)\", \"template\": {\"data\": {\"bar\": [{\"error_x\": {\"color\": \"#2a3f5f\"}, \"error_y\": {\"color\": \"#2a3f5f\"}, \"marker\": {\"line\": {\"color\": \"#E5ECF6\", \"width\": 0.5}}, \"type\": \"bar\"}], \"barpolar\": [{\"marker\": {\"line\": {\"color\": \"#E5ECF6\", \"width\": 0.5}}, \"type\": \"barpolar\"}], \"carpet\": [{\"aaxis\": {\"endlinecolor\": \"#2a3f5f\", \"gridcolor\": \"white\", \"linecolor\": \"white\", \"minorgridcolor\": \"white\", \"startlinecolor\": \"#2a3f5f\"}, \"baxis\": {\"endlinecolor\": \"#2a3f5f\", \"gridcolor\": \"white\", \"linecolor\": \"white\", \"minorgridcolor\": \"white\", \"startlinecolor\": \"#2a3f5f\"}, \"type\": \"carpet\"}], \"choropleth\": [{\"colorbar\": {\"outlinewidth\": 0, \"ticks\": \"\"}, \"type\": \"choropleth\"}], \"contour\": [{\"colorbar\": {\"outlinewidth\": 0, \"ticks\": \"\"}, \"colorscale\": [[0.0, \"#0d0887\"], [0.1111111111111111, \"#46039f\"], [0.2222222222222222, \"#7201a8\"], [0.3333333333333333, \"#9c179e\"], [0.4444444444444444, \"#bd3786\"], [0.5555555555555556, \"#d8576b\"], [0.6666666666666666, \"#ed7953\"], [0.7777777777777778, \"#fb9f3a\"], [0.8888888888888888, \"#fdca26\"], [1.0, \"#f0f921\"]], \"type\": \"contour\"}], \"contourcarpet\": [{\"colorbar\": {\"outlinewidth\": 0, \"ticks\": \"\"}, \"type\": \"contourcarpet\"}], \"heatmap\": [{\"colorbar\": {\"outlinewidth\": 0, \"ticks\": \"\"}, \"colorscale\": [[0.0, \"#0d0887\"], [0.1111111111111111, \"#46039f\"], [0.2222222222222222, \"#7201a8\"], [0.3333333333333333, \"#9c179e\"], [0.4444444444444444, \"#bd3786\"], [0.5555555555555556, \"#d8576b\"], [0.6666666666666666, \"#ed7953\"], [0.7777777777777778, \"#fb9f3a\"], [0.8888888888888888, \"#fdca26\"], [1.0, \"#f0f921\"]], \"type\": \"heatmap\"}], \"heatmapgl\": [{\"colorbar\": {\"outlinewidth\": 0, \"ticks\": \"\"}, \"colorscale\": [[0.0, \"#0d0887\"], [0.1111111111111111, \"#46039f\"], [0.2222222222222222, \"#7201a8\"], [0.3333333333333333, \"#9c179e\"], [0.4444444444444444, \"#bd3786\"], [0.5555555555555556, \"#d8576b\"], [0.6666666666666666, \"#ed7953\"], [0.7777777777777778, \"#fb9f3a\"], [0.8888888888888888, \"#fdca26\"], [1.0, \"#f0f921\"]], \"type\": \"heatmapgl\"}], \"histogram\": [{\"marker\": {\"colorbar\": {\"outlinewidth\": 0, \"ticks\": \"\"}}, \"type\": \"histogram\"}], \"histogram2d\": [{\"colorbar\": {\"outlinewidth\": 0, \"ticks\": \"\"}, \"colorscale\": [[0.0, \"#0d0887\"], [0.1111111111111111, \"#46039f\"], [0.2222222222222222, \"#7201a8\"], [0.3333333333333333, \"#9c179e\"], [0.4444444444444444, \"#bd3786\"], [0.5555555555555556, \"#d8576b\"], [0.6666666666666666, \"#ed7953\"], [0.7777777777777778, \"#fb9f3a\"], [0.8888888888888888, \"#fdca26\"], [1.0, \"#f0f921\"]], \"type\": \"histogram2d\"}], \"histogram2dcontour\": [{\"colorbar\": {\"outlinewidth\": 0, \"ticks\": \"\"}, \"colorscale\": [[0.0, \"#0d0887\"], [0.1111111111111111, \"#46039f\"], [0.2222222222222222, \"#7201a8\"], [0.3333333333333333, \"#9c179e\"], [0.4444444444444444, \"#bd3786\"], [0.5555555555555556, \"#d8576b\"], [0.6666666666666666, \"#ed7953\"], [0.7777777777777778, \"#fb9f3a\"], [0.8888888888888888, \"#fdca26\"], [1.0, \"#f0f921\"]], \"type\": \"histogram2dcontour\"}], \"mesh3d\": [{\"colorbar\": {\"outlinewidth\": 0, \"ticks\": \"\"}, \"type\": \"mesh3d\"}], \"parcoords\": [{\"line\": {\"colorbar\": {\"outlinewidth\": 0, \"ticks\": \"\"}}, \"type\": \"parcoords\"}], \"pie\": [{\"automargin\": true, \"type\": \"pie\"}], \"scatter\": [{\"marker\": {\"colorbar\": {\"outlinewidth\": 0, \"ticks\": \"\"}}, \"type\": \"scatter\"}], \"scatter3d\": [{\"line\": {\"colorbar\": {\"outlinewidth\": 0, \"ticks\": \"\"}}, \"marker\": {\"colorbar\": {\"outlinewidth\": 0, \"ticks\": \"\"}}, \"type\": \"scatter3d\"}], \"scattercarpet\": [{\"marker\": {\"colorbar\": {\"outlinewidth\": 0, \"ticks\": \"\"}}, \"type\": \"scattercarpet\"}], \"scattergeo\": [{\"marker\": {\"colorbar\": {\"outlinewidth\": 0, \"ticks\": \"\"}}, \"type\": \"scattergeo\"}], \"scattergl\": [{\"marker\": {\"colorbar\": {\"outlinewidth\": 0, \"ticks\": \"\"}}, \"type\": \"scattergl\"}], \"scattermapbox\": [{\"marker\": {\"colorbar\": {\"outlinewidth\": 0, \"ticks\": \"\"}}, \"type\": \"scattermapbox\"}], \"scatterpolar\": [{\"marker\": {\"colorbar\": {\"outlinewidth\": 0, \"ticks\": \"\"}}, \"type\": \"scatterpolar\"}], \"scatterpolargl\": [{\"marker\": {\"colorbar\": {\"outlinewidth\": 0, \"ticks\": \"\"}}, \"type\": \"scatterpolargl\"}], \"scatterternary\": [{\"marker\": {\"colorbar\": {\"outlinewidth\": 0, \"ticks\": \"\"}}, \"type\": \"scatterternary\"}], \"surface\": [{\"colorbar\": {\"outlinewidth\": 0, \"ticks\": \"\"}, \"colorscale\": [[0.0, \"#0d0887\"], [0.1111111111111111, \"#46039f\"], [0.2222222222222222, \"#7201a8\"], [0.3333333333333333, \"#9c179e\"], [0.4444444444444444, \"#bd3786\"], [0.5555555555555556, \"#d8576b\"], [0.6666666666666666, \"#ed7953\"], [0.7777777777777778, \"#fb9f3a\"], [0.8888888888888888, \"#fdca26\"], [1.0, \"#f0f921\"]], \"type\": \"surface\"}], \"table\": [{\"cells\": {\"fill\": {\"color\": \"#EBF0F8\"}, \"line\": {\"color\": \"white\"}}, \"header\": {\"fill\": {\"color\": \"#C8D4E3\"}, \"line\": {\"color\": \"white\"}}, \"type\": \"table\"}]}, \"layout\": {\"annotationdefaults\": {\"arrowcolor\": \"#2a3f5f\", \"arrowhead\": 0, \"arrowwidth\": 1}, \"coloraxis\": {\"colorbar\": {\"outlinewidth\": 0, \"ticks\": \"\"}}, \"colorscale\": {\"diverging\": [[0, \"#8e0152\"], [0.1, \"#c51b7d\"], [0.2, \"#de77ae\"], [0.3, \"#f1b6da\"], [0.4, \"#fde0ef\"], [0.5, \"#f7f7f7\"], [0.6, \"#e6f5d0\"], [0.7, \"#b8e186\"], [0.8, \"#7fbc41\"], [0.9, \"#4d9221\"], [1, \"#276419\"]], \"sequential\": [[0.0, \"#0d0887\"], [0.1111111111111111, \"#46039f\"], [0.2222222222222222, \"#7201a8\"], [0.3333333333333333, \"#9c179e\"], [0.4444444444444444, \"#bd3786\"], [0.5555555555555556, \"#d8576b\"], [0.6666666666666666, \"#ed7953\"], [0.7777777777777778, \"#fb9f3a\"], [0.8888888888888888, \"#fdca26\"], [1.0, \"#f0f921\"]], \"sequentialminus\": [[0.0, \"#0d0887\"], [0.1111111111111111, \"#46039f\"], [0.2222222222222222, \"#7201a8\"], [0.3333333333333333, \"#9c179e\"], [0.4444444444444444, \"#bd3786\"], [0.5555555555555556, \"#d8576b\"], [0.6666666666666666, \"#ed7953\"], [0.7777777777777778, \"#fb9f3a\"], [0.8888888888888888, \"#fdca26\"], [1.0, \"#f0f921\"]]}, \"colorway\": [\"#636efa\", \"#EF553B\", \"#00cc96\", \"#ab63fa\", \"#FFA15A\", \"#19d3f3\", \"#FF6692\", \"#B6E880\", \"#FF97FF\", \"#FECB52\"], \"font\": {\"color\": \"#2a3f5f\"}, \"geo\": {\"bgcolor\": \"white\", \"lakecolor\": \"white\", \"landcolor\": \"#E5ECF6\", \"showlakes\": true, \"showland\": true, \"subunitcolor\": \"white\"}, \"hoverlabel\": {\"align\": \"left\"}, \"hovermode\": \"closest\", \"mapbox\": {\"style\": \"light\"}, \"paper_bgcolor\": \"white\", \"plot_bgcolor\": \"#E5ECF6\", \"polar\": {\"angularaxis\": {\"gridcolor\": \"white\", \"linecolor\": \"white\", \"ticks\": \"\"}, \"bgcolor\": \"#E5ECF6\", \"radialaxis\": {\"gridcolor\": \"white\", \"linecolor\": \"white\", \"ticks\": \"\"}}, \"scene\": {\"xaxis\": {\"backgroundcolor\": \"#E5ECF6\", \"gridcolor\": \"white\", \"gridwidth\": 2, \"linecolor\": \"white\", \"showbackground\": true, \"ticks\": \"\", \"zerolinecolor\": \"white\"}, \"yaxis\": {\"backgroundcolor\": \"#E5ECF6\", \"gridcolor\": \"white\", \"gridwidth\": 2, \"linecolor\": \"white\", \"showbackground\": true, \"ticks\": \"\", \"zerolinecolor\": \"white\"}, \"zaxis\": {\"backgroundcolor\": \"#E5ECF6\", \"gridcolor\": \"white\", \"gridwidth\": 2, \"linecolor\": \"white\", \"showbackground\": true, \"ticks\": \"\", \"zerolinecolor\": \"white\"}}, \"shapedefaults\": {\"line\": {\"color\": \"#2a3f5f\"}}, \"ternary\": {\"aaxis\": {\"gridcolor\": \"white\", \"linecolor\": \"white\", \"ticks\": \"\"}, \"baxis\": {\"gridcolor\": \"white\", \"linecolor\": \"white\", \"ticks\": \"\"}, \"bgcolor\": \"#E5ECF6\", \"caxis\": {\"gridcolor\": \"white\", \"linecolor\": \"white\", \"ticks\": \"\"}}, \"title\": {\"x\": 0.05}, \"xaxis\": {\"automargin\": true, \"gridcolor\": \"white\", \"linecolor\": \"white\", \"ticks\": \"\", \"title\": {\"standoff\": 15}, \"zerolinecolor\": \"white\", \"zerolinewidth\": 2}, \"yaxis\": {\"automargin\": true, \"gridcolor\": \"white\", \"linecolor\": \"white\", \"ticks\": \"\", \"title\": {\"standoff\": 15}, \"zerolinecolor\": \"white\", \"zerolinewidth\": 2}}}, \"width\": 1000, \"xaxis\": {\"title\": {\"text\": \"Word Count\"}}, \"yaxis\": {\"title\": {\"text\": \"Lyrics Uniqueness\"}}},\n",
       "                        {\"responsive\": true}\n",
       "                    ).then(function(){\n",
       "                            \n",
       "var gd = document.getElementById('a4e66fa0-ec7a-437a-9929-be7164c9b3e9');\n",
       "var x = new MutationObserver(function (mutations, observer) {{\n",
       "        var display = window.getComputedStyle(gd).display;\n",
       "        if (!display || display === 'none') {{\n",
       "            console.log([gd, 'removed!']);\n",
       "            Plotly.purge(gd);\n",
       "            observer.disconnect();\n",
       "        }}\n",
       "}});\n",
       "\n",
       "// Listen for the removal of the full notebook cells\n",
       "var notebookContainer = gd.closest('#notebook-container');\n",
       "if (notebookContainer) {{\n",
       "    x.observe(notebookContainer, {childList: true});\n",
       "}}\n",
       "\n",
       "// Listen for the clearing of the current output cell\n",
       "var outputEl = gd.closest('.output');\n",
       "if (outputEl) {{\n",
       "    x.observe(outputEl, {childList: true});\n",
       "}}\n",
       "\n",
       "                        })\n",
       "                };\n",
       "                });\n",
       "            </script>\n",
       "        </div>"
      ]
     },
     "metadata": {},
     "output_type": "display_data"
    }
   ],
   "source": [
    "fig = go.Figure()\n",
    "for a in album_color.keys():\n",
    "    fig.add_trace(go.Scatter(x=songs.loc[songs.album == a, 'total_count'],\n",
    "                             y=songs.loc[songs.album == a, 'uniqueness'],\n",
    "                             mode='markers',\n",
    "                             opacity=0.8,\n",
    "                             marker=dict(size=8, color=songs.loc[songs.album == a, 'album'].map(album_color)),\n",
    "                             hovertext=songs.loc[songs.album == a, 'track_title'],\n",
    "                             name=a))\n",
    "fig.update_layout(width=1000, \n",
    "                  height=600, \n",
    "                  plot_bgcolor='rgb(255,255,255)',\n",
    "                  xaxis_title='Word Count',\n",
    "                  yaxis_title='Lyrics Uniqueness',\n",
    "                  margin={'l':10, 'r':10, 'b':10, 't':30, 'pad':10})\n",
    "fig.show()\n",
    "fig.write_html(\"images/word_count_uniqueness_by_song.html\")"
   ]
  },
  {
   "cell_type": "code",
   "execution_count": 25,
   "metadata": {},
   "outputs": [],
   "source": [
    "# Write a csv file to store the data for visualization in Tableau\n",
    "songs[['album', 'track_title', 'total_count', 'unique_count', 'uniqueness']].to_csv('ts_lyrics.csv')"
   ]
  },
  {
   "cell_type": "code",
   "execution_count": 26,
   "metadata": {},
   "outputs": [],
   "source": [
    "# Aggregate the lyrics into album level and still calculate the unique count and uniqueness of each album as we did just now for each song\n",
    "albums = songs[['album','total_count', 'lyric', 'lyric_all']].groupby('album').agg({'lyric':lambda x: sum(x, []), 'lyric_all':lambda x: sum(x, []), 'total_count':sum})\n",
    "albums['unique_count'] = albums['lyric'].apply(lambda x: len(np.unique(x)))\n",
    "albums['uniqueness'] = albums['unique_count']/albums['total_count']"
   ]
  },
  {
   "cell_type": "code",
   "execution_count": 27,
   "metadata": {},
   "outputs": [
    {
     "data": {
      "text/html": [
       "<div>\n",
       "<style scoped>\n",
       "    .dataframe tbody tr th:only-of-type {\n",
       "        vertical-align: middle;\n",
       "    }\n",
       "\n",
       "    .dataframe tbody tr th {\n",
       "        vertical-align: top;\n",
       "    }\n",
       "\n",
       "    .dataframe thead th {\n",
       "        text-align: right;\n",
       "    }\n",
       "</style>\n",
       "<table border=\"1\" class=\"dataframe\">\n",
       "  <thead>\n",
       "    <tr style=\"text-align: right;\">\n",
       "      <th></th>\n",
       "      <th>lyric</th>\n",
       "      <th>lyric_all</th>\n",
       "      <th>total_count</th>\n",
       "      <th>unique_count</th>\n",
       "      <th>sparsity</th>\n",
       "      <th>freq</th>\n",
       "    </tr>\n",
       "    <tr>\n",
       "      <th>album</th>\n",
       "      <th></th>\n",
       "      <th></th>\n",
       "      <th></th>\n",
       "      <th></th>\n",
       "      <th></th>\n",
       "      <th></th>\n",
       "    </tr>\n",
       "  </thead>\n",
       "  <tbody>\n",
       "    <tr>\n",
       "      <th>1989</th>\n",
       "      <td>[peopl, like, alway, want, back, love, gave, a...</td>\n",
       "      <td>[peopl, like, you, alway, want, back, the, lov...</td>\n",
       "      <td>7099</td>\n",
       "      <td>619</td>\n",
       "      <td>0.087195</td>\n",
       "      <td>{'peopl': 11, 'like': 42, 'alway': 6, 'want': ...</td>\n",
       "    </tr>\n",
       "    <tr>\n",
       "      <th>Fearless</th>\n",
       "      <td>[see, face, mind, drive, away, cau, none, us, ...</td>\n",
       "      <td>[i, see, your, face, in, my, mind, as, i, driv...</td>\n",
       "      <td>4696</td>\n",
       "      <td>516</td>\n",
       "      <td>0.109881</td>\n",
       "      <td>{'see': 21, 'face': 2, 'mind': 4, 'drive': 6, ...</td>\n",
       "    </tr>\n",
       "    <tr>\n",
       "      <th>Lover</th>\n",
       "      <td>[mani, day, spend, think, bout, wrong, wrong, ...</td>\n",
       "      <td>[how, mani, day, did, i, spend, think, bout, h...</td>\n",
       "      <td>7345</td>\n",
       "      <td>783</td>\n",
       "      <td>0.106603</td>\n",
       "      <td>{'mani': 2, 'day': 5, 'spend': 1, 'think': 23,...</td>\n",
       "    </tr>\n",
       "    <tr>\n",
       "      <th>Red</th>\n",
       "      <td>[feel, like, perfect, night, dress, like, hips...</td>\n",
       "      <td>[it, feel, like, a, perfect, night, to, dress,...</td>\n",
       "      <td>6723</td>\n",
       "      <td>677</td>\n",
       "      <td>0.100699</td>\n",
       "      <td>{'feel': 24, 'like': 92, 'perfect': 3, 'night'...</td>\n",
       "    </tr>\n",
       "    <tr>\n",
       "      <th>Speak Now</th>\n",
       "      <td>[glad, made, time, see, life, tell, famili, se...</td>\n",
       "      <td>[i, m, so, glad, you, made, time, to, see, me,...</td>\n",
       "      <td>7174</td>\n",
       "      <td>730</td>\n",
       "      <td>0.101756</td>\n",
       "      <td>{'glad': 2, 'made': 10, 'time': 30, 'see': 34,...</td>\n",
       "    </tr>\n",
       "    <tr>\n",
       "      <th>Taylor Swift</th>\n",
       "      <td>[would, wanna, break, perfectli, good, heart, ...</td>\n",
       "      <td>[whi, would, you, wanna, break, a, perfectli, ...</td>\n",
       "      <td>4263</td>\n",
       "      <td>439</td>\n",
       "      <td>0.102979</td>\n",
       "      <td>{'would': 21, 'wanna': 21, 'break': 9, 'perfec...</td>\n",
       "    </tr>\n",
       "    <tr>\n",
       "      <th>reputation</th>\n",
       "      <td>[knew, killer, first, time, saw, wonder, mani,...</td>\n",
       "      <td>[knew, he, wa, a, killer, first, time, that, i...</td>\n",
       "      <td>7575</td>\n",
       "      <td>714</td>\n",
       "      <td>0.094257</td>\n",
       "      <td>{'knew': 7, 'killer': 1, 'first': 30, 'time': ...</td>\n",
       "    </tr>\n",
       "  </tbody>\n",
       "</table>\n",
       "</div>"
      ],
      "text/plain": [
       "                                                          lyric  \\\n",
       "album                                                             \n",
       "1989          [peopl, like, alway, want, back, love, gave, a...   \n",
       "Fearless      [see, face, mind, drive, away, cau, none, us, ...   \n",
       "Lover         [mani, day, spend, think, bout, wrong, wrong, ...   \n",
       "Red           [feel, like, perfect, night, dress, like, hips...   \n",
       "Speak Now     [glad, made, time, see, life, tell, famili, se...   \n",
       "Taylor Swift  [would, wanna, break, perfectli, good, heart, ...   \n",
       "reputation    [knew, killer, first, time, saw, wonder, mani,...   \n",
       "\n",
       "                                                      lyric_all  total_count  \\\n",
       "album                                                                          \n",
       "1989          [peopl, like, you, alway, want, back, the, lov...         7099   \n",
       "Fearless      [i, see, your, face, in, my, mind, as, i, driv...         4696   \n",
       "Lover         [how, mani, day, did, i, spend, think, bout, h...         7345   \n",
       "Red           [it, feel, like, a, perfect, night, to, dress,...         6723   \n",
       "Speak Now     [i, m, so, glad, you, made, time, to, see, me,...         7174   \n",
       "Taylor Swift  [whi, would, you, wanna, break, a, perfectli, ...         4263   \n",
       "reputation    [knew, he, wa, a, killer, first, time, that, i...         7575   \n",
       "\n",
       "              unique_count  sparsity  \\\n",
       "album                                  \n",
       "1989                   619  0.087195   \n",
       "Fearless               516  0.109881   \n",
       "Lover                  783  0.106603   \n",
       "Red                    677  0.100699   \n",
       "Speak Now              730  0.101756   \n",
       "Taylor Swift           439  0.102979   \n",
       "reputation             714  0.094257   \n",
       "\n",
       "                                                           freq  \n",
       "album                                                            \n",
       "1989          {'peopl': 11, 'like': 42, 'alway': 6, 'want': ...  \n",
       "Fearless      {'see': 21, 'face': 2, 'mind': 4, 'drive': 6, ...  \n",
       "Lover         {'mani': 2, 'day': 5, 'spend': 1, 'think': 23,...  \n",
       "Red           {'feel': 24, 'like': 92, 'perfect': 3, 'night'...  \n",
       "Speak Now     {'glad': 2, 'made': 10, 'time': 30, 'see': 34,...  \n",
       "Taylor Swift  {'would': 21, 'wanna': 21, 'break': 9, 'perfec...  \n",
       "reputation    {'knew': 7, 'killer': 1, 'first': 30, 'time': ...  "
      ]
     },
     "execution_count": 27,
     "metadata": {},
     "output_type": "execute_result"
    }
   ],
   "source": [
    "# Calculate the frequency of each unqiue word in each album\n",
    "albums['freq'] = albums['lyric'].apply(collections.Counter)\n",
    "# albums['freq_all'] = albums['lyric_all'].apply(collections.Counter)\n",
    "albums"
   ]
  },
  {
   "cell_type": "code",
   "execution_count": 28,
   "metadata": {},
   "outputs": [],
   "source": [
    "# Define a function to find top n elements in a dict according to value\n",
    "def dict_top(dic, top):\n",
    "    d_k = sorted(dic, key = dic.get, reverse = True)[:top]\n",
    "    d_v = [dic.get(k) for k in d_k]\n",
    "    return {k:v for (k, v) in zip(d_k, d_v)}"
   ]
  },
  {
   "cell_type": "code",
   "execution_count": 29,
   "metadata": {},
   "outputs": [
    {
     "data": {
      "text/html": [
       "<div>\n",
       "<style scoped>\n",
       "    .dataframe tbody tr th:only-of-type {\n",
       "        vertical-align: middle;\n",
       "    }\n",
       "\n",
       "    .dataframe tbody tr th {\n",
       "        vertical-align: top;\n",
       "    }\n",
       "\n",
       "    .dataframe thead th {\n",
       "        text-align: right;\n",
       "    }\n",
       "</style>\n",
       "<table border=\"1\" class=\"dataframe\">\n",
       "  <thead>\n",
       "    <tr style=\"text-align: right;\">\n",
       "      <th></th>\n",
       "      <th>lyric</th>\n",
       "      <th>lyric_all</th>\n",
       "      <th>total_count</th>\n",
       "      <th>unique_count</th>\n",
       "      <th>sparsity</th>\n",
       "      <th>freq</th>\n",
       "      <th>freq_top20</th>\n",
       "    </tr>\n",
       "    <tr>\n",
       "      <th>album</th>\n",
       "      <th></th>\n",
       "      <th></th>\n",
       "      <th></th>\n",
       "      <th></th>\n",
       "      <th></th>\n",
       "      <th></th>\n",
       "      <th></th>\n",
       "    </tr>\n",
       "  </thead>\n",
       "  <tbody>\n",
       "    <tr>\n",
       "      <th>1989</th>\n",
       "      <td>[peopl, like, alway, want, back, love, gave, a...</td>\n",
       "      <td>[peopl, like, you, alway, want, back, the, lov...</td>\n",
       "      <td>7099</td>\n",
       "      <td>619</td>\n",
       "      <td>0.087195</td>\n",
       "      <td>{'peopl': 11, 'like': 42, 'alway': 6, 'want': ...</td>\n",
       "      <td>{'shake': 79, 'ey': 72, 'yet': 64, 'love': 62,...</td>\n",
       "    </tr>\n",
       "    <tr>\n",
       "      <th>Fearless</th>\n",
       "      <td>[see, face, mind, drive, away, cau, none, us, ...</td>\n",
       "      <td>[i, see, your, face, in, my, mind, as, i, driv...</td>\n",
       "      <td>4696</td>\n",
       "      <td>516</td>\n",
       "      <td>0.109881</td>\n",
       "      <td>{'see': 21, 'face': 2, 'mind': 4, 'drive': 6, ...</td>\n",
       "      <td>{'know': 58, 'feel': 34, 'oh': 27, 'la': 26, '...</td>\n",
       "    </tr>\n",
       "    <tr>\n",
       "      <th>Lover</th>\n",
       "      <td>[mani, day, spend, think, bout, wrong, wrong, ...</td>\n",
       "      <td>[how, mani, day, did, i, spend, think, bout, h...</td>\n",
       "      <td>7345</td>\n",
       "      <td>783</td>\n",
       "      <td>0.106603</td>\n",
       "      <td>{'mani': 2, 'day': 5, 'spend': 1, 'think': 23,...</td>\n",
       "      <td>{'oh': 97, 'like': 74, 'ooh': 70, 'want': 52, ...</td>\n",
       "    </tr>\n",
       "    <tr>\n",
       "      <th>Red</th>\n",
       "      <td>[feel, like, perfect, night, dress, like, hips...</td>\n",
       "      <td>[it, feel, like, a, perfect, night, to, dress,...</td>\n",
       "      <td>6723</td>\n",
       "      <td>677</td>\n",
       "      <td>0.100699</td>\n",
       "      <td>{'feel': 24, 'like': 92, 'perfect': 3, 'night'...</td>\n",
       "      <td>{'know': 101, 'like': 92, 'oh': 72, 'time': 68...</td>\n",
       "    </tr>\n",
       "    <tr>\n",
       "      <th>Speak Now</th>\n",
       "      <td>[glad, made, time, see, life, tell, famili, se...</td>\n",
       "      <td>[i, m, so, glad, you, made, time, to, see, me,...</td>\n",
       "      <td>7174</td>\n",
       "      <td>730</td>\n",
       "      <td>0.101756</td>\n",
       "      <td>{'glad': 2, 'made': 10, 'time': 30, 'see': 34,...</td>\n",
       "      <td>{'back': 64, 'like': 60, 'know': 44, 'go': 37,...</td>\n",
       "    </tr>\n",
       "    <tr>\n",
       "      <th>Taylor Swift</th>\n",
       "      <td>[would, wanna, break, perfectli, good, heart, ...</td>\n",
       "      <td>[whi, would, you, wanna, break, a, perfectli, ...</td>\n",
       "      <td>4263</td>\n",
       "      <td>439</td>\n",
       "      <td>0.102979</td>\n",
       "      <td>{'would': 21, 'wanna': 21, 'break': 9, 'perfec...</td>\n",
       "      <td>{'know': 40, 'oh': 33, 'think': 31, 'back': 25...</td>\n",
       "    </tr>\n",
       "    <tr>\n",
       "      <th>reputation</th>\n",
       "      <td>[knew, killer, first, time, saw, wonder, mani,...</td>\n",
       "      <td>[knew, he, wa, a, killer, first, time, that, i...</td>\n",
       "      <td>7575</td>\n",
       "      <td>714</td>\n",
       "      <td>0.094257</td>\n",
       "      <td>{'knew': 7, 'killer': 1, 'first': 30, 'time': ...</td>\n",
       "      <td>{'oh': 59, 'made': 53, 'like': 52, 'want': 51,...</td>\n",
       "    </tr>\n",
       "  </tbody>\n",
       "</table>\n",
       "</div>"
      ],
      "text/plain": [
       "                                                          lyric  \\\n",
       "album                                                             \n",
       "1989          [peopl, like, alway, want, back, love, gave, a...   \n",
       "Fearless      [see, face, mind, drive, away, cau, none, us, ...   \n",
       "Lover         [mani, day, spend, think, bout, wrong, wrong, ...   \n",
       "Red           [feel, like, perfect, night, dress, like, hips...   \n",
       "Speak Now     [glad, made, time, see, life, tell, famili, se...   \n",
       "Taylor Swift  [would, wanna, break, perfectli, good, heart, ...   \n",
       "reputation    [knew, killer, first, time, saw, wonder, mani,...   \n",
       "\n",
       "                                                      lyric_all  total_count  \\\n",
       "album                                                                          \n",
       "1989          [peopl, like, you, alway, want, back, the, lov...         7099   \n",
       "Fearless      [i, see, your, face, in, my, mind, as, i, driv...         4696   \n",
       "Lover         [how, mani, day, did, i, spend, think, bout, h...         7345   \n",
       "Red           [it, feel, like, a, perfect, night, to, dress,...         6723   \n",
       "Speak Now     [i, m, so, glad, you, made, time, to, see, me,...         7174   \n",
       "Taylor Swift  [whi, would, you, wanna, break, a, perfectli, ...         4263   \n",
       "reputation    [knew, he, wa, a, killer, first, time, that, i...         7575   \n",
       "\n",
       "              unique_count  sparsity  \\\n",
       "album                                  \n",
       "1989                   619  0.087195   \n",
       "Fearless               516  0.109881   \n",
       "Lover                  783  0.106603   \n",
       "Red                    677  0.100699   \n",
       "Speak Now              730  0.101756   \n",
       "Taylor Swift           439  0.102979   \n",
       "reputation             714  0.094257   \n",
       "\n",
       "                                                           freq  \\\n",
       "album                                                             \n",
       "1989          {'peopl': 11, 'like': 42, 'alway': 6, 'want': ...   \n",
       "Fearless      {'see': 21, 'face': 2, 'mind': 4, 'drive': 6, ...   \n",
       "Lover         {'mani': 2, 'day': 5, 'spend': 1, 'think': 23,...   \n",
       "Red           {'feel': 24, 'like': 92, 'perfect': 3, 'night'...   \n",
       "Speak Now     {'glad': 2, 'made': 10, 'time': 30, 'see': 34,...   \n",
       "Taylor Swift  {'would': 21, 'wanna': 21, 'break': 9, 'perfec...   \n",
       "reputation    {'knew': 7, 'killer': 1, 'first': 30, 'time': ...   \n",
       "\n",
       "                                                     freq_top20  \n",
       "album                                                            \n",
       "1989          {'shake': 79, 'ey': 72, 'yet': 64, 'love': 62,...  \n",
       "Fearless      {'know': 58, 'feel': 34, 'oh': 27, 'la': 26, '...  \n",
       "Lover         {'oh': 97, 'like': 74, 'ooh': 70, 'want': 52, ...  \n",
       "Red           {'know': 101, 'like': 92, 'oh': 72, 'time': 68...  \n",
       "Speak Now     {'back': 64, 'like': 60, 'know': 44, 'go': 37,...  \n",
       "Taylor Swift  {'know': 40, 'oh': 33, 'think': 31, 'back': 25...  \n",
       "reputation    {'oh': 59, 'made': 53, 'like': 52, 'want': 51,...  "
      ]
     },
     "execution_count": 29,
     "metadata": {},
     "output_type": "execute_result"
    }
   ],
   "source": [
    "# Get the top 20 most frequent words in each album\n",
    "albums['freq_top20'] = albums['freq'].apply(lambda x: dict_top(x, 20))\n",
    "albums"
   ]
  },
  {
   "cell_type": "code",
   "execution_count": 30,
   "metadata": {},
   "outputs": [
    {
     "data": {
      "text/plain": [
       "<matplotlib.legend.Legend at 0x16d62023cf8>"
      ]
     },
     "execution_count": 30,
     "metadata": {},
     "output_type": "execute_result"
    },
    {
     "data": {
      "image/png": "[encoded data removed]",
      "text/plain": [
       "<matplotlib.figure.Figure at 0x16d620232e8>"
      ]
     },
     "metadata": {
      "needs_background": "light"
     },
     "output_type": "display_data"
    }
   ],
   "source": [
    "# Simple visualization of the uniqueness and total words count of each album\n",
    "fig, ax = plt.subplots()\n",
    "fig.set_size_inches(10,6)\n",
    "for i in album_title:\n",
    "    ax.scatter(x = albums.loc[i, 'total_count'], y = albums.loc[i, 'uniqueness'], alpha = 0.9)\n",
    "ax.legend(album_title)"
   ]
  },
  {
   "cell_type": "code",
   "execution_count": 31,
   "metadata": {},
   "outputs": [
    {
     "data": {
      "image/png": "[encoded data removed]",
      "text/plain": [
       "<matplotlib.figure.Figure at 0x16d61ff2588>"
      ]
     },
     "metadata": {
      "needs_background": "light"
     },
     "output_type": "display_data"
    }
   ],
   "source": [
    "# Present the frequency of the top 20 most frequent words of each album\n",
    "fig, ax = plt.subplots(2, 4, sharex='all', figsize = (15, 10)) \n",
    "for i in range(len(album_title)):\n",
    "    x = int(i/4)\n",
    "    y = int(i%4)\n",
    "    ax[x, y].barh(np.arange(20), list(albums.loc[album_title[i], 'freq_top20'].values()))\n",
    "    ax[x, y].set_yticks(np.arange(20))\n",
    "    ax[x, y].set_yticklabels(list(albums.loc[album_title[i], 'freq_top20'].keys()))\n",
    "    ax[x, y].set_title(album_title[i])\n",
    "    ax[x, y].invert_yaxis()\n",
    "fig.tight_layout()"
   ]
  },
  {
   "cell_type": "code",
   "execution_count": 32,
   "metadata": {},
   "outputs": [
    {
     "data": {
      "image/png": "[encoded data removed]",
      "text/plain": [
       "<matplotlib.figure.Figure at 0x16d63c527b8>"
      ]
     },
     "metadata": {
      "needs_background": "light"
     },
     "output_type": "display_data"
    }
   ],
   "source": [
    "# Present the frequency/total words count of the top 20 most frequent words of each album\n",
    "fig, ax = plt.subplots(2, 4, sharex='all', figsize = (15, 10)) \n",
    "for i in range(len(album_title)):\n",
    "    x = int(i/4)\n",
    "    y = int(i%4)\n",
    "    ax[x, y].barh(np.arange(20), [v/albums.loc[album_title[i], 'total_count'] for v in list(albums.loc[album_title[i], 'freq_top20'].values())])\n",
    "    ax[x, y].set_yticks(np.arange(20))\n",
    "    ax[x, y].set_yticklabels(list(albums.loc[album_title[i], 'freq_top20'].keys()))\n",
    "    ax[x, y].set_title(album_title[i])\n",
    "    ax[x, y].invert_yaxis()\n",
    "fig.tight_layout()"
   ]
  },
  {
   "cell_type": "code",
   "execution_count": 33,
   "metadata": {},
   "outputs": [
    {
     "data": {
      "image/png": "[encoded data removed]",
      "text/plain": [
       "<matplotlib.figure.Figure at 0x16d61f360b8>"
      ]
     },
     "metadata": {
      "needs_background": "light"
     },
     "output_type": "display_data"
    }
   ],
   "source": [
    "# Present the frequency top 20 most frequent words of all albums\n",
    "all_albums_top20 = dict_top(collections.Counter(sum(albums['lyric'], [])), 20)\n",
    "plt.figure(figsize = (8, 5))\n",
    "plt.barh(np.arange(20), list(all_albums_top20.values()))\n",
    "plt.yticks(np.arange(20), list(all_albums_top20.keys()))\n",
    "plt.gca().invert_yaxis()\n",
    "plt.show()"
   ]
  },
  {
   "cell_type": "markdown",
   "metadata": {},
   "source": [
    "## Part IV: TF-IDF Analysis"
   ]
  },
  {
   "cell_type": "code",
   "execution_count": 34,
   "metadata": {},
   "outputs": [],
   "source": [
    "def tf_idf(dic):\n",
    "    # Get all the words in dic\n",
    "    ind = []\n",
    "    for i in dic.index:\n",
    "        ind += dic[i].keys()\n",
    "    ind = set(ind)\n",
    "    \n",
    "    # Create a dataframe to store all the words info\n",
    "    tf_idf_df = pd.DataFrame(columns = dic.index, index = ind)\n",
    "    \n",
    "    # Import all the words info\n",
    "    for i in dic.index:\n",
    "        tf_idf_df[i] = pd.Series(dic[i])\n",
    "    \n",
    "    # Fill all the NAs with 0\n",
    "    tf_idf_df = tf_idf_df.fillna(0)\n",
    "    \n",
    "    # Calculate the idf of each word\n",
    "    tf_idf_df['idf'] = np.log((len(dic.index) + 1)/((tf_idf_df > 0).sum(axis = 1) + 1)) + 1\n",
    "    \n",
    "    # Calculate the tf of each word\n",
    "    tf_idf_df[dic.index] = tf_idf_df[dic.index]/(tf_idf_df[dic.index].sum())\n",
    "    \n",
    "    # Multiply tf with idf\n",
    "    tf_idf_df[dic.index] = tf_idf_df[dic.index].apply(lambda x: x * tf_idf_df['idf'], axis = 0)\n",
    "    \n",
    "    # Reset the index and drop the idf column\n",
    "    tf_idf_df = tf_idf_df.reset_index().rename(columns = {'index':'word'}).drop(columns = 'idf', axis = 0)\n",
    "    \n",
    "    # Return the final dataframe\n",
    "    return tf_idf_df"
   ]
  },
  {
   "cell_type": "code",
   "execution_count": 35,
   "metadata": {},
   "outputs": [
    {
     "data": {
      "text/html": [
       "<div>\n",
       "<style scoped>\n",
       "    .dataframe tbody tr th:only-of-type {\n",
       "        vertical-align: middle;\n",
       "    }\n",
       "\n",
       "    .dataframe tbody tr th {\n",
       "        vertical-align: top;\n",
       "    }\n",
       "\n",
       "    .dataframe thead th {\n",
       "        text-align: right;\n",
       "    }\n",
       "</style>\n",
       "<table border=\"1\" class=\"dataframe\">\n",
       "  <thead>\n",
       "    <tr style=\"text-align: right;\">\n",
       "      <th>album</th>\n",
       "      <th>word</th>\n",
       "      <th>1989</th>\n",
       "      <th>Fearless</th>\n",
       "      <th>Lover</th>\n",
       "      <th>Red</th>\n",
       "      <th>Speak Now</th>\n",
       "      <th>Taylor Swift</th>\n",
       "      <th>reputation</th>\n",
       "    </tr>\n",
       "  </thead>\n",
       "  <tbody>\n",
       "    <tr>\n",
       "      <th>0</th>\n",
       "      <td>doin</td>\n",
       "      <td>0.000000</td>\n",
       "      <td>0.0</td>\n",
       "      <td>0.000000</td>\n",
       "      <td>0.0</td>\n",
       "      <td>0.0</td>\n",
       "      <td>0.0</td>\n",
       "      <td>0.007602</td>\n",
       "    </tr>\n",
       "    <tr>\n",
       "      <th>1</th>\n",
       "      <td>type</td>\n",
       "      <td>0.000000</td>\n",
       "      <td>0.0</td>\n",
       "      <td>0.000609</td>\n",
       "      <td>0.0</td>\n",
       "      <td>0.0</td>\n",
       "      <td>0.0</td>\n",
       "      <td>0.001262</td>\n",
       "    </tr>\n",
       "    <tr>\n",
       "      <th>2</th>\n",
       "      <td>cloud</td>\n",
       "      <td>0.000743</td>\n",
       "      <td>0.0</td>\n",
       "      <td>0.000000</td>\n",
       "      <td>0.0</td>\n",
       "      <td>0.0</td>\n",
       "      <td>0.0</td>\n",
       "      <td>0.000000</td>\n",
       "    </tr>\n",
       "    <tr>\n",
       "      <th>3</th>\n",
       "      <td>aglow</td>\n",
       "      <td>0.000743</td>\n",
       "      <td>0.0</td>\n",
       "      <td>0.000000</td>\n",
       "      <td>0.0</td>\n",
       "      <td>0.0</td>\n",
       "      <td>0.0</td>\n",
       "      <td>0.000000</td>\n",
       "    </tr>\n",
       "    <tr>\n",
       "      <th>4</th>\n",
       "      <td>beer</td>\n",
       "      <td>0.000000</td>\n",
       "      <td>0.0</td>\n",
       "      <td>0.000000</td>\n",
       "      <td>0.0</td>\n",
       "      <td>0.0</td>\n",
       "      <td>0.0</td>\n",
       "      <td>0.000760</td>\n",
       "    </tr>\n",
       "  </tbody>\n",
       "</table>\n",
       "</div>"
      ],
      "text/plain": [
       "album   word      1989  Fearless     Lover  Red  Speak Now  Taylor Swift  \\\n",
       "0       doin  0.000000       0.0  0.000000  0.0        0.0           0.0   \n",
       "1       type  0.000000       0.0  0.000609  0.0        0.0           0.0   \n",
       "2      cloud  0.000743       0.0  0.000000  0.0        0.0           0.0   \n",
       "3      aglow  0.000743       0.0  0.000000  0.0        0.0           0.0   \n",
       "4       beer  0.000000       0.0  0.000000  0.0        0.0           0.0   \n",
       "\n",
       "album  reputation  \n",
       "0        0.007602  \n",
       "1        0.001262  \n",
       "2        0.000000  \n",
       "3        0.000000  \n",
       "4        0.000760  "
      ]
     },
     "execution_count": 35,
     "metadata": {},
     "output_type": "execute_result"
    }
   ],
   "source": [
    "album_tf_idf = tf_idf(albums['freq'])\n",
    "album_tf_idf.head()"
   ]
  },
  {
   "cell_type": "code",
   "execution_count": 36,
   "metadata": {},
   "outputs": [],
   "source": [
    "album_tf_idf = album_tf_idf[album_tf_idf.word.map(len) > 2]"
   ]
  },
  {
   "cell_type": "code",
   "execution_count": 37,
   "metadata": {},
   "outputs": [
    {
     "data": {
      "image/png": "[encoded data removed]",
      "text/plain": [
       "<matplotlib.figure.Figure at 0x16d620245f8>"
      ]
     },
     "metadata": {
      "needs_background": "light"
     },
     "output_type": "display_data"
    }
   ],
   "source": [
    "fig, ax = plt.subplots(2, 4, sharex = 'all', figsize = (15, 10))\n",
    "for i in range(len(album_title)):\n",
    "    x = int(i/4)\n",
    "    y = int(i%4)\n",
    "    sorted_df = album_tf_idf[['word', album_title[i]]].sort_values(by = album_title[i], ascending = False)[:20]\n",
    "    tf_idf = list(sorted_df[album_title[i]])\n",
    "    words = list(sorted_df['word'])\n",
    "    ax[x, y].barh(range(20), tf_idf)\n",
    "    ax[x, y].set_yticks(np.arange(20))\n",
    "    ax[x, y].set_yticklabels(words)\n",
    "    ax[x, y].set_title(album_title[i])\n",
    "    ax[x, y].invert_yaxis()\n",
    "fig.tight_layout()"
   ]
  },
  {
   "cell_type": "markdown",
   "metadata": {},
   "source": [
    "## Part V: Comparative Analysis"
   ]
  },
  {
   "cell_type": "code",
   "execution_count": 38,
   "metadata": {},
   "outputs": [],
   "source": [
    "import gensim\n",
    "from gensim.models import LdaModel\n",
    "from gensim import corpora\n",
    "from scipy.stats import entropy\n",
    "\n",
    "import os\n",
    "from gensim.models import Word2Vec\n",
    "import pyemd"
   ]
  },
  {
   "cell_type": "markdown",
   "metadata": {},
   "source": [
    "### Part 5.1: LDA with Jensen-Shannon Distance"
   ]
  },
  {
   "cell_type": "code",
   "execution_count": 39,
   "metadata": {},
   "outputs": [],
   "source": [
    "song_dict = corpora.Dictionary(songs.lyric)\n",
    "song_corp = [song_dict.doc2bow(d) for d in songs.lyric]\n",
    "song_lda = LdaModel(corpus = song_corp, num_topics = 7, id2word = song_dict, passes = 5, alpha=1e-2, eta=0.5e-2, minimum_probability=0.0)"
   ]
  },
  {
   "cell_type": "code",
   "execution_count": 40,
   "metadata": {},
   "outputs": [],
   "source": [
    "song_topic_dist = np.array([[t[1] for t in l] for l in song_lda[song_corp]])"
   ]
  },
  {
   "cell_type": "code",
   "execution_count": 41,
   "metadata": {},
   "outputs": [],
   "source": [
    "def JS(doc_mat):\n",
    "    js_df = pd.DataFrame()\n",
    "    for i in range(len(doc_mat)):\n",
    "        doc = doc_mat[i][None, :].T\n",
    "        js_df[songs.index[i]] = np.sqrt(0.5*(entropy(doc, 0.5*(doc + doc_mat.T)) + entropy(doc_mat.T, 0.5*(doc + doc_mat.T))))\n",
    "    js_df.columns = songs.track_title\n",
    "    js_df.index = songs.track_title\n",
    "    return js_df"
   ]
  },
  {
   "cell_type": "code",
   "execution_count": 42,
   "metadata": {},
   "outputs": [
    {
     "name": "stderr",
     "output_type": "stream",
     "text": [
      "C:\\Softwares\\Anaconda\\lib\\site-packages\\ipykernel_launcher.py:5: RuntimeWarning: invalid value encountered in sqrt\n",
      "  \"\"\"\n"
     ]
    }
   ],
   "source": [
    "song_js = JS(song_topic_dist)"
   ]
  },
  {
   "cell_type": "code",
   "execution_count": 320,
   "metadata": {},
   "outputs": [],
   "source": [
    "song_js_edge_top = top_edge(song_js, 3, 0.1)"
   ]
  },
  {
   "cell_type": "code",
   "execution_count": 321,
   "metadata": {},
   "outputs": [],
   "source": [
    "vis_net = Network(height=\"600px\", width=\"100%\", bgcolor=\"#ffffff\", font_color=\"black\", notebook = True)"
   ]
  },
  {
   "cell_type": "code",
   "execution_count": 322,
   "metadata": {},
   "outputs": [],
   "source": [
    "album_color = songs.album.replace({'Taylor Swift':'#68f558', 'Fearless':'#e8f558', 'Speak Now':'#a958f5', 'Red':'#f55858', '1989':'#f5ae58', 'reputation':'#000000', 'Lover':'#ffa1a1'})\n",
    "vis_net.add_nodes(songs.track_title.replace('22', '22 (Twenty Two)').values, color = album_color, size = np.ones(len(songs.track_title))*20)"
   ]
  },
  {
   "cell_type": "code",
   "execution_count": 323,
   "metadata": {},
   "outputs": [],
   "source": [
    "vis_net.add_edges(song_js_edge_top)"
   ]
  },
  {
   "cell_type": "code",
   "execution_count": 324,
   "metadata": {},
   "outputs": [
    {
     "data": {
      "text/html": [
       "\n",
       "        <iframe\n",
       "            width=\"100%\"\n",
       "            height=\"600px\"\n",
       "            src=\"example.html\"\n",
       "            frameborder=\"0\"\n",
       "            allowfullscreen\n",
       "        ></iframe>\n",
       "        "
      ],
      "text/plain": [
       "<IPython.lib.display.IFrame at 0x16e5d6e5588>"
      ]
     },
     "execution_count": 324,
     "metadata": {},
     "output_type": "execute_result"
    }
   ],
   "source": [
    "vis_net.toggle_physics(True)\n",
    "vis_net.show('example.html')"
   ]
  },
  {
   "cell_type": "markdown",
   "metadata": {},
   "source": [
    "### Part 5.2: Word Mover's Distance"
   ]
  },
  {
   "cell_type": "code",
   "execution_count": 49,
   "metadata": {},
   "outputs": [
    {
     "name": "stdout",
     "output_type": "stream",
     "text": [
      "C:\\Users\\young\\Documents\\GitHub\\TS_Lyrics_Project\n"
     ]
    }
   ],
   "source": [
    "%cd C:\\Users\\young\\Documents\\GitHub\\TS_Lyrics_Project"
   ]
  },
  {
   "cell_type": "code",
   "execution_count": 50,
   "metadata": {},
   "outputs": [],
   "source": [
    "if not os.path.exists('GoogleNews-vectors-negative300.bin.gz'):\n",
    "    raise ValueError(\"SKIP: You need to download the google news model\")\n",
    "\n",
    "w2v_model = gensim.models.KeyedVectors.load_word2vec_format('GoogleNews-vectors-negative300.bin.gz', binary=True)\n",
    "w2v_model.init_sims(replace=True)"
   ]
  },
  {
   "cell_type": "code",
   "execution_count": 103,
   "metadata": {},
   "outputs": [],
   "source": [
    "def song_wmd(song_doc, wmd_model):\n",
    "    track_title = song_doc.track_title\n",
    "    song_wmd_df = pd.DataFrame(columns = track_title, index = track_title)\n",
    "    for t1 in range(len(track_title)):\n",
    "        for t2 in range(t1 + 1, len(track_title)):\n",
    "            song_wmd_df.loc[track_title[t1], track_title[t2]] = wmd_model.wmdistance(songs.lyric[t1], songs.lyric[t2])\n",
    "    song_wmd_df.fillna(0, inplace = True)\n",
    "    song_wmd_df += song_wmd_df.T\n",
    "    return song_wmd_df"
   ]
  },
  {
   "cell_type": "code",
   "execution_count": 74,
   "metadata": {},
   "outputs": [],
   "source": [
    "song_wmd_mat = song_wmd(songs.lyric, w2v_model)"
   ]
  },
  {
   "cell_type": "code",
   "execution_count": 277,
   "metadata": {},
   "outputs": [],
   "source": [
    "def top_edge(song_mat, top, threshold):\n",
    "    edge_list = []\n",
    "    track_title = song_mat.columns\n",
    "    for t in track_title:\n",
    "        wmd_top = song_mat[t].sort_values(ascending = True)[:top]\n",
    "        if sum(wmd_top < threshold) == 0:\n",
    "            continue\n",
    "        else:\n",
    "            wmd_top = wmd_top[wmd_top <= threshold]\n",
    "            source = [t.replace('22', '22 (Twenty Two)')]*len(wmd_top)\n",
    "            target = [s.replace('22', '22 (Twenty Two)') for s in wmd_top.index]\n",
    "            value = list(1/(wmd_top.values + 1))\n",
    "            edge_list += [(s, t, str(v)) for s, t, v in zip(source, target, value) if s != t]\n",
    "    return edge_list"
   ]
  },
  {
   "cell_type": "code",
   "execution_count": 360,
   "metadata": {},
   "outputs": [],
   "source": [
    "song_wmd_edge_top = top_edge(song_wmd_mat, 1, 0.9)"
   ]
  },
  {
   "cell_type": "code",
   "execution_count": 361,
   "metadata": {},
   "outputs": [],
   "source": [
    "vis_net = Network(height=\"600px\", width=\"100%\", bgcolor=\"#ffffff\", font_color=\"black\", notebook = True)"
   ]
  },
  {
   "cell_type": "code",
   "execution_count": 362,
   "metadata": {},
   "outputs": [],
   "source": [
    "album_color = songs.album.replace({'Taylor Swift':'#68f558', 'Fearless':'#e8f558', 'Speak Now':'#a958f5', 'Red':'#f55858', '1989':'#f5ae58', 'reputation':'#000000', 'Lover':'#ffa1a1'})\n",
    "vis_net.add_nodes(songs.track_title.replace('22', '22 (Twenty Two)').values, color = album_color, size = np.ones(len(songs.track_title))*20)"
   ]
  },
  {
   "cell_type": "code",
   "execution_count": 363,
   "metadata": {},
   "outputs": [],
   "source": [
    "vis_net.add_edges(song_wmd_edge_top)"
   ]
  },
  {
   "cell_type": "code",
   "execution_count": 364,
   "metadata": {},
   "outputs": [
    {
     "data": {
      "text/html": [
       "\n",
       "        <iframe\n",
       "            width=\"100%\"\n",
       "            height=\"600px\"\n",
       "            src=\"example.html\"\n",
       "            frameborder=\"0\"\n",
       "            allowfullscreen\n",
       "        ></iframe>\n",
       "        "
      ],
      "text/plain": [
       "<IPython.lib.display.IFrame at 0x16e5cee2e10>"
      ]
     },
     "execution_count": 364,
     "metadata": {},
     "output_type": "execute_result"
    }
   ],
   "source": [
    "vis_net.toggle_physics(True)\n",
    "vis_net.show('example.html')"
   ]
  }
 ],
 "metadata": {
  "kernelspec": {
   "display_name": "Python 3",
   "language": "python",
   "name": "python3"
  },
  "language_info": {
   "codemirror_mode": {
    "name": "ipython",
    "version": 3
   },
   "file_extension": ".py",
   "mimetype": "text/x-python",
   "name": "python",
   "nbconvert_exporter": "python",
   "pygments_lexer": "ipython3",
   "version": "3.7.4"
  }
 },
 "nbformat": 4,
 "nbformat_minor": 4
}
