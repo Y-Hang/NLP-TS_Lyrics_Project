{
 "cells": [
  {
   "cell_type": "markdown",
   "metadata": {},
   "source": [
    "## Taylor Swift Lyrics Analysis Project"
   ]
  },
  {
   "cell_type": "markdown",
   "metadata": {},
   "source": [
    "This project focuses on the songs from Taylor Swift's 7 studio albums (self-titled, Fearless, Speak Now, Red, 1989, reputation and Lover). On Kaggle, I found a dataset uploaded by PromptCloud who collected the lyrics of the first 6 albums (from self-titled to reputation). For Taylor's newest album Lover, I scraped the lyrics pages of songs in this album on https://www.azlyrics.com/. \n",
    "\n",
    "Kaggle dataset link: https://www.kaggle.com/PromptCloudHQ/taylor-swift-song-lyrics-from-all-the-albums"
   ]
  },
  {
   "cell_type": "code",
   "execution_count": 204,
   "metadata": {},
   "outputs": [],
   "source": [
    "# Data processing and visualization libs\n",
    "import pandas as pd\n",
    "import numpy as np\n",
    "import collections\n",
    "import matplotlib.pyplot as plt\n",
    "\n",
    "# Web scraping libs\n",
    "import requests\n",
    "from bs4 import BeautifulSoup\n",
    "\n",
    "# NLP libs\n",
    "import nltk\n",
    "import nltk.corpus\n",
    "import string\n",
    "from nltk.corpus import stopwords\n",
    "from nltk.stem import WordNetLemmatizer"
   ]
  },
  {
   "cell_type": "markdown",
   "metadata": {},
   "source": [
    "## Part I: Get the lyrics"
   ]
  },
  {
   "cell_type": "code",
   "execution_count": 3,
   "metadata": {},
   "outputs": [
    {
     "data": {
      "text/html": [
       "<div>\n",
       "<style scoped>\n",
       "    .dataframe tbody tr th:only-of-type {\n",
       "        vertical-align: middle;\n",
       "    }\n",
       "\n",
       "    .dataframe tbody tr th {\n",
       "        vertical-align: top;\n",
       "    }\n",
       "\n",
       "    .dataframe thead th {\n",
       "        text-align: right;\n",
       "    }\n",
       "</style>\n",
       "<table border=\"1\" class=\"dataframe\">\n",
       "  <thead>\n",
       "    <tr style=\"text-align: right;\">\n",
       "      <th></th>\n",
       "      <th>artist</th>\n",
       "      <th>album</th>\n",
       "      <th>track_title</th>\n",
       "      <th>track_n</th>\n",
       "      <th>lyric</th>\n",
       "      <th>line</th>\n",
       "      <th>year</th>\n",
       "    </tr>\n",
       "  </thead>\n",
       "  <tbody>\n",
       "    <tr>\n",
       "      <th>0</th>\n",
       "      <td>Taylor Swift</td>\n",
       "      <td>Taylor Swift</td>\n",
       "      <td>Tim McGraw</td>\n",
       "      <td>1</td>\n",
       "      <td>He said the way my blue eyes shined</td>\n",
       "      <td>1</td>\n",
       "      <td>2006</td>\n",
       "    </tr>\n",
       "    <tr>\n",
       "      <th>1</th>\n",
       "      <td>Taylor Swift</td>\n",
       "      <td>Taylor Swift</td>\n",
       "      <td>Tim McGraw</td>\n",
       "      <td>1</td>\n",
       "      <td>Put those Georgia stars to shame that night</td>\n",
       "      <td>2</td>\n",
       "      <td>2006</td>\n",
       "    </tr>\n",
       "    <tr>\n",
       "      <th>2</th>\n",
       "      <td>Taylor Swift</td>\n",
       "      <td>Taylor Swift</td>\n",
       "      <td>Tim McGraw</td>\n",
       "      <td>1</td>\n",
       "      <td>I said, \"That's a lie\"</td>\n",
       "      <td>3</td>\n",
       "      <td>2006</td>\n",
       "    </tr>\n",
       "    <tr>\n",
       "      <th>3</th>\n",
       "      <td>Taylor Swift</td>\n",
       "      <td>Taylor Swift</td>\n",
       "      <td>Tim McGraw</td>\n",
       "      <td>1</td>\n",
       "      <td>Just a boy in a Chevy truck</td>\n",
       "      <td>4</td>\n",
       "      <td>2006</td>\n",
       "    </tr>\n",
       "    <tr>\n",
       "      <th>4</th>\n",
       "      <td>Taylor Swift</td>\n",
       "      <td>Taylor Swift</td>\n",
       "      <td>Tim McGraw</td>\n",
       "      <td>1</td>\n",
       "      <td>That had a tendency of gettin' stuck</td>\n",
       "      <td>5</td>\n",
       "      <td>2006</td>\n",
       "    </tr>\n",
       "  </tbody>\n",
       "</table>\n",
       "</div>"
      ],
      "text/plain": [
       "         artist         album track_title  track_n  \\\n",
       "0  Taylor Swift  Taylor Swift  Tim McGraw        1   \n",
       "1  Taylor Swift  Taylor Swift  Tim McGraw        1   \n",
       "2  Taylor Swift  Taylor Swift  Tim McGraw        1   \n",
       "3  Taylor Swift  Taylor Swift  Tim McGraw        1   \n",
       "4  Taylor Swift  Taylor Swift  Tim McGraw        1   \n",
       "\n",
       "                                         lyric  line  year  \n",
       "0          He said the way my blue eyes shined     1  2006  \n",
       "1  Put those Georgia stars to shame that night     2  2006  \n",
       "2                       I said, \"That's a lie\"     3  2006  \n",
       "3                  Just a boy in a Chevy truck     4  2006  \n",
       "4         That had a tendency of gettin' stuck     5  2006  "
      ]
     },
     "execution_count": 3,
     "metadata": {},
     "output_type": "execute_result"
    }
   ],
   "source": [
    "# The Kaggle dataset is named taylor_swift_lyrics.csv. Read in the lyrics of first 6 albums\n",
    "lyrics = pd.read_csv('taylor_swift_lyrics.csv')\n",
    "\n",
    "# Each row of this dataset is one single line of lyrics of each song, which is not what we want.\n",
    "lyrics.head()"
   ]
  },
  {
   "cell_type": "code",
   "execution_count": 52,
   "metadata": {},
   "outputs": [
    {
     "data": {
      "text/html": [
       "<div>\n",
       "<style scoped>\n",
       "    .dataframe tbody tr th:only-of-type {\n",
       "        vertical-align: middle;\n",
       "    }\n",
       "\n",
       "    .dataframe tbody tr th {\n",
       "        vertical-align: top;\n",
       "    }\n",
       "\n",
       "    .dataframe thead th {\n",
       "        text-align: right;\n",
       "    }\n",
       "</style>\n",
       "<table border=\"1\" class=\"dataframe\">\n",
       "  <thead>\n",
       "    <tr style=\"text-align: right;\">\n",
       "      <th></th>\n",
       "      <th>album</th>\n",
       "      <th>track_title</th>\n",
       "      <th>lyric</th>\n",
       "    </tr>\n",
       "  </thead>\n",
       "  <tbody>\n",
       "    <tr>\n",
       "      <th>0</th>\n",
       "      <td>1989</td>\n",
       "      <td>All You Had to Do Was Stay</td>\n",
       "      <td>People like you always want back The love they...</td>\n",
       "    </tr>\n",
       "    <tr>\n",
       "      <th>1</th>\n",
       "      <td>1989</td>\n",
       "      <td>Bad Blood</td>\n",
       "      <td>'Cause baby, now we've got bad blood You know ...</td>\n",
       "    </tr>\n",
       "    <tr>\n",
       "      <th>2</th>\n",
       "      <td>1989</td>\n",
       "      <td>Blank Space</td>\n",
       "      <td>Nice to meet you, where you been? I could show...</td>\n",
       "    </tr>\n",
       "    <tr>\n",
       "      <th>3</th>\n",
       "      <td>1989</td>\n",
       "      <td>Clean</td>\n",
       "      <td>The drought was the very worst When the flower...</td>\n",
       "    </tr>\n",
       "    <tr>\n",
       "      <th>4</th>\n",
       "      <td>1989</td>\n",
       "      <td>How You Get The Girl</td>\n",
       "      <td>Uh, uh, uh Uh, uh, uh Uh-uh, uh-uh Stand there...</td>\n",
       "    </tr>\n",
       "  </tbody>\n",
       "</table>\n",
       "</div>"
      ],
      "text/plain": [
       "  album                 track_title  \\\n",
       "0  1989  All You Had to Do Was Stay   \n",
       "1  1989                   Bad Blood   \n",
       "2  1989                 Blank Space   \n",
       "3  1989                       Clean   \n",
       "4  1989        How You Get The Girl   \n",
       "\n",
       "                                               lyric  \n",
       "0  People like you always want back The love they...  \n",
       "1  'Cause baby, now we've got bad blood You know ...  \n",
       "2  Nice to meet you, where you been? I could show...  \n",
       "3  The drought was the very worst When the flower...  \n",
       "4  Uh, uh, uh Uh, uh, uh Uh-uh, uh-uh Stand there...  "
      ]
     },
     "execution_count": 52,
     "metadata": {},
     "output_type": "execute_result"
    }
   ],
   "source": [
    "# Concatenate the lyrics of each songs using groupby\n",
    "songs_part1 = lyrics[['album', 'track_title', 'lyric']].groupby(['album', 'track_title']).agg({'lyric': lambda x: x.str.cat(sep = ' ')}).reset_index()\n",
    "songs_part1.head()"
   ]
  },
  {
   "cell_type": "code",
   "execution_count": 14,
   "metadata": {},
   "outputs": [],
   "source": [
    "# Before we continue, we need to get the lyrics of songs in album Lover\n",
    "\n",
    "# I found a website (https://www.azlyrics.com) that provides the lyrics of songs in Lover\n",
    "# The root_url is the lyrics page of the first song 'I Forgot That You Existed' in album Lover\n",
    "# This page also contains all the other lyrics pages' links on https://www.azlyrics.com\n",
    "# I scraped this page to get all the lyrics pages' links\n",
    "root_url = 'https://www.azlyrics.com/lyrics/taylorswift/iforgotthatyouexisted.html'\n",
    "root_html = requests.get(root_url)\n",
    "root_bs = BeautifulSoup(root_html.text, 'html.parser')"
   ]
  },
  {
   "cell_type": "code",
   "execution_count": 15,
   "metadata": {},
   "outputs": [],
   "source": [
    "# Store each song's title in lover_track_title\n",
    "lover_track_title = [track.get_text() for track in root_bs.find_all('div', class_= 'panel songlist-panel noprint')[0].find_all('a')]"
   ]
  },
  {
   "cell_type": "code",
   "execution_count": 16,
   "metadata": {},
   "outputs": [],
   "source": [
    "# Store each song's lyrics page link in lover_track_url\n",
    "lover_track_url = ['https://www.azlyrics.com/lyrics/taylorswift/' + track['href'] for track in root_bs.find_all('div', class_= 'panel songlist-panel noprint')[0].find_all('a')]"
   ]
  },
  {
   "cell_type": "code",
   "execution_count": 238,
   "metadata": {},
   "outputs": [
    {
     "data": {
      "text/plain": [
       "['https://www.azlyrics.com/lyrics/taylorswift/iforgotthatyouexisted.html',\n",
       " 'https://www.azlyrics.com/lyrics/taylorswift/cruelsummer.html',\n",
       " 'https://www.azlyrics.com/lyrics/taylorswift/lover.html',\n",
       " 'https://www.azlyrics.com/lyrics/taylorswift/theman.html',\n",
       " 'https://www.azlyrics.com/lyrics/taylorswift/thearcher.html',\n",
       " 'https://www.azlyrics.com/lyrics/taylorswift/ithinkheknows.html',\n",
       " 'https://www.azlyrics.com/lyrics/taylorswift/missamericanatheheartbreakprince.html',\n",
       " 'https://www.azlyrics.com/lyrics/taylorswift/paperrings.html',\n",
       " 'https://www.azlyrics.com/lyrics/taylorswift/corneliastreet.html',\n",
       " 'https://www.azlyrics.com/lyrics/taylorswift/deathbyathousandcuts.html',\n",
       " 'https://www.azlyrics.com/lyrics/taylorswift/londonboy.html',\n",
       " 'https://www.azlyrics.com/lyrics/taylorswift/soonyoullgetbetter.html',\n",
       " 'https://www.azlyrics.com/lyrics/taylorswift/falsegod.html',\n",
       " 'https://www.azlyrics.com/lyrics/taylorswift/youneedtocalmdown.html',\n",
       " 'https://www.azlyrics.com/lyrics/taylorswift/afterglow.html',\n",
       " 'https://www.azlyrics.com/lyrics/taylorswift/me.html',\n",
       " 'https://www.azlyrics.com/lyrics/taylorswift/itsnicetohaveafriend.html',\n",
       " 'https://www.azlyrics.com/lyrics/taylorswift/daylight.html']"
      ]
     },
     "execution_count": 238,
     "metadata": {},
     "output_type": "execute_result"
    }
   ],
   "source": [
    "lover_track_url"
   ]
  },
  {
   "cell_type": "code",
   "execution_count": 24,
   "metadata": {},
   "outputs": [
    {
     "data": {
      "text/html": [
       "<div>\n",
       "<style scoped>\n",
       "    .dataframe tbody tr th:only-of-type {\n",
       "        vertical-align: middle;\n",
       "    }\n",
       "\n",
       "    .dataframe tbody tr th {\n",
       "        vertical-align: top;\n",
       "    }\n",
       "\n",
       "    .dataframe thead th {\n",
       "        text-align: right;\n",
       "    }\n",
       "</style>\n",
       "<table border=\"1\" class=\"dataframe\">\n",
       "  <thead>\n",
       "    <tr style=\"text-align: right;\">\n",
       "      <th></th>\n",
       "      <th>album</th>\n",
       "      <th>track_title</th>\n",
       "      <th>lyric</th>\n",
       "    </tr>\n",
       "  </thead>\n",
       "  <tbody>\n",
       "    <tr>\n",
       "      <th>0</th>\n",
       "      <td>Lover</td>\n",
       "      <td>I Forgot That You Existed</td>\n",
       "      <td>\\n\\r\\nHow many days did I spend thinking\\n'Bou...</td>\n",
       "    </tr>\n",
       "    <tr>\n",
       "      <th>1</th>\n",
       "      <td>Lover</td>\n",
       "      <td>Cruel Summer</td>\n",
       "      <td>\\n\\r\\n(Yeah, yeah, yeah, yeah)\\n\\nFever dream ...</td>\n",
       "    </tr>\n",
       "    <tr>\n",
       "      <th>2</th>\n",
       "      <td>Lover</td>\n",
       "      <td>Lover</td>\n",
       "      <td>\\n\\r\\nWe could leave the Christmas lights up '...</td>\n",
       "    </tr>\n",
       "    <tr>\n",
       "      <th>3</th>\n",
       "      <td>Lover</td>\n",
       "      <td>The Man</td>\n",
       "      <td>\\n\\r\\nI would be complex, I would be cool\\nThe...</td>\n",
       "    </tr>\n",
       "    <tr>\n",
       "      <th>4</th>\n",
       "      <td>Lover</td>\n",
       "      <td>The Archer</td>\n",
       "      <td>\\n\\r\\nCombat\\nI'm ready for combat\\nI say I do...</td>\n",
       "    </tr>\n",
       "  </tbody>\n",
       "</table>\n",
       "</div>"
      ],
      "text/plain": [
       "   album                track_title  \\\n",
       "0  Lover  I Forgot That You Existed   \n",
       "1  Lover               Cruel Summer   \n",
       "2  Lover                      Lover   \n",
       "3  Lover                    The Man   \n",
       "4  Lover                 The Archer   \n",
       "\n",
       "                                               lyric  \n",
       "0  \\n\\r\\nHow many days did I spend thinking\\n'Bou...  \n",
       "1  \\n\\r\\n(Yeah, yeah, yeah, yeah)\\n\\nFever dream ...  \n",
       "2  \\n\\r\\nWe could leave the Christmas lights up '...  \n",
       "3  \\n\\r\\nI would be complex, I would be cool\\nThe...  \n",
       "4  \\n\\r\\nCombat\\nI'm ready for combat\\nI say I do...  "
      ]
     },
     "execution_count": 24,
     "metadata": {},
     "output_type": "execute_result"
    }
   ],
   "source": [
    "# Create a new dataframe lover to store the lyrics data of album Lover\n",
    "lover = pd.DataFrame(index = range(0, len(lover_track_url)), columns = ['album', 'track_title', 'lyric'])\n",
    "lover['album'] = 'Lover'\n",
    "lover['track_title'] = lover_track_title\n",
    "\n",
    "# Scrape each song's lyrics page, get the lyrics, tokenize them and store the data\n",
    "for t in range(0, len(lover_track_title)):\n",
    "    url = lover_track_url[t]\n",
    "    html = requests.get(url)\n",
    "    bs = BeautifulSoup(html.text, 'html.parser')\n",
    "    lover.loc[t, 'lyric'] = bs.find_all('div')[9].find_all('div')[9].get_text()\n",
    "\n",
    "# There are some \\n and \\r in the data (at the beginning for example) and we need to remove them\n",
    "lover.head()"
   ]
  },
  {
   "cell_type": "code",
   "execution_count": 25,
   "metadata": {},
   "outputs": [
    {
     "data": {
      "text/html": [
       "<div>\n",
       "<style scoped>\n",
       "    .dataframe tbody tr th:only-of-type {\n",
       "        vertical-align: middle;\n",
       "    }\n",
       "\n",
       "    .dataframe tbody tr th {\n",
       "        vertical-align: top;\n",
       "    }\n",
       "\n",
       "    .dataframe thead th {\n",
       "        text-align: right;\n",
       "    }\n",
       "</style>\n",
       "<table border=\"1\" class=\"dataframe\">\n",
       "  <thead>\n",
       "    <tr style=\"text-align: right;\">\n",
       "      <th></th>\n",
       "      <th>album</th>\n",
       "      <th>track_title</th>\n",
       "      <th>lyric</th>\n",
       "    </tr>\n",
       "  </thead>\n",
       "  <tbody>\n",
       "    <tr>\n",
       "      <th>0</th>\n",
       "      <td>Lover</td>\n",
       "      <td>I Forgot That You Existed</td>\n",
       "      <td>How many days did I spend thinking 'Bout ho...</td>\n",
       "    </tr>\n",
       "    <tr>\n",
       "      <th>1</th>\n",
       "      <td>Lover</td>\n",
       "      <td>Cruel Summer</td>\n",
       "      <td>(Yeah, yeah, yeah, yeah)  Fever dream high ...</td>\n",
       "    </tr>\n",
       "    <tr>\n",
       "      <th>2</th>\n",
       "      <td>Lover</td>\n",
       "      <td>Lover</td>\n",
       "      <td>We could leave the Christmas lights up 'til...</td>\n",
       "    </tr>\n",
       "    <tr>\n",
       "      <th>3</th>\n",
       "      <td>Lover</td>\n",
       "      <td>The Man</td>\n",
       "      <td>I would be complex, I would be cool They'd ...</td>\n",
       "    </tr>\n",
       "    <tr>\n",
       "      <th>4</th>\n",
       "      <td>Lover</td>\n",
       "      <td>The Archer</td>\n",
       "      <td>Combat I'm ready for combat I say I don't w...</td>\n",
       "    </tr>\n",
       "  </tbody>\n",
       "</table>\n",
       "</div>"
      ],
      "text/plain": [
       "   album                track_title  \\\n",
       "0  Lover  I Forgot That You Existed   \n",
       "1  Lover               Cruel Summer   \n",
       "2  Lover                      Lover   \n",
       "3  Lover                    The Man   \n",
       "4  Lover                 The Archer   \n",
       "\n",
       "                                               lyric  \n",
       "0     How many days did I spend thinking 'Bout ho...  \n",
       "1     (Yeah, yeah, yeah, yeah)  Fever dream high ...  \n",
       "2     We could leave the Christmas lights up 'til...  \n",
       "3     I would be complex, I would be cool They'd ...  \n",
       "4     Combat I'm ready for combat I say I don't w...  "
      ]
     },
     "execution_count": 25,
     "metadata": {},
     "output_type": "execute_result"
    }
   ],
   "source": [
    "# Replace the \\n and \\r with blankspaces to avoid unwanted concatenation\n",
    "lover['lyric'] = lover['lyric'].apply(lambda x: x.replace('\\n', ' ').replace('\\r', ' '))\n",
    "lover.head()"
   ]
  },
  {
   "cell_type": "code",
   "execution_count": 233,
   "metadata": {},
   "outputs": [],
   "source": [
    "# So far, we have successfully collected the lyrics data of album Lover and are ready to join it with the previous dataset songs\n",
    "# Append lover to songs\n",
    "songs = songs_part1.append(lover, ignore_index = True)\n",
    "\n",
    "# Prepare an albums dataset containing lyrics grouped by each album\n",
    "albums = songs[['album', 'lyric']].groupby('album').agg({'lyric':lambda x: x.str.cat(sep = ' ')}).reset_index()"
   ]
  },
  {
   "cell_type": "markdown",
   "metadata": {},
   "source": [
    "## Part II: Preprocess the lyrics"
   ]
  },
  {
   "cell_type": "code",
   "execution_count": 212,
   "metadata": {},
   "outputs": [
    {
     "data": {
      "text/html": [
       "<div>\n",
       "<style scoped>\n",
       "    .dataframe tbody tr th:only-of-type {\n",
       "        vertical-align: middle;\n",
       "    }\n",
       "\n",
       "    .dataframe tbody tr th {\n",
       "        vertical-align: top;\n",
       "    }\n",
       "\n",
       "    .dataframe thead th {\n",
       "        text-align: right;\n",
       "    }\n",
       "</style>\n",
       "<table border=\"1\" class=\"dataframe\">\n",
       "  <thead>\n",
       "    <tr style=\"text-align: right;\">\n",
       "      <th></th>\n",
       "      <th>album</th>\n",
       "      <th>track_title</th>\n",
       "      <th>lyric</th>\n",
       "    </tr>\n",
       "  </thead>\n",
       "  <tbody>\n",
       "    <tr>\n",
       "      <th>0</th>\n",
       "      <td>1989</td>\n",
       "      <td>All You Had to Do Was Stay</td>\n",
       "      <td>[people, like, you, always, want, back, the, l...</td>\n",
       "    </tr>\n",
       "    <tr>\n",
       "      <th>1</th>\n",
       "      <td>1989</td>\n",
       "      <td>Bad Blood</td>\n",
       "      <td>['cause, baby,, now, we've, got, bad, blood, y...</td>\n",
       "    </tr>\n",
       "    <tr>\n",
       "      <th>2</th>\n",
       "      <td>1989</td>\n",
       "      <td>Blank Space</td>\n",
       "      <td>[nice, to, meet, you,, where, you, been?, i, c...</td>\n",
       "    </tr>\n",
       "    <tr>\n",
       "      <th>3</th>\n",
       "      <td>1989</td>\n",
       "      <td>Clean</td>\n",
       "      <td>[the, drought, was, the, very, worst, when, th...</td>\n",
       "    </tr>\n",
       "    <tr>\n",
       "      <th>4</th>\n",
       "      <td>1989</td>\n",
       "      <td>How You Get The Girl</td>\n",
       "      <td>[uh,, uh,, uh, uh,, uh,, uh, uh-uh,, uh-uh, st...</td>\n",
       "    </tr>\n",
       "  </tbody>\n",
       "</table>\n",
       "</div>"
      ],
      "text/plain": [
       "  album                 track_title  \\\n",
       "0  1989  All You Had to Do Was Stay   \n",
       "1  1989                   Bad Blood   \n",
       "2  1989                 Blank Space   \n",
       "3  1989                       Clean   \n",
       "4  1989        How You Get The Girl   \n",
       "\n",
       "                                               lyric  \n",
       "0  [people, like, you, always, want, back, the, l...  \n",
       "1  ['cause, baby,, now, we've, got, bad, blood, y...  \n",
       "2  [nice, to, meet, you,, where, you, been?, i, c...  \n",
       "3  [the, drought, was, the, very, worst, when, th...  \n",
       "4  [uh,, uh,, uh, uh,, uh,, uh, uh-uh,, uh-uh, st...  "
      ]
     },
     "execution_count": 212,
     "metadata": {},
     "output_type": "execute_result"
    }
   ],
   "source": [
    "# Tokenize the lyrics: break the lyrics into single lowercase words instead of sentences.\n",
    "songs['lyric'] = songs['lyric'].apply(lambda x: x.lower().split(sep = ' '))\n",
    "songs.head()"
   ]
  },
  {
   "cell_type": "code",
   "execution_count": 213,
   "metadata": {},
   "outputs": [],
   "source": [
    "# Remove the blankspaces used to replace \\n and \\r\n",
    "songs['lyric'] = songs['lyric'].apply(lambda xs: [x for x in xs if x not in [' ', '']])"
   ]
  },
  {
   "cell_type": "code",
   "execution_count": 214,
   "metadata": {},
   "outputs": [],
   "source": [
    "# Get the total counts of words\n",
    "songs['total_count'] = songs['lyric'].apply(len)"
   ]
  },
  {
   "cell_type": "code",
   "execution_count": 215,
   "metadata": {},
   "outputs": [],
   "source": [
    "# Remove punctuations.\n",
    "songs['lyric'] = songs['lyric'].apply(lambda xs: [x.translate(str.maketrans('', '', string.punctuation)) for x in xs])"
   ]
  },
  {
   "cell_type": "code",
   "execution_count": 216,
   "metadata": {},
   "outputs": [],
   "source": [
    "# Remove stopwords.\n",
    "stop_words = set(stopwords.words('english'))\n",
    "songs['lyric'] = songs['lyric'].apply(lambda xs: [x for x in xs if x not in stop_words])"
   ]
  },
  {
   "cell_type": "code",
   "execution_count": 217,
   "metadata": {},
   "outputs": [],
   "source": [
    "# Lemmatize each word.\n",
    "lm = WordNetLemmatizer()\n",
    "songs['lyric'] = songs['lyric'].apply(lambda xs: [lm.lemmatize(x) for x in xs])"
   ]
  },
  {
   "cell_type": "code",
   "execution_count": 218,
   "metadata": {},
   "outputs": [
    {
     "data": {
      "text/html": [
       "<div>\n",
       "<style scoped>\n",
       "    .dataframe tbody tr th:only-of-type {\n",
       "        vertical-align: middle;\n",
       "    }\n",
       "\n",
       "    .dataframe tbody tr th {\n",
       "        vertical-align: top;\n",
       "    }\n",
       "\n",
       "    .dataframe thead th {\n",
       "        text-align: right;\n",
       "    }\n",
       "</style>\n",
       "<table border=\"1\" class=\"dataframe\">\n",
       "  <thead>\n",
       "    <tr style=\"text-align: right;\">\n",
       "      <th></th>\n",
       "      <th>album</th>\n",
       "      <th>track_title</th>\n",
       "      <th>lyric</th>\n",
       "      <th>total_count</th>\n",
       "    </tr>\n",
       "  </thead>\n",
       "  <tbody>\n",
       "    <tr>\n",
       "      <th>85</th>\n",
       "      <td>reputation</td>\n",
       "      <td>End Game (Ft. Ed Sheeran &amp; Future)</td>\n",
       "      <td>[future, wanna, end, game, wanna, first, strin...</td>\n",
       "      <td>719</td>\n",
       "    </tr>\n",
       "    <tr>\n",
       "      <th>8</th>\n",
       "      <td>1989</td>\n",
       "      <td>Out of the Woods</td>\n",
       "      <td>[looking, seems, simple, lying, couch, remembe...</td>\n",
       "      <td>652</td>\n",
       "    </tr>\n",
       "    <tr>\n",
       "      <th>9</th>\n",
       "      <td>1989</td>\n",
       "      <td>Shake It Off</td>\n",
       "      <td>[stay, late, got, nothing, brain, thats, peopl...</td>\n",
       "      <td>595</td>\n",
       "    </tr>\n",
       "    <tr>\n",
       "      <th>6</th>\n",
       "      <td>1989</td>\n",
       "      <td>I Wish You Would</td>\n",
       "      <td>[200, car, window, pas, street, memory, start,...</td>\n",
       "      <td>563</td>\n",
       "    </tr>\n",
       "    <tr>\n",
       "      <th>90</th>\n",
       "      <td>reputation</td>\n",
       "      <td>Look What You Made Me Do</td>\n",
       "      <td>[dont, like, little, game, dont, like, tilted,...</td>\n",
       "      <td>557</td>\n",
       "    </tr>\n",
       "  </tbody>\n",
       "</table>\n",
       "</div>"
      ],
      "text/plain": [
       "         album                         track_title  \\\n",
       "85  reputation  End Game (Ft. Ed Sheeran & Future)   \n",
       "8         1989                    Out of the Woods   \n",
       "9         1989                        Shake It Off   \n",
       "6         1989                    I Wish You Would   \n",
       "90  reputation            Look What You Made Me Do   \n",
       "\n",
       "                                                lyric  total_count  \n",
       "85  [future, wanna, end, game, wanna, first, strin...          719  \n",
       "8   [looking, seems, simple, lying, couch, remembe...          652  \n",
       "9   [stay, late, got, nothing, brain, thats, peopl...          595  \n",
       "6   [200, car, window, pas, street, memory, start,...          563  \n",
       "90  [dont, like, little, game, dont, like, tilted,...          557  "
      ]
     },
     "execution_count": 218,
     "metadata": {},
     "output_type": "execute_result"
    }
   ],
   "source": [
    "songs.sort_values(by = 'total_count', ascending = False).head()"
   ]
  },
  {
   "cell_type": "markdown",
   "metadata": {},
   "source": [
    "## Part III: Exploratory data analysis"
   ]
  },
  {
   "cell_type": "code",
   "execution_count": 184,
   "metadata": {},
   "outputs": [
    {
     "data": {
      "image/png": "[encoded data removed]",
      "text/plain": [
       "<matplotlib.figure.Figure at 0x210dcedceb8>"
      ]
     },
     "metadata": {
      "needs_background": "light"
     },
     "output_type": "display_data"
    }
   ],
   "source": [
    "# This scatterplot presents the lyrics counts of songs by album\n",
    "fig, ax = plt.subplots()\n",
    "fig.set_size_inches(10,6)\n",
    "album_title = ['Lover', 'reputation', '1989', 'Red', 'Speak Now', 'Fearless', 'Taylor Swift']\n",
    "for i in album_title:\n",
    "    ax.scatter(x = songs.loc[songs.album == i, 'total_count'], y = songs.loc[songs.album == i,'album'], alpha = 0.6)"
   ]
  },
  {
   "cell_type": "code",
   "execution_count": 193,
   "metadata": {},
   "outputs": [],
   "source": [
    "# We want to know how many unique non-stopword each song uses\n",
    "songs['unique_count'] = songs['lyric'].apply(lambda x: len(np.unique(x)))\n",
    "\n",
    "# Divide the unique_count by total_count to better understand how repetitive each song's lyrics is\n",
    "songs['sparsity'] = songs['unique_count']/songs['total_count']"
   ]
  },
  {
   "cell_type": "code",
   "execution_count": 195,
   "metadata": {},
   "outputs": [
    {
     "data": {
      "image/png": "[encoded data removed]",
      "text/plain": [
       "<matplotlib.figure.Figure at 0x210e31d9c18>"
      ]
     },
     "metadata": {
      "needs_background": "light"
     },
     "output_type": "display_data"
    }
   ],
   "source": [
    "# This scatterplot presents the lyrics sparsity of songs by album\n",
    "fig, ax = plt.subplots()\n",
    "fig.set_size_inches(10,6)\n",
    "album_title = ['Lover', 'reputation', '1989', 'Red', 'Speak Now', 'Fearless', 'Taylor Swift']\n",
    "for i in album_title:\n",
    "    ax.scatter(x = songs.loc[songs.album == i, 'sparsity'], y = songs.loc[songs.album == i,'album'], alpha = 0.6)"
   ]
  },
  {
   "cell_type": "code",
   "execution_count": 199,
   "metadata": {},
   "outputs": [
    {
     "data": {
      "text/plain": [
       "<matplotlib.legend.Legend at 0x210e2f98710>"
      ]
     },
     "execution_count": 199,
     "metadata": {},
     "output_type": "execute_result"
    },
    {
     "data": {
      "image/png": "[encoded data removed]",
      "text/plain": [
       "<matplotlib.figure.Figure at 0x210e2f986d8>"
      ]
     },
     "metadata": {
      "needs_background": "light"
     },
     "output_type": "display_data"
    }
   ],
   "source": [
    "# Plot total_count against sparsity\n",
    "fig, ax = plt.subplots()\n",
    "fig.set_size_inches(10,6)\n",
    "for i in album_title:\n",
    "    ax.scatter(x = songs.loc[songs.album == i, 'total_count'], y =songs.loc[songs.album == i, 'sparsity'], alpha = 0.6)\n",
    "ax.legend(album_title)"
   ]
  },
  {
   "cell_type": "code",
   "execution_count": 265,
   "metadata": {},
   "outputs": [],
   "source": [
    "# Write a csv file to store the data for visualization in Tableau\n",
    "songs[['album', 'track_title', 'total_count', 'unique_count', 'sparsity']].to_csv('ts_lyrics.csv')"
   ]
  },
  {
   "cell_type": "code",
   "execution_count": 202,
   "metadata": {},
   "outputs": [
    {
     "data": {
      "text/html": [
       "<div>\n",
       "<style scoped>\n",
       "    .dataframe tbody tr th:only-of-type {\n",
       "        vertical-align: middle;\n",
       "    }\n",
       "\n",
       "    .dataframe tbody tr th {\n",
       "        vertical-align: top;\n",
       "    }\n",
       "\n",
       "    .dataframe thead th {\n",
       "        text-align: right;\n",
       "    }\n",
       "</style>\n",
       "<table border=\"1\" class=\"dataframe\">\n",
       "  <thead>\n",
       "    <tr style=\"text-align: right;\">\n",
       "      <th></th>\n",
       "      <th>album</th>\n",
       "      <th>lyric</th>\n",
       "    </tr>\n",
       "  </thead>\n",
       "  <tbody>\n",
       "    <tr>\n",
       "      <th>0</th>\n",
       "      <td>Lover</td>\n",
       "      <td>[love, cruel, city, lived, everyone, looked, w...</td>\n",
       "    </tr>\n",
       "    <tr>\n",
       "      <th>1</th>\n",
       "      <td>reputation</td>\n",
       "      <td>[castle, crumbled, overnight, brought, knife, ...</td>\n",
       "    </tr>\n",
       "    <tr>\n",
       "      <th>2</th>\n",
       "      <td>1989</td>\n",
       "      <td>[people, like, always, want, back, love, gave,...</td>\n",
       "    </tr>\n",
       "    <tr>\n",
       "      <th>3</th>\n",
       "      <td>Red</td>\n",
       "      <td>[said, simple, way, 4, second, day, strange, d...</td>\n",
       "    </tr>\n",
       "    <tr>\n",
       "      <th>4</th>\n",
       "      <td>Speak Now</td>\n",
       "      <td>[still, remember, look, face, lit, darkness, 1...</td>\n",
       "    </tr>\n",
       "    <tr>\n",
       "      <th>5</th>\n",
       "      <td>Fearless</td>\n",
       "      <td>[take, deep, breath, walk, door, morning, firs...</td>\n",
       "    </tr>\n",
       "    <tr>\n",
       "      <th>6</th>\n",
       "      <td>Taylor Swift</td>\n",
       "      <td>[cant, see, way, eye, light, smile, shell, nev...</td>\n",
       "    </tr>\n",
       "  </tbody>\n",
       "</table>\n",
       "</div>"
      ],
      "text/plain": [
       "          album                                              lyric\n",
       "0         Lover  [love, cruel, city, lived, everyone, looked, w...\n",
       "1    reputation  [castle, crumbled, overnight, brought, knife, ...\n",
       "2          1989  [people, like, always, want, back, love, gave,...\n",
       "3           Red  [said, simple, way, 4, second, day, strange, d...\n",
       "4     Speak Now  [still, remember, look, face, lit, darkness, 1...\n",
       "5      Fearless  [take, deep, breath, walk, door, morning, firs...\n",
       "6  Taylor Swift  [cant, see, way, eye, light, smile, shell, nev..."
      ]
     },
     "execution_count": 202,
     "metadata": {},
     "output_type": "execute_result"
    }
   ],
   "source": [
    "albums = songs[['album', 'lyric']].groupby('album').agg({'lyric':lambda x: sum(x, [])}).reset_index()\n",
    "albums"
   ]
  },
  {
   "cell_type": "markdown",
   "metadata": {},
   "source": [
    "### Album lyrics"
   ]
  },
  {
   "cell_type": "code",
   "execution_count": 234,
   "metadata": {},
   "outputs": [],
   "source": [
    "albums['lyric'] = albums['lyric'].apply(lambda x: x.lower().split(sep = ' '))\n",
    "albums['lyric'] = albums['lyric'].apply(lambda xs: [x.translate(str.maketrans('', '', string.punctuation)) for x in xs if x not in [' ', '']])\n",
    "albums['total_count'] = albums['lyric'].apply(len)\n",
    "albums['lyric'] = albums['lyric'].apply(lambda xs: [x for x in xs if x not in stop_words])\n",
    "albums['lyric'] = albums['lyric'].apply(lambda xs: [lm.lemmatize(x) for x in xs])\n",
    "albums['unique_count'] = albums['lyric'].apply(lambda x: len(np.unique(x)))\n",
    "albums['sparsity'] = albums['unique_count']/albums['total_count']\n",
    "albums['freq'] = albums['lyric'].apply(collections.Counter)"
   ]
  },
  {
   "cell_type": "code",
   "execution_count": 237,
   "metadata": {},
   "outputs": [
    {
     "data": {
      "text/html": [
       "<div>\n",
       "<style scoped>\n",
       "    .dataframe tbody tr th:only-of-type {\n",
       "        vertical-align: middle;\n",
       "    }\n",
       "\n",
       "    .dataframe tbody tr th {\n",
       "        vertical-align: top;\n",
       "    }\n",
       "\n",
       "    .dataframe thead th {\n",
       "        text-align: right;\n",
       "    }\n",
       "</style>\n",
       "<table border=\"1\" class=\"dataframe\">\n",
       "  <thead>\n",
       "    <tr style=\"text-align: right;\">\n",
       "      <th></th>\n",
       "      <th>album</th>\n",
       "      <th>lyric</th>\n",
       "      <th>total_count</th>\n",
       "      <th>unique_count</th>\n",
       "      <th>sparsity</th>\n",
       "      <th>freq</th>\n",
       "    </tr>\n",
       "  </thead>\n",
       "  <tbody>\n",
       "    <tr>\n",
       "      <th>0</th>\n",
       "      <td>1989</td>\n",
       "      <td>[people, like, always, want, back, love, gave,...</td>\n",
       "      <td>6737</td>\n",
       "      <td>698</td>\n",
       "      <td>0.103607</td>\n",
       "      <td>{'people': 11, 'like': 42, 'always': 6, 'want'...</td>\n",
       "    </tr>\n",
       "    <tr>\n",
       "      <th>1</th>\n",
       "      <td>Fearless</td>\n",
       "      <td>[see, face, mind, drive, away, cause, none, u,...</td>\n",
       "      <td>4363</td>\n",
       "      <td>601</td>\n",
       "      <td>0.137749</td>\n",
       "      <td>{'see': 21, 'face': 2, 'mind': 4, 'drive': 4, ...</td>\n",
       "    </tr>\n",
       "    <tr>\n",
       "      <th>2</th>\n",
       "      <td>Lover</td>\n",
       "      <td>[many, day, spend, thinking, bout, wrong, wron...</td>\n",
       "      <td>6761</td>\n",
       "      <td>869</td>\n",
       "      <td>0.128531</td>\n",
       "      <td>{'many': 2, 'day': 5, 'spend': 1, 'thinking': ...</td>\n",
       "    </tr>\n",
       "    <tr>\n",
       "      <th>3</th>\n",
       "      <td>Red</td>\n",
       "      <td>[feel, like, perfect, night, dress, like, hips...</td>\n",
       "      <td>6326</td>\n",
       "      <td>779</td>\n",
       "      <td>0.123143</td>\n",
       "      <td>{'feel': 15, 'like': 91, 'perfect': 3, 'night'...</td>\n",
       "    </tr>\n",
       "    <tr>\n",
       "      <th>4</th>\n",
       "      <td>Speak Now</td>\n",
       "      <td>[im, glad, made, time, see, hows, life, tell, ...</td>\n",
       "      <td>6709</td>\n",
       "      <td>855</td>\n",
       "      <td>0.127441</td>\n",
       "      <td>{'im': 46, 'glad': 2, 'made': 10, 'time': 29, ...</td>\n",
       "    </tr>\n",
       "    <tr>\n",
       "      <th>5</th>\n",
       "      <td>Taylor Swift</td>\n",
       "      <td>[would, wanna, break, perfectly, good, heart, ...</td>\n",
       "      <td>3986</td>\n",
       "      <td>512</td>\n",
       "      <td>0.128450</td>\n",
       "      <td>{'would': 21, 'wanna': 21, 'break': 9, 'perfec...</td>\n",
       "    </tr>\n",
       "    <tr>\n",
       "      <th>6</th>\n",
       "      <td>reputation</td>\n",
       "      <td>[knew, killer, first, time, saw, wondered, man...</td>\n",
       "      <td>7121</td>\n",
       "      <td>792</td>\n",
       "      <td>0.111220</td>\n",
       "      <td>{'knew': 7, 'killer': 1, 'first': 30, 'time': ...</td>\n",
       "    </tr>\n",
       "  </tbody>\n",
       "</table>\n",
       "</div>"
      ],
      "text/plain": [
       "          album                                              lyric  \\\n",
       "0          1989  [people, like, always, want, back, love, gave,...   \n",
       "1      Fearless  [see, face, mind, drive, away, cause, none, u,...   \n",
       "2         Lover  [many, day, spend, thinking, bout, wrong, wron...   \n",
       "3           Red  [feel, like, perfect, night, dress, like, hips...   \n",
       "4     Speak Now  [im, glad, made, time, see, hows, life, tell, ...   \n",
       "5  Taylor Swift  [would, wanna, break, perfectly, good, heart, ...   \n",
       "6    reputation  [knew, killer, first, time, saw, wondered, man...   \n",
       "\n",
       "   total_count  unique_count  sparsity  \\\n",
       "0         6737           698  0.103607   \n",
       "1         4363           601  0.137749   \n",
       "2         6761           869  0.128531   \n",
       "3         6326           779  0.123143   \n",
       "4         6709           855  0.127441   \n",
       "5         3986           512  0.128450   \n",
       "6         7121           792  0.111220   \n",
       "\n",
       "                                                freq  \n",
       "0  {'people': 11, 'like': 42, 'always': 6, 'want'...  \n",
       "1  {'see': 21, 'face': 2, 'mind': 4, 'drive': 4, ...  \n",
       "2  {'many': 2, 'day': 5, 'spend': 1, 'thinking': ...  \n",
       "3  {'feel': 15, 'like': 91, 'perfect': 3, 'night'...  \n",
       "4  {'im': 46, 'glad': 2, 'made': 10, 'time': 29, ...  \n",
       "5  {'would': 21, 'wanna': 21, 'break': 9, 'perfec...  \n",
       "6  {'knew': 7, 'killer': 1, 'first': 30, 'time': ...  "
      ]
     },
     "execution_count": 237,
     "metadata": {},
     "output_type": "execute_result"
    }
   ],
   "source": [
    "albums"
   ]
  },
  {
   "cell_type": "code",
   "execution_count": 240,
   "metadata": {},
   "outputs": [],
   "source": [
    "test = albums.freq[0]"
   ]
  },
  {
   "cell_type": "code",
   "execution_count": 248,
   "metadata": {},
   "outputs": [],
   "source": [
    "test_k = sorted(test, key = test.get, reverse = True)[:20]"
   ]
  },
  {
   "cell_type": "code",
   "execution_count": 249,
   "metadata": {},
   "outputs": [],
   "source": [
    "test_v = [test.get(k) for k in test_k]"
   ]
  },
  {
   "cell_type": "code",
   "execution_count": 258,
   "metadata": {},
   "outputs": [],
   "source": [
    "test_df = pd.DataFrame({'word':test_k, 'freq':test_v})"
   ]
  },
  {
   "cell_type": "code",
   "execution_count": 275,
   "metadata": {},
   "outputs": [],
   "source": [
    "test = albums.lyric[0]"
   ]
  },
  {
   "cell_type": "markdown",
   "metadata": {},
   "source": [
    "1) Word counts by album + overall word counts\n",
    "2) TF-IDF by album + overall TF-IDF\n",
    "3) Relations among albums (similarity)\n",
    "4) Relations among songs (similarity)"
   ]
  }
 ],
 "metadata": {
  "kernelspec": {
   "display_name": "Python 3",
   "language": "python",
   "name": "python3"
  },
  "language_info": {
   "codemirror_mode": {
    "name": "ipython",
    "version": 3
   },
   "file_extension": ".py",
   "mimetype": "text/x-python",
   "name": "python",
   "nbconvert_exporter": "python",
   "pygments_lexer": "ipython3",
   "version": "3.6.4"
  }
 },
 "nbformat": 4,
 "nbformat_minor": 2
}
